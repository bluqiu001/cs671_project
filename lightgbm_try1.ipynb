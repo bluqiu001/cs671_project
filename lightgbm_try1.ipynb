{
 "cells": [
  {
   "cell_type": "code",
   "execution_count": 1,
   "metadata": {},
   "outputs": [],
   "source": [
    "from sklearn.model_selection import KFold\n",
    "from sklearn.metrics import accuracy_score\n",
    "import pandas as pd\n",
    "import numpy as np\n",
    "import lightgbm as lgb"
   ]
  },
  {
   "cell_type": "code",
   "execution_count": 2,
   "metadata": {},
   "outputs": [],
   "source": [
    "train_data = pd.read_csv('./train_noclean.csv')\n",
    "test_data = pd.read_csv('./test_noclean.csv')\n",
    "\n",
    "y_train = train_data.loc[:,'price']\n",
    "train_data = train_data.drop(columns='price')\n",
    "num_features = len(train_data.columns)\n",
    "features = list(train_data.columns[2:num_features])\n",
    "X_train = train_data.loc[:,features]\n",
    "\n",
    "features = list(test_data.columns[2:num_features])\n",
    "\n",
    "X_test = test_data.loc[:,features]\n",
    "test_labels = test_data.loc[:,'id']\n",
    "\n",
    "test_labels = test_labels.to_frame()"
   ]
  },
  {
   "cell_type": "code",
   "execution_count": 3,
   "metadata": {},
   "outputs": [],
   "source": [
    "def run_model(X_train, y_train, learn, max_depth, num_class, num_leaves, min_data_in_leaf, rounds):\n",
    "    params={}\n",
    "    params['learning_rate']=0.03\n",
    "    params['boosting_type']='gbdt' #GradientBoostingDecisionTree\n",
    "    params['objective']='multiclass' #Multi-class target feature\n",
    "    params['metric']='multi_error' #metric for multi-class\n",
    "    params['max_depth']=max_depth\n",
    "    params['num_class']=num_class\n",
    "    params['num_leaves']=num_leaves\n",
    "    clf=lgb.train(params,d_train,rounds)"
   ]
  },
  {
   "cell_type": "code",
   "execution_count": null,
   "metadata": {},
   "outputs": [],
   "source": [
    "from sklearn.model_selection import GridSearchCV, RandomizedSearchCV\n",
    "\n",
    "kf = KFold(n_splits = 10, shuffle=True)\n",
    "\n",
    "\n",
    "X = np.concatenate([X_train], axis= 0)\n",
    "y = np.concatenate([y_train], axis= 0)\n",
    "param_grid = {\n",
    "    'n_estimators': [100, 400, 700, 1000, 1500],\n",
    "    'colsample_bytree': [0.7, 0.8],\n",
    "    'max_depth': [15,20,25],\n",
    "    'num_leaves': [10, 20, 30, 40, 50],\n",
    "    'reg_lambda': [1.1, 1.2, 1.3],\n",
    "    'min_split_gain': [0.3, 0.4],\n",
    "    'subsample': [0.7, 0.8, 0.9],\n",
    "    'subsample_freq': [20], \n",
    "    'min_data_in_leaf': [15, 20, 25, 30]\n",
    "}\n",
    "lgb_estimator = lgb.LGBMClassifier(boosting_type='gbdt',  objective='multiclass', learning_rate=0.01, metric='multi_error')\n",
    "rsearch = RandomizedSearchCV(estimator=lgb_estimator, param_distributions=param_grid, cv=kf, n_iter = 100, n_jobs = -1, verbose=10)\n",
    "lgb_model = rsearch.fit(X=X, y=y)\n",
    "\n",
    "\n",
    "print(lgb_model.best_params_, lgb_model.best_score_)\n"
   ]
  },
  {
   "cell_type": "code",
   "execution_count": 7,
   "metadata": {},
   "outputs": [
    {
     "name": "stdout",
     "output_type": "stream",
     "text": [
      "0.5490196078431373\n",
      "0.5413223140495868\n",
      "0.5712809917355371\n",
      "0.5609504132231405\n",
      "0.5423553719008265\n",
      "0.5599173553719008\n",
      "0.5547520661157025\n",
      "0.5568181818181818\n",
      "0.5599173553719008\n",
      "0.5712809917355371\n"
     ]
    }
   ],
   "source": [
    "from sklearn.metrics import accuracy_score\n",
    "import lightgbm as lgb\n",
    "kf = KFold(n_splits = 10, shuffle=True)\n",
    "\n",
    "\n",
    "X = np.concatenate([X_train], axis= 0)\n",
    "y = np.concatenate([y_train], axis= 0)\n",
    "\n",
    "for train, test in kf.split(X_train):\n",
    "    X_train_kf, X_test_kf = X[train],X[test]\n",
    "    y_train_kf, y_test_kf = y[train],y[test]\n",
    "    d_train=lgb.Dataset(X_train_kf, label=y_train_kf)\n",
    "    best_param = {'verbose':-1,'boosting_type':'gbdt',  'objective':'multiclass', 'learning_rate':0.01, 'num_class':5, 'metric':'multi_error','subsample_freq': 20, 'subsample': 0.8, 'reg_lambda': 1.2, 'num_leaves': 40, 'n_estimators': 1000, 'min_split_gain': 0.4, 'min_data_in_leaf': 25, 'max_depth': 20, 'colsample_bytree': 0.7}\n",
    "    clf=lgb.train(best_param,d_train )\n",
    "    \n",
    "    y_pred=clf.predict(X_test_kf)\n",
    "    y_pred = [np.argmax(line) for line in y_pred]\n",
    "    print(accuracy_score(y_test_kf, y_pred))"
   ]
  },
  {
   "cell_type": "code",
   "execution_count": 8,
   "metadata": {},
   "outputs": [
    {
     "name": "stdout",
     "output_type": "stream",
     "text": [
      "[LightGBM] [Warning] Auto-choosing row-wise multi-threading, the overhead of testing was 0.002107 seconds.\n",
      "You can set `force_row_wise=true` to remove the overhead.\n",
      "And if memory is not enough, you can set `force_col_wise=true`.\n",
      "[LightGBM] [Info] Total Bins 1519\n",
      "[LightGBM] [Info] Number of data points in the train set: 9681, number of used features: 50\n",
      "[LightGBM] [Info] Start training from score -34.538776\n",
      "[LightGBM] [Info] Start training from score -1.385985\n",
      "[LightGBM] [Info] Start training from score -1.388052\n",
      "[LightGBM] [Info] Start training from score -1.367568\n",
      "[LightGBM] [Info] Start training from score -1.403905\n",
      "[LightGBM] [Warning] No further splits with positive gain, best gain: -inf\n",
      "[LightGBM] [Warning] No further splits with positive gain, best gain: -inf\n",
      "[LightGBM] [Warning] No further splits with positive gain, best gain: -inf\n",
      "[LightGBM] [Warning] No further splits with positive gain, best gain: -inf\n",
      "[LightGBM] [Warning] No further splits with positive gain, best gain: -inf\n",
      "[LightGBM] [Warning] No further splits with positive gain, best gain: -inf\n",
      "[LightGBM] [Warning] No further splits with positive gain, best gain: -inf\n",
      "[LightGBM] [Warning] No further splits with positive gain, best gain: -inf\n",
      "[LightGBM] [Warning] No further splits with positive gain, best gain: -inf\n",
      "[LightGBM] [Warning] No further splits with positive gain, best gain: -inf\n",
      "[LightGBM] [Warning] No further splits with positive gain, best gain: -inf\n",
      "[LightGBM] [Warning] No further splits with positive gain, best gain: -inf\n",
      "[LightGBM] [Warning] No further splits with positive gain, best gain: -inf\n",
      "[LightGBM] [Warning] No further splits with positive gain, best gain: -inf\n",
      "[LightGBM] [Warning] No further splits with positive gain, best gain: -inf\n",
      "[LightGBM] [Warning] No further splits with positive gain, best gain: -inf\n",
      "[LightGBM] [Warning] No further splits with positive gain, best gain: -inf\n",
      "[LightGBM] [Warning] No further splits with positive gain, best gain: -inf\n",
      "[LightGBM] [Warning] No further splits with positive gain, best gain: -inf\n",
      "[LightGBM] [Warning] No further splits with positive gain, best gain: -inf\n",
      "[LightGBM] [Warning] No further splits with positive gain, best gain: -inf\n",
      "[LightGBM] [Warning] No further splits with positive gain, best gain: -inf\n",
      "[LightGBM] [Warning] No further splits with positive gain, best gain: -inf\n",
      "[LightGBM] [Warning] No further splits with positive gain, best gain: -inf\n",
      "[LightGBM] [Warning] No further splits with positive gain, best gain: -inf\n",
      "[LightGBM] [Warning] No further splits with positive gain, best gain: -inf\n",
      "[LightGBM] [Warning] No further splits with positive gain, best gain: -inf\n",
      "[LightGBM] [Warning] No further splits with positive gain, best gain: -inf\n",
      "[LightGBM] [Warning] No further splits with positive gain, best gain: -inf\n",
      "[LightGBM] [Warning] No further splits with positive gain, best gain: -inf\n",
      "[LightGBM] [Warning] No further splits with positive gain, best gain: -inf\n",
      "[LightGBM] [Warning] No further splits with positive gain, best gain: -inf\n",
      "[LightGBM] [Warning] No further splits with positive gain, best gain: -inf\n"
     ]
    }
   ],
   "source": [
    "X = np.concatenate([X_train], axis= 0)\n",
    "y = np.concatenate([y_train], axis= 0)\n",
    "\n",
    "best_param = {'boosting_type':'gbdt',  'objective':'multiclass', 'learning_rate':0.01, 'num_class':5, 'metric':'multi_error','subsample_freq': 20, 'subsample': 0.8, 'reg_lambda': 1.2, 'num_leaves': 40, 'n_estimators': 1000, 'min_split_gain': 0.4, 'min_data_in_leaf': 25, 'max_depth': 20, 'colsample_bytree': 0.7}\n",
    "d_train=lgb.Dataset(X, y)\n",
    "clf=lgb.train(best_param,d_train)"
   ]
  },
  {
   "cell_type": "code",
   "execution_count": 9,
   "metadata": {},
   "outputs": [
    {
     "name": "stdout",
     "output_type": "stream",
     "text": [
      "0.8393760975105877\n"
     ]
    }
   ],
   "source": [
    "y_pred1=clf.predict(X)\n",
    "y_pred1 = [np.argmax(line) for line in y_pred1]\n",
    "print(accuracy_score(y, y_pred1))"
   ]
  },
  {
   "cell_type": "code",
   "execution_count": 10,
   "metadata": {},
   "outputs": [],
   "source": [
    "y_pred=clf.predict(X_test)"
   ]
  },
  {
   "cell_type": "code",
   "execution_count": 11,
   "metadata": {},
   "outputs": [
    {
     "name": "stdout",
     "output_type": "stream",
     "text": [
      "[[9.63501347e-16 1.65708195e-01 5.21646525e-01 2.54137479e-01\n",
      "  5.85078004e-02]\n",
      " [9.88058645e-16 6.23022411e-02 3.79039465e-01 4.62610231e-01\n",
      "  9.60480631e-02]\n",
      " [9.40101224e-16 2.29830443e-01 4.57659098e-01 2.62552010e-01\n",
      "  4.99584497e-02]\n",
      " ...\n",
      " [9.69967917e-16 7.50665617e-02 2.24979721e-01 4.05296374e-01\n",
      "  2.94657343e-01]\n",
      " [3.57829217e-16 9.08182000e-01 4.16185959e-02 3.26919409e-02\n",
      "  1.75074634e-02]\n",
      " [1.39995573e-15 1.31422473e-01 3.79822158e-01 3.36081396e-01\n",
      "  1.52673973e-01]]\n"
     ]
    }
   ],
   "source": [
    "print(y_pred)"
   ]
  },
  {
   "cell_type": "code",
   "execution_count": 12,
   "metadata": {},
   "outputs": [],
   "source": [
    "y_pred = [np.argmax(line) for line in y_pred]"
   ]
  },
  {
   "cell_type": "code",
   "execution_count": 13,
   "metadata": {},
   "outputs": [
    {
     "name": "stdout",
     "output_type": "stream",
     "text": [
      "[2, 3, 2, 2, 2, 4, 4, 1, 3, 2, 1, 1, 1, 3, 1, 1, 1, 2, 2, 4, 3, 2, 3, 4, 2, 4, 4, 4, 1, 4, 3, 3, 2, 1, 3, 4, 4, 1, 1, 1, 4, 4, 4, 1, 4, 4, 4, 1, 2, 2, 2, 3, 1, 1, 1, 3, 1, 4, 2, 3, 2, 4, 1, 3, 1, 4, 1, 4, 2, 3, 4, 3, 2, 3, 3, 2, 4, 3, 1, 1, 2, 3, 1, 3, 2, 4, 1, 3, 1, 1, 2, 4, 3, 2, 1, 4, 4, 2, 3, 2, 1, 1, 2, 4, 1, 1, 1, 3, 1, 1, 3, 1, 4, 3, 3, 3, 4, 4, 2, 1, 1, 4, 2, 1, 2, 3, 3, 1, 1, 4, 3, 3, 3, 3, 1, 4, 3, 4, 4, 2, 4, 3, 4, 4, 4, 3, 4, 4, 2, 4, 1, 1, 4, 2, 3, 2, 3, 3, 4, 1, 3, 2, 3, 4, 3, 3, 2, 4, 1, 1, 4, 1, 1, 4, 1, 2, 2, 4, 4, 3, 2, 4, 4, 2, 2, 3, 1, 3, 2, 3, 1, 2, 1, 3, 1, 1, 3, 1, 1, 1, 4, 3, 1, 1, 2, 3, 2, 3, 4, 3, 2, 1, 2, 2, 4, 3, 2, 3, 3, 4, 2, 4, 2, 1, 1, 3, 3, 4, 2, 4, 3, 3, 3, 3, 3, 4, 3, 2, 4, 1, 2, 1, 2, 2, 4, 2, 1, 2, 4, 4, 2, 1, 1, 1, 4, 1, 2, 2, 2, 3, 3, 2, 3, 1, 2, 1, 1, 1, 2, 2, 2, 4, 1, 1, 3, 3, 1, 1, 3, 3, 2, 2, 3, 4, 2, 2, 3, 3, 2, 4, 2, 3, 1, 2, 3, 1, 3, 2, 1, 4, 4, 3, 4, 1, 2, 3, 1, 1, 3, 3, 4, 2, 4, 1, 3, 4, 4, 1, 3, 4, 1, 1, 3, 2, 2, 3, 1, 1, 3, 2, 3, 3, 3, 2, 4, 1, 3, 3, 1, 2, 1, 2, 1, 3, 4, 3, 3, 2, 1, 3, 1, 1, 3, 1, 1, 4, 4, 3, 4, 2, 1, 1, 1, 1, 3, 1, 2, 4, 1, 1, 1, 3, 3, 3, 4, 4, 4, 3, 4, 2, 1, 3, 2, 3, 3, 2, 3, 4, 3, 1, 3, 3, 4, 1, 1, 2, 2, 3, 3, 4, 3, 2, 3, 2, 2, 1, 4, 3, 3, 1, 2, 2, 2, 4, 2, 1, 1, 2, 1, 1, 4, 4, 2, 4, 4, 1, 2, 2, 2, 4, 3, 1, 3, 4, 3, 1, 4, 4, 1, 3, 2, 2, 1, 4, 4, 3, 4, 1, 1, 3, 4, 4, 1, 2, 3, 4, 2, 4, 4, 4, 1, 1, 2, 4, 4, 2, 3, 4, 4, 3, 1, 1, 2, 3, 1, 1, 2, 3, 4, 2, 2, 4, 1, 3, 2, 3, 4, 1, 3, 1, 4, 2, 4, 4, 2, 1, 2, 4, 3, 1, 4, 4, 1, 2, 1, 2, 4, 3, 1, 4, 4, 3, 1, 3, 1, 4, 4, 4, 3, 2, 2, 4, 3, 3, 4, 3, 3, 2, 1, 2, 2, 2, 4, 4, 2, 4, 4, 1, 3, 4, 4, 1, 3, 2, 3, 4, 1, 4, 1, 1, 3, 4, 2, 3, 4, 4, 1, 2, 4, 1, 4, 1, 4, 3, 2, 2, 3, 3, 1, 1, 3, 2, 1, 4, 2, 1, 1, 1, 4, 2, 4, 3, 3, 3, 2, 2, 3, 4, 3, 3, 2, 4, 3, 4, 2, 2, 4, 1, 4, 1, 3, 4, 1, 1, 1, 2, 4, 1, 3, 3, 3, 4, 2, 1, 1, 3, 1, 1, 4, 4, 1, 2, 3, 4, 2, 3, 3, 2, 3, 4, 2, 3, 4, 4, 3, 4, 3, 2, 3, 1, 1, 4, 2, 1, 3, 1, 3, 4, 2, 2, 1, 2, 2, 1, 3, 3, 2, 1, 3, 2, 1, 3, 4, 1, 3, 4, 1, 3, 4, 2, 1, 1, 3, 3, 4, 3, 3, 2, 1, 2, 4, 4, 2, 4, 2, 1, 2, 4, 1, 1, 4, 1, 3, 1, 2, 2, 4, 1, 4, 2, 1, 4, 4, 1, 1, 1, 1, 3, 3, 2, 1, 4, 2, 1, 4, 3, 1, 4, 3, 2, 2, 4, 4, 4, 1, 4, 3, 4, 2, 3, 2, 3, 3, 3, 3, 1, 2, 4, 2, 4, 2, 4, 4, 2, 4, 2, 2, 3, 1, 2, 2, 3, 1, 4, 1, 3, 1, 2, 2, 3, 2, 3, 3, 3, 4, 3, 1, 1, 4, 1, 2, 4, 2, 3, 2, 2, 2, 3, 3, 3, 2, 1, 2, 1, 2, 4, 3, 4, 4, 2, 4, 1, 4, 3, 1, 1, 1, 2, 2, 4, 2, 4, 3, 1, 4, 4, 3, 4, 3, 1, 2, 3, 2, 3, 1, 4, 3, 4, 2, 1, 2, 3, 4, 4, 4, 2, 3, 4, 2, 1, 3, 1, 3, 4, 1, 4, 1, 4, 2, 1, 4, 4, 1, 4, 4, 4, 1, 3, 3, 2, 2, 3, 4, 4, 2, 4, 1, 4, 1, 4, 4, 2, 3, 1, 1, 2, 1, 3, 1, 3, 1, 4, 1, 3, 2, 3, 1, 1, 4, 4, 2, 1, 2, 3, 1, 3, 2, 3, 3, 1, 4, 3, 2, 1, 3, 4, 2, 2, 1, 4, 2, 1, 4, 2, 4, 2, 4, 1, 1, 3, 4, 2, 3, 3, 3, 2, 4, 3, 2, 4, 4, 2, 3, 2, 4, 1, 1, 1, 1, 2, 1, 1, 1, 4, 1, 1, 3, 3, 3, 4, 4, 1, 1, 2, 3, 1, 3, 1, 1, 3, 3, 4, 1, 1, 1, 3, 2, 3, 2, 4, 1, 3, 4, 1, 3, 3, 1, 3, 1, 2, 3, 1, 4, 3, 4, 4, 2, 3, 3, 4, 4, 1, 3, 2, 3, 3, 3, 2, 2, 1, 2, 2, 3, 3, 1, 2, 4, 2, 3, 4, 2, 2, 3, 2, 2, 4, 3, 4, 4, 3, 2, 4, 3, 2, 1, 4, 4, 2, 2, 3, 1, 3, 2, 4, 3, 2, 1, 2, 4, 1, 3, 3, 1, 3, 3, 1, 2, 2, 2, 1, 3, 3, 4, 3, 3, 1, 1, 4, 3, 4, 2, 2, 1, 3, 1, 1, 1, 1, 1, 1, 1, 2, 4, 1, 2, 2, 3, 2, 2, 3, 1, 2, 1, 3, 3, 3, 2, 1, 4, 2, 2, 1, 3, 4, 2, 2, 4, 2, 4, 4, 4, 1, 4, 1, 3, 2, 3, 3, 1, 2, 2, 4, 1, 1, 2, 1, 1, 1, 2, 4, 1, 4, 3, 4, 1, 1, 4, 3, 3, 1, 1, 4, 3, 1, 1, 2, 3, 2, 2, 1, 4, 2, 4, 1, 1, 4, 3, 1, 4, 3, 1, 2, 2, 3, 4, 2, 1, 2, 4, 1, 2, 3, 2, 4, 3, 2, 1, 3, 1, 4, 3, 3, 2, 1, 1, 2, 1, 1, 1, 4, 4, 4, 2, 2, 2, 1, 2, 1, 3, 3, 1, 1, 3, 2, 3, 2, 2, 3, 4, 4, 3, 3, 1, 4, 3, 1, 1, 2, 4, 3, 2, 4, 3, 3, 3, 4, 1, 1, 1, 1, 3, 3, 3, 4, 3, 1, 1, 1, 1, 1, 3, 2, 1, 2, 1, 2, 4, 2, 4, 2, 3, 1, 3, 4, 1, 1, 3, 3, 1, 4, 4, 1, 3, 2, 1, 2, 3, 1, 2, 1, 2, 3, 4, 3, 4, 1, 4, 3, 4, 3, 2, 1, 1, 3, 2, 3, 2, 3, 2, 3, 1, 3, 2, 2, 3, 3, 1, 1, 4, 2, 1, 3, 1, 1, 3, 4, 2, 4, 3, 1, 2, 2, 2, 2, 4, 3, 2, 3, 4, 4, 3, 2, 1, 1, 4, 2, 2, 4, 1, 1, 3, 2, 2, 2, 3, 2, 2, 4, 3, 1, 2, 3, 4, 2, 1, 1, 3, 3, 2, 4, 3, 3, 2, 4, 1, 2, 1, 4, 2, 2, 1, 3, 3, 3, 2, 3, 2, 2, 4, 3, 1, 3, 1, 1, 2, 3, 1, 1, 2, 1, 4, 1, 4, 2, 4, 4, 4, 2, 3, 4, 3, 3, 2, 3, 3, 2, 3, 1, 1, 4, 2, 3, 2, 3, 1, 1, 1, 4, 4, 2, 3, 4, 3, 1, 3, 3, 4, 2, 2, 1, 2, 3, 2, 3, 2, 3, 2, 4, 3, 1, 2, 2, 2, 4, 3, 3, 2, 2, 1, 2, 3, 2, 1, 1, 4, 3, 4, 2, 4, 2, 3, 2, 3, 3, 1, 1, 2, 1, 2, 4, 4, 2, 4, 3, 4, 1, 2, 1, 4, 3, 1, 3, 4, 1, 3, 1, 2, 1, 1, 4, 2, 4, 4, 1, 3, 1, 4, 2, 1, 1, 3, 1, 2, 2, 1, 4, 2, 2, 3, 3, 2, 1, 3, 3, 4, 3, 3, 3, 3, 2, 3, 1, 3, 4, 3, 4, 3, 2, 3, 2, 1, 3, 1, 1, 1, 1, 1, 3, 2, 3, 3, 2, 3, 1, 3, 2, 3, 2, 2, 1, 3, 4, 2, 1, 1, 2, 1, 3, 4, 1, 1, 1, 2, 3, 1, 4, 3, 3, 1, 2, 4, 4, 3, 3, 3, 4, 3, 2, 4, 3, 3, 2, 4, 4, 3, 2, 3, 2, 2, 1, 2, 4, 1, 4, 3, 2, 1, 4, 3, 4, 3, 2, 2, 4, 3, 1, 1, 4, 3, 2, 4, 2, 4, 1, 2, 1, 3, 4, 2, 1, 3, 4, 4, 4, 1, 1, 2, 4, 2, 1, 2, 4, 2, 2, 1, 1, 4, 2, 1, 4, 2, 1, 4, 2, 2, 1, 3, 2, 3, 2, 1, 4, 1, 4, 1, 2, 3, 4, 3, 4, 3, 2, 4, 3, 1, 3, 3, 4, 3, 3, 3, 4, 1, 1, 3, 1, 1, 4, 1, 3, 1, 4, 1, 4, 4, 2, 3, 1, 1, 2, 2, 3, 3, 4, 4, 1, 2, 2, 3, 1, 4, 3, 2, 1, 2, 3, 2, 4, 4, 1, 1, 4, 1, 4, 3, 1, 3, 4, 4, 1, 3, 4, 3, 2, 4, 4, 2, 2, 2, 2, 3, 1, 1, 3, 4, 3, 4, 2, 1, 3, 1, 3, 2, 1, 2, 3, 4, 2, 4, 2, 3, 3, 1, 1, 3, 2, 3, 4, 2, 3, 3, 1, 2, 4, 2, 2, 4, 2, 1, 1, 3, 3, 3, 2, 2, 1, 1, 2, 1, 1, 1, 3, 4, 4, 4, 3, 3, 2, 3, 1, 3, 3, 3, 2, 2, 4, 2, 1, 4, 1, 4, 2, 3, 3, 1, 1, 1, 2, 4, 4, 2, 1, 3, 1, 2, 1, 3, 3, 1, 3, 3, 4, 3, 4, 2, 4, 4, 3, 4, 2, 3, 4, 1, 1, 1, 3, 4, 3, 3, 3, 1, 3, 4, 4, 1, 4, 2, 4, 1, 2, 2, 4, 2, 2, 4, 4, 4, 2, 4, 3, 1, 3, 1, 2, 4, 1, 3, 4, 1, 2, 3, 4, 2, 1, 1, 4, 1, 1, 3, 3, 4, 1, 2, 2, 3, 1, 3, 4, 4, 2, 4, 4, 3, 3, 1, 3, 1, 4, 2, 4, 2, 2, 4, 2, 4, 2, 1, 1, 3, 3, 2, 4, 4, 4, 1, 1, 3, 4, 1, 4, 3, 1, 4, 3, 2, 3, 2, 4, 2, 1, 2, 2, 3, 3, 4, 1, 3, 1, 2, 4, 4, 3, 1, 4, 4, 4, 1, 3, 3, 4, 4, 1, 1, 2, 2, 4, 2, 3, 2, 1, 2, 3, 1, 4, 3, 1, 1, 2, 4, 2, 4, 1, 4, 4, 1, 2, 2, 3, 4, 2, 2, 2, 3, 1, 2, 3, 4, 2, 2, 3, 4, 2, 2, 3, 2, 1, 1, 1, 3, 1, 4, 3, 4, 3, 3, 1, 1, 1, 4, 1, 3, 3, 2, 1, 1, 4, 4, 1, 2, 3, 3, 1, 2, 3, 3, 3, 4, 3, 1, 4, 3, 4, 1, 2, 3, 1, 1, 4, 4, 1, 3, 2, 4, 3, 3, 2, 3, 1, 4, 3, 3, 2, 4, 2, 3, 4, 4, 4, 3, 1, 4, 3, 3, 1, 3, 1, 4, 1, 1, 3, 1, 4, 1, 3, 4, 3, 2, 2, 3, 3, 2, 2, 1, 4, 1, 2, 2, 4, 2, 1, 3, 2, 3, 2, 2, 4, 1, 4, 4, 1, 4, 3, 4, 3, 2, 1, 4, 1, 4, 2, 3, 3, 4, 2, 3, 1, 1, 2, 3, 3, 4, 1, 3, 4, 3, 4, 4, 1, 4, 3, 1, 4, 3, 4, 4, 3, 1, 3, 2, 1, 2, 4, 4, 1, 4, 1, 1, 2, 4, 3, 3, 1, 2, 1, 2, 1, 2, 3, 1, 1, 2, 2, 3, 1, 1, 2, 4, 1, 3, 4, 1, 2, 4, 1, 1, 4, 3, 2, 1, 4, 1, 1, 2, 4, 4, 4, 3, 4, 3, 1, 1, 2, 4, 1, 4, 1, 3, 2, 1, 3, 2, 2, 2, 4, 2, 3, 1, 2, 2, 2, 3, 3, 3, 1, 4, 3, 1, 3, 1, 2, 1, 3, 4, 3, 1, 1, 4, 3, 2, 1, 2, 4, 2, 4, 1, 4, 2, 2, 2, 3, 4, 4, 1, 3, 3, 1, 3, 2, 3, 1, 4, 1, 3, 4, 3, 1, 2, 3, 3, 1, 2, 1, 1, 4, 3, 3, 4, 2, 1, 4, 4, 4, 4, 4, 1, 3, 1, 4, 4, 1, 3, 1, 1, 3, 1, 2, 4, 2, 3, 2, 2, 2, 4, 3, 3, 1, 3, 2, 3, 4, 4, 1, 2, 2, 2, 2, 3, 3, 3, 4, 3, 3, 2, 4, 4, 4, 3, 4, 4, 1, 4, 4, 2, 1, 2, 1, 2, 4, 3, 3, 1, 1, 4, 3, 1, 4, 4, 4, 3, 3, 2, 1, 1, 3, 2, 2, 2, 3, 3, 2, 2, 1, 1, 4, 2, 2, 2, 1, 1, 1, 4, 3, 4, 4, 1, 4, 4, 4, 1, 2, 2, 3, 3, 4, 1, 4, 4, 4, 1, 3, 3, 4, 3, 4, 4, 3, 4, 4, 2, 2, 3, 2, 4, 1, 4, 4, 2, 2, 4, 4, 1, 3, 4, 2, 2, 3, 1, 4, 1, 3, 3, 1, 1, 2, 3, 4, 3, 1, 1, 1, 1, 4, 4, 3, 1, 3, 3, 4, 4, 2, 1, 1, 1, 2, 2, 4, 3, 2, 1, 3, 3, 2, 1, 3, 1, 3, 2, 1, 1, 1, 3, 4, 3, 2, 3, 3, 4, 4, 4, 1, 1, 3, 1, 2, 4, 1, 1, 2, 4, 1, 3, 3, 1, 2, 1, 3, 4, 1, 1, 3, 4, 1, 2, 2, 2, 3, 3, 3, 4, 1, 4, 4, 2, 2, 1, 1, 3, 1, 3, 4, 3, 3, 2, 4, 2, 4, 3, 1, 3, 4, 1, 2, 3, 2, 1, 2, 1, 1, 3, 2, 2, 4, 1, 3, 4, 3, 3, 1, 3, 3, 3, 2, 2, 4, 4, 1, 3, 2, 2, 4, 1, 2, 1, 2, 1, 4, 3, 3, 3, 3, 1, 4, 4, 4, 4, 1, 4, 3, 2, 3, 2, 4, 2, 2, 3, 2, 1, 3, 4, 3, 3, 3, 4, 3, 1, 1, 3, 1, 2, 4, 1, 3, 4, 3, 4, 1, 1, 1, 1, 4, 4, 3, 3, 1, 3, 2, 1, 4, 2, 2, 3, 3, 2, 2, 4, 4, 3, 2, 3, 3, 3, 2, 1, 3, 1, 3, 2, 3, 4, 4, 3, 4, 1, 4, 4, 4, 1, 3, 3, 3, 1, 3, 4, 4, 1, 3, 2, 3, 3, 1, 1, 1, 4, 1, 4, 4, 3, 3, 2, 3, 1, 3, 3, 4, 4, 2, 4, 4, 1, 2, 2, 3, 2, 1, 1, 1, 2, 1, 3, 2, 1, 1, 3, 3, 4, 3, 1, 4, 1, 3, 1, 2, 3, 3, 3, 1, 3, 2, 1, 1, 2, 3, 1, 2, 3, 2, 2, 3, 1, 1, 4, 2, 2, 2, 1, 1, 3, 4, 2, 4, 1, 1, 3, 4, 2, 3, 4, 4, 3, 4, 2, 2, 1, 2, 2, 4, 2, 4, 3, 4, 1, 4, 3, 3, 4, 2, 2, 4, 2, 2, 2, 4, 3, 4, 1, 3, 3, 3, 1, 1, 1, 2, 3, 3, 4, 3, 2, 1, 1, 2, 2, 2, 4, 3, 2, 2, 4, 1, 1, 2, 3, 2, 1, 2, 3, 1, 3, 4, 4, 3, 2, 3, 3, 4, 4, 4, 2, 2, 3, 2, 4, 2, 1, 4, 1, 1, 3, 2, 4, 3, 2, 3, 1, 3, 3, 2, 3, 2, 4, 3, 2, 4, 4, 4, 1, 2, 2, 4, 1, 1, 1, 1, 3, 1, 2, 4, 2, 1, 4, 4, 3, 2, 4, 2, 2, 4, 1, 2, 2, 2, 1, 4, 3, 3, 2, 1, 4, 2, 4, 2, 4, 4, 2, 3, 2, 3, 1, 2, 2, 4, 1, 2, 1, 3, 2, 1, 4, 4, 2, 4, 4, 1, 4, 2, 3, 1, 4, 2, 1, 3, 3, 3, 3, 2, 1, 1, 3, 1, 2, 2, 1, 2, 4, 1, 2, 3, 2, 2, 1, 3, 1, 2, 1, 4, 1, 4, 2, 4, 1, 4, 4, 2, 4, 1, 2, 2, 1, 3, 2, 2, 3, 3, 3, 3, 1, 2, 2, 3, 2, 3, 1, 4, 2, 2, 2, 3, 1, 3, 3, 3, 4, 1, 1, 1, 3, 3, 2, 1, 4, 4, 2, 1, 2, 2, 2, 4, 4, 4, 3, 4, 2, 3, 4, 1, 4, 2, 2, 2, 3, 2, 2, 4, 3, 1, 3, 4, 4, 1, 1, 1, 4, 2, 1, 2, 1, 4, 2, 4, 3, 2, 1, 3, 4, 3, 2, 2, 2, 1, 4, 3, 4, 3, 1, 1, 1, 4, 2, 4, 3, 3, 2, 1, 1, 1, 2, 3, 2, 2, 4, 3, 4, 4, 3, 2, 3, 4, 3, 4, 4, 3, 3, 4, 1, 4, 4, 3, 3, 1, 4, 1, 3, 2, 1, 1, 3, 2, 1, 1, 4, 4, 1, 3, 2, 4, 1, 4, 3, 1, 1, 1, 2, 1, 2, 3, 1, 3, 2, 2, 2, 4, 2, 4, 1, 2, 4, 2, 2, 3, 2, 3, 2, 4, 4, 3, 1, 1, 3, 2, 2, 4, 3, 4, 2, 1, 3, 4, 3, 3, 3, 3, 2, 2, 3, 3, 1, 3, 3, 2, 2, 2, 4, 2, 2, 2, 2, 3, 2, 4, 2, 2, 2, 2, 2, 2, 4, 2, 3, 2, 3, 2, 1, 1, 1, 4, 4, 1, 4, 3, 4, 4, 2, 2, 2, 2, 3, 3, 4, 4, 1, 1, 3, 4, 4, 3, 2, 4, 1, 1, 4, 2, 1, 2, 4, 3, 1, 2, 3, 1, 2, 1, 3, 3, 2, 1, 4, 2, 4, 2, 4, 2, 1, 4, 2, 1, 2, 3, 2, 3, 3, 2, 4, 4, 3, 2, 1, 3, 4, 1, 2, 4, 2, 2, 4, 2, 1, 3, 4, 1, 1, 1, 4, 3, 2, 2, 2, 3, 1, 3, 3, 3, 2, 2, 2, 4, 1, 4, 2, 3, 3, 3, 1, 3, 2, 1, 3, 3, 4, 2, 1, 3, 1, 4, 3, 3, 4, 4, 1, 3, 2, 3, 1, 2, 4, 3, 2, 4, 1, 1, 3, 3, 4, 4, 3, 2, 1, 2, 1, 4, 3, 1, 2, 3, 2, 2, 4, 3, 2, 1, 1, 1, 2, 2, 4, 1, 2, 3, 3, 4, 1, 4, 2, 1, 2, 1, 1, 2, 1, 3, 1, 1, 3, 3, 4, 3, 3, 4, 1, 4, 2, 3, 4, 2, 1, 3, 3, 2, 2, 1, 4, 3, 1, 1, 1, 1, 3, 2, 1, 3, 4, 3, 4, 1, 2, 1, 2, 3, 1, 1, 3, 4, 3, 3, 2, 3, 1, 2, 1, 4, 2, 2, 2, 4, 2, 3, 2, 4, 1, 4, 1, 1, 2, 3, 2, 4, 4, 1, 1, 4, 4, 4, 2, 3, 4, 4, 1, 4, 1, 4, 3, 4, 4, 4, 1, 2, 2, 4, 3, 4, 2, 2, 2, 2, 4, 2, 3, 2, 2, 4, 4, 4, 4, 3, 3, 2, 2, 2, 4, 4, 1, 3, 2, 4, 1, 1, 4, 3, 2, 3, 4, 1, 4, 4, 3, 4, 1, 2, 2, 2, 3, 3, 4, 3, 2, 4, 3, 2, 3, 4, 2, 3, 2, 1, 2, 2, 1, 3, 1, 1, 3, 2, 3, 2, 1, 3, 1, 2, 1, 4, 3, 4, 3, 2, 4, 4, 2, 1, 1, 2, 3, 4, 1, 1, 1, 3, 3, 1, 2, 2, 4, 3, 3, 1, 4, 3, 2, 4, 4, 4, 1, 3, 2, 3, 2, 1, 1, 4, 1, 2, 3, 1, 1, 4, 1, 2, 2, 4, 4, 3, 3, 2, 1, 4, 3, 4, 2, 2, 4, 4, 3, 1, 1, 1, 2, 4, 3, 4, 2, 1, 3, 2, 3, 2, 3, 1, 1, 3, 4, 2, 2, 3, 4, 2, 2, 3, 2, 1, 3, 4, 3, 1, 1, 1, 1, 4, 4, 2, 2, 4, 3, 4, 1, 3, 2, 1, 3, 2, 4, 2, 2, 2, 2, 1, 3, 4, 1, 4, 1, 2, 2, 3, 3, 1, 3, 2, 2, 1, 2, 3, 2, 2, 3, 1, 1, 2, 3, 3, 3, 2, 2, 1, 1, 1, 3, 4, 2, 2, 3, 3, 2, 2, 2, 3, 1, 1, 3, 1, 3, 2, 4, 4, 4, 3, 3, 3, 2, 3, 3, 2, 2, 1, 3, 2, 1, 2, 2, 1, 1, 2, 3, 3, 3, 1, 1, 1, 2, 2, 4, 2, 1, 4, 4, 3, 1, 1, 2, 4, 3, 2, 4, 1, 4, 4, 4, 4, 4, 2, 4, 1, 4, 3, 2, 1, 2, 2, 2, 4, 1, 3, 2, 1, 3, 4, 1, 4, 3, 3, 3, 3, 2, 4, 3, 4, 2, 4, 1, 3, 2, 3, 1, 4, 4, 1, 4, 3, 1, 1, 3, 3, 1, 4, 3, 2, 2, 1, 3, 2, 3, 3, 4, 4, 2, 3, 4, 3, 3, 4, 2, 1, 3, 4, 4, 4, 1, 2, 1, 2, 1, 2, 1, 3, 4, 2, 4, 1, 3, 2, 2, 1, 1, 1, 2, 2, 1, 4, 4, 3, 3, 2, 1, 1, 4, 1, 4, 2, 3, 2, 1, 2, 1, 4, 2, 3, 1, 2, 3, 2, 3, 4, 1, 2, 1, 1, 4, 1, 1, 3, 3, 1, 3, 4, 3, 1, 3, 3, 1, 4, 3, 3, 1, 1, 2, 4, 4, 2, 4, 3, 4, 1, 4, 4, 1, 3, 3, 2, 1, 3, 1, 4, 3, 3, 1, 1, 4, 1, 2, 2, 2, 2, 2, 4, 2, 2, 4, 1, 2, 4, 2, 3, 3, 3, 1, 1, 1, 4, 2, 4, 1, 4, 4, 3, 1, 3, 4, 1, 3, 2, 3, 4, 3, 4, 3, 1, 2, 1, 3, 2, 2, 1, 3, 3, 3, 1, 3, 4, 1, 3, 4, 1, 1, 2, 4, 4, 3, 1, 4, 1, 1, 3, 1, 3, 2, 4, 1, 1, 2, 2, 2, 3, 1, 4, 1, 2, 4, 2, 4, 3, 2, 4, 4, 2, 3, 2, 1, 4, 2, 2, 3, 4, 3, 2, 3, 2, 1, 1, 3, 1, 1, 4, 3, 3, 3, 3, 4, 4, 3, 2, 3, 3, 1, 3, 3, 3, 1, 1, 2, 2, 4, 2, 3, 1, 2, 4, 4, 1, 3, 1, 4, 3, 3, 2, 3, 3, 2, 2, 1, 1, 3, 3, 2, 2, 3, 1, 1, 1, 3, 2, 2, 2, 2, 2, 3, 3, 1, 3, 4, 1, 4, 2, 4, 1, 2, 3, 2, 1, 2, 2, 2, 1, 3, 1, 3, 3, 4, 3, 3, 3, 3, 2, 2, 1, 1, 4, 2, 4, 3, 4, 2, 2, 3, 1, 2, 3, 2, 3, 1, 2, 3, 1, 3, 4, 3, 3, 4, 1, 3, 1, 1, 3, 2, 4, 2, 3, 2, 1, 3, 2, 1, 4, 2, 4, 4, 2, 3, 3, 2, 1, 4, 1, 4, 1, 3, 4, 3, 2, 4, 1, 1, 4, 3, 2, 3, 2, 3, 1, 3, 1, 4, 1, 4, 1, 3, 1, 4, 3, 3, 3, 2, 4, 4, 1, 4, 2, 2, 1, 2, 4, 4, 3, 3, 1, 2, 3, 2, 1, 3, 1, 4, 3, 1, 1, 2, 2, 1, 4, 4, 4, 3, 1, 2, 1, 4, 3, 1, 1, 1, 1, 4, 1, 3, 3, 1, 4, 4, 4, 3, 3, 1, 2, 4, 3, 4, 3, 2, 4, 4, 4, 2, 3, 1, 2, 3, 1, 1, 3, 2, 1, 2, 4, 2, 4, 1, 1, 2, 2, 2, 2, 2, 2, 1, 2, 3, 2, 3, 3, 2, 1, 3, 1, 2]\n"
     ]
    }
   ],
   "source": [
    "print(y_pred)"
   ]
  },
  {
   "cell_type": "code",
   "execution_count": 14,
   "metadata": {},
   "outputs": [],
   "source": [
    "df = pd.DataFrame\n",
    "test_labels['price'] = y_pred\n",
    "\n",
    "test_labels['price'] = test_labels['price'].map(lambda x: int(x))"
   ]
  },
  {
   "cell_type": "code",
   "execution_count": 15,
   "metadata": {},
   "outputs": [
    {
     "data": {
      "text/html": [
       "<div>\n",
       "<style scoped>\n",
       "    .dataframe tbody tr th:only-of-type {\n",
       "        vertical-align: middle;\n",
       "    }\n",
       "\n",
       "    .dataframe tbody tr th {\n",
       "        vertical-align: top;\n",
       "    }\n",
       "\n",
       "    .dataframe thead th {\n",
       "        text-align: right;\n",
       "    }\n",
       "</style>\n",
       "<table border=\"1\" class=\"dataframe\">\n",
       "  <thead>\n",
       "    <tr style=\"text-align: right;\">\n",
       "      <th></th>\n",
       "      <th>id</th>\n",
       "      <th>price</th>\n",
       "    </tr>\n",
       "  </thead>\n",
       "  <tbody>\n",
       "    <tr>\n",
       "      <th>0</th>\n",
       "      <td>7715</td>\n",
       "      <td>2</td>\n",
       "    </tr>\n",
       "    <tr>\n",
       "      <th>1</th>\n",
       "      <td>13196</td>\n",
       "      <td>3</td>\n",
       "    </tr>\n",
       "    <tr>\n",
       "      <th>2</th>\n",
       "      <td>13194</td>\n",
       "      <td>2</td>\n",
       "    </tr>\n",
       "    <tr>\n",
       "      <th>3</th>\n",
       "      <td>4673</td>\n",
       "      <td>2</td>\n",
       "    </tr>\n",
       "    <tr>\n",
       "      <th>4</th>\n",
       "      <td>11325</td>\n",
       "      <td>2</td>\n",
       "    </tr>\n",
       "    <tr>\n",
       "      <th>...</th>\n",
       "      <td>...</td>\n",
       "      <td>...</td>\n",
       "    </tr>\n",
       "    <tr>\n",
       "      <th>4144</th>\n",
       "      <td>12921</td>\n",
       "      <td>2</td>\n",
       "    </tr>\n",
       "    <tr>\n",
       "      <th>4145</th>\n",
       "      <td>7174</td>\n",
       "      <td>1</td>\n",
       "    </tr>\n",
       "    <tr>\n",
       "      <th>4146</th>\n",
       "      <td>9240</td>\n",
       "      <td>3</td>\n",
       "    </tr>\n",
       "    <tr>\n",
       "      <th>4147</th>\n",
       "      <td>11663</td>\n",
       "      <td>1</td>\n",
       "    </tr>\n",
       "    <tr>\n",
       "      <th>4148</th>\n",
       "      <td>4513</td>\n",
       "      <td>2</td>\n",
       "    </tr>\n",
       "  </tbody>\n",
       "</table>\n",
       "<p>4149 rows × 2 columns</p>\n",
       "</div>"
      ],
      "text/plain": [
       "         id  price\n",
       "0      7715      2\n",
       "1     13196      3\n",
       "2     13194      2\n",
       "3      4673      2\n",
       "4     11325      2\n",
       "...     ...    ...\n",
       "4144  12921      2\n",
       "4145   7174      1\n",
       "4146   9240      3\n",
       "4147  11663      1\n",
       "4148   4513      2\n",
       "\n",
       "[4149 rows x 2 columns]"
      ]
     },
     "execution_count": 15,
     "metadata": {},
     "output_type": "execute_result"
    }
   ],
   "source": [
    "test_labels"
   ]
  },
  {
   "cell_type": "code",
   "execution_count": 16,
   "metadata": {},
   "outputs": [],
   "source": [
    "test_labels.to_csv(r'./submission7.csv', index=False)"
   ]
  },
  {
   "cell_type": "code",
   "execution_count": null,
   "metadata": {},
   "outputs": [],
   "source": [
    "from sklearn.model_selection import GridSearchCV\n",
    "\n",
    "kf = KFold(n_splits = 10, shuffle=True)\n",
    "\n",
    "\n",
    "X = np.concatenate([X_train], axis= 0)\n",
    "y = np.concatenate([y_train], axis= 0)\n",
    "param_grid = {\n",
    "    'n_estimators': [100, 400, 700, 1000],\n",
    "    'colsample_bytree': [0.7, 0.8],\n",
    "    'max_depth': [8,10,20],\n",
    "    'num_leaves': [15, 100, 200],\n",
    "    'reg_alpha': [1.1, 1.2, 1.3],\n",
    "    'reg_lambda': [1.1, 1.2, 1.3],\n",
    "    'min_split_gain': [0.3, 0.4],\n",
    "    'subsample': [0.7, 0.8, 0.9],\n",
    "    'subsample_freq': [20]\n",
    "}\n",
    "lgb_estimator = lgb.LGBMClassifier(boosting_type='gbdt',  objective='multiclass', learning_rate=0.01, metric='multi_error')\n",
    "gsearch = GridSearchCV(estimator=lgb_estimator, param_grid=param_grid, cv=kf, verbose=2, n_jobs=-1)\n",
    "lgb_model = gsearch.fit(X=X, y=y)\n",
    "\n",
    "\n",
    "print(lgb_model.best_params_, lgb_model.best_score_)\n"
   ]
  },
  {
   "cell_type": "code",
   "execution_count": null,
   "metadata": {},
   "outputs": [],
   "source": []
  }
 ],
 "metadata": {
  "environment": {
   "name": "common-cpu.m59",
   "type": "gcloud",
   "uri": "gcr.io/deeplearning-platform-release/base-cpu:m59"
  },
  "kernelspec": {
   "display_name": "Python 3",
   "language": "python",
   "name": "python3"
  },
  "language_info": {
   "codemirror_mode": {
    "name": "ipython",
    "version": 3
   },
   "file_extension": ".py",
   "mimetype": "text/x-python",
   "name": "python",
   "nbconvert_exporter": "python",
   "pygments_lexer": "ipython3",
   "version": "3.7.8"
  }
 },
 "nbformat": 4,
 "nbformat_minor": 4
}
