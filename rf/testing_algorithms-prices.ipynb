{
 "cells": [
  {
   "cell_type": "code",
   "execution_count": 26,
   "metadata": {},
   "outputs": [],
   "source": [
    "from sklearn.model_selection import KFold\n",
    "from sklearn.metrics import accuracy_score\n",
    "import pandas as pd\n",
    "import numpy as np\n"
   ]
  },
  {
   "cell_type": "code",
   "execution_count": 27,
   "metadata": {},
   "outputs": [],
   "source": [
    "#import data here \n",
    "\n",
    "train_data = pd.read_csv('./train_noclean_prices.csv')\n",
    "test_data = pd.read_csv('./test_noclean_prices.csv')\n",
    "\n",
    "#get correct data for X and y\n",
    "y_train = train_data.loc[:,'price']\n",
    "train_data = train_data.drop(columns='price')\n",
    "num_features = len(train_data.columns)\n",
    "features = list(train_data.columns[2:num_features])\n",
    "X_train = train_data.loc[:,features]\n",
    "\n",
    "features = list(test_data.columns[2:num_features])\n",
    "\n",
    "X_test = test_data.loc[:,features]\n",
    "test_labels = test_data.loc[:,'id']\n",
    "\n",
    "test_labels = test_labels.to_frame()"
   ]
  },
  {
   "cell_type": "code",
   "execution_count": null,
   "metadata": {},
   "outputs": [],
   "source": []
  },
  {
   "cell_type": "code",
   "execution_count": null,
   "metadata": {},
   "outputs": [
    {
     "name": "stdout",
     "output_type": "stream",
     "text": [
      "Fitting 10 folds for each of 1000 candidates, totalling 10000 fits\n"
     ]
    },
    {
     "name": "stderr",
     "output_type": "stream",
     "text": [
      "[Parallel(n_jobs=-1)]: Using backend LokyBackend with 16 concurrent workers.\n",
      "[Parallel(n_jobs=-1)]: Done   9 tasks      | elapsed:    6.2s\n",
      "[Parallel(n_jobs=-1)]: Done  18 tasks      | elapsed:   24.8s\n",
      "[Parallel(n_jobs=-1)]: Done  29 tasks      | elapsed:   47.9s\n",
      "[Parallel(n_jobs=-1)]: Done  40 tasks      | elapsed:  1.1min\n",
      "[Parallel(n_jobs=-1)]: Done  53 tasks      | elapsed:  1.5min\n",
      "[Parallel(n_jobs=-1)]: Done  66 tasks      | elapsed:  1.8min\n",
      "/opt/conda/lib/python3.7/site-packages/joblib/externals/loky/process_executor.py:691: UserWarning: A worker stopped while some jobs were given to the executor. This can be caused by a too short worker timeout or by a memory leak.\n",
      "  \"timeout or by a memory leak.\", UserWarning\n",
      "[Parallel(n_jobs=-1)]: Done  81 tasks      | elapsed:  1.9min\n",
      "[Parallel(n_jobs=-1)]: Done  96 tasks      | elapsed:  2.0min\n",
      "[Parallel(n_jobs=-1)]: Done 113 tasks      | elapsed:  2.2min\n",
      "[Parallel(n_jobs=-1)]: Done 130 tasks      | elapsed:  2.5min\n",
      "[Parallel(n_jobs=-1)]: Done 149 tasks      | elapsed:  2.8min\n",
      "[Parallel(n_jobs=-1)]: Done 168 tasks      | elapsed:  3.0min\n",
      "[Parallel(n_jobs=-1)]: Done 189 tasks      | elapsed:  3.5min\n",
      "[Parallel(n_jobs=-1)]: Done 210 tasks      | elapsed:  3.6min\n",
      "[Parallel(n_jobs=-1)]: Done 233 tasks      | elapsed:  4.0min\n",
      "[Parallel(n_jobs=-1)]: Done 256 tasks      | elapsed:  4.4min\n",
      "[Parallel(n_jobs=-1)]: Done 281 tasks      | elapsed:  4.8min\n",
      "[Parallel(n_jobs=-1)]: Done 306 tasks      | elapsed:  5.0min\n",
      "[Parallel(n_jobs=-1)]: Done 333 tasks      | elapsed:  5.5min\n",
      "[Parallel(n_jobs=-1)]: Done 360 tasks      | elapsed:  6.0min\n",
      "[Parallel(n_jobs=-1)]: Done 389 tasks      | elapsed:  6.6min\n",
      "[Parallel(n_jobs=-1)]: Done 418 tasks      | elapsed:  7.0min\n",
      "[Parallel(n_jobs=-1)]: Done 449 tasks      | elapsed:  7.7min\n",
      "[Parallel(n_jobs=-1)]: Done 480 tasks      | elapsed:  8.7min\n",
      "[Parallel(n_jobs=-1)]: Done 513 tasks      | elapsed:  9.2min\n",
      "[Parallel(n_jobs=-1)]: Done 546 tasks      | elapsed:  9.4min\n",
      "[Parallel(n_jobs=-1)]: Done 581 tasks      | elapsed: 10.3min\n",
      "[Parallel(n_jobs=-1)]: Done 616 tasks      | elapsed: 11.1min\n",
      "[Parallel(n_jobs=-1)]: Done 653 tasks      | elapsed: 11.3min\n",
      "[Parallel(n_jobs=-1)]: Done 690 tasks      | elapsed: 11.8min\n",
      "[Parallel(n_jobs=-1)]: Done 729 tasks      | elapsed: 12.2min\n",
      "[Parallel(n_jobs=-1)]: Done 768 tasks      | elapsed: 12.6min\n",
      "[Parallel(n_jobs=-1)]: Done 809 tasks      | elapsed: 13.0min\n",
      "[Parallel(n_jobs=-1)]: Done 850 tasks      | elapsed: 13.3min\n",
      "[Parallel(n_jobs=-1)]: Done 893 tasks      | elapsed: 13.7min\n",
      "[Parallel(n_jobs=-1)]: Done 936 tasks      | elapsed: 14.1min\n",
      "[Parallel(n_jobs=-1)]: Done 981 tasks      | elapsed: 15.3min\n",
      "[Parallel(n_jobs=-1)]: Done 1026 tasks      | elapsed: 15.8min\n",
      "[Parallel(n_jobs=-1)]: Done 1073 tasks      | elapsed: 16.4min\n",
      "[Parallel(n_jobs=-1)]: Done 1120 tasks      | elapsed: 16.7min\n",
      "[Parallel(n_jobs=-1)]: Done 1169 tasks      | elapsed: 17.3min\n",
      "[Parallel(n_jobs=-1)]: Done 1218 tasks      | elapsed: 18.4min\n",
      "[Parallel(n_jobs=-1)]: Done 1269 tasks      | elapsed: 22.1min\n",
      "[Parallel(n_jobs=-1)]: Done 1320 tasks      | elapsed: 23.6min\n",
      "[Parallel(n_jobs=-1)]: Done 1373 tasks      | elapsed: 24.4min\n",
      "[Parallel(n_jobs=-1)]: Done 1426 tasks      | elapsed: 28.2min\n",
      "[Parallel(n_jobs=-1)]: Done 1481 tasks      | elapsed: 28.5min\n",
      "[Parallel(n_jobs=-1)]: Done 1536 tasks      | elapsed: 29.9min\n",
      "[Parallel(n_jobs=-1)]: Done 1593 tasks      | elapsed: 31.5min\n",
      "[Parallel(n_jobs=-1)]: Done 1650 tasks      | elapsed: 32.1min\n",
      "[Parallel(n_jobs=-1)]: Done 1709 tasks      | elapsed: 32.9min\n",
      "[Parallel(n_jobs=-1)]: Done 1768 tasks      | elapsed: 33.8min\n",
      "[Parallel(n_jobs=-1)]: Done 1829 tasks      | elapsed: 35.1min\n",
      "[Parallel(n_jobs=-1)]: Done 1890 tasks      | elapsed: 36.3min\n",
      "[Parallel(n_jobs=-1)]: Done 1953 tasks      | elapsed: 38.1min\n",
      "[Parallel(n_jobs=-1)]: Done 2016 tasks      | elapsed: 38.8min\n",
      "[Parallel(n_jobs=-1)]: Done 2081 tasks      | elapsed: 39.8min\n",
      "[Parallel(n_jobs=-1)]: Done 2146 tasks      | elapsed: 40.3min\n",
      "[Parallel(n_jobs=-1)]: Done 2213 tasks      | elapsed: 44.3min\n",
      "[Parallel(n_jobs=-1)]: Done 2280 tasks      | elapsed: 45.1min\n",
      "[Parallel(n_jobs=-1)]: Done 2349 tasks      | elapsed: 46.9min\n",
      "[Parallel(n_jobs=-1)]: Done 2418 tasks      | elapsed: 48.3min\n",
      "[Parallel(n_jobs=-1)]: Done 2489 tasks      | elapsed: 50.0min\n",
      "[Parallel(n_jobs=-1)]: Done 2560 tasks      | elapsed: 51.2min\n",
      "[Parallel(n_jobs=-1)]: Done 2633 tasks      | elapsed: 52.4min\n",
      "[Parallel(n_jobs=-1)]: Done 2706 tasks      | elapsed: 53.4min\n",
      "[Parallel(n_jobs=-1)]: Done 2781 tasks      | elapsed: 54.0min\n",
      "[Parallel(n_jobs=-1)]: Done 2856 tasks      | elapsed: 56.6min\n",
      "[Parallel(n_jobs=-1)]: Done 2933 tasks      | elapsed: 58.6min\n",
      "[Parallel(n_jobs=-1)]: Done 3010 tasks      | elapsed: 59.5min\n",
      "[Parallel(n_jobs=-1)]: Done 3089 tasks      | elapsed: 60.0min\n",
      "[Parallel(n_jobs=-1)]: Done 3168 tasks      | elapsed: 61.2min\n",
      "[Parallel(n_jobs=-1)]: Done 3249 tasks      | elapsed: 66.8min\n",
      "[Parallel(n_jobs=-1)]: Done 3330 tasks      | elapsed: 68.5min\n",
      "[Parallel(n_jobs=-1)]: Done 3413 tasks      | elapsed: 69.9min\n",
      "[Parallel(n_jobs=-1)]: Done 3496 tasks      | elapsed: 73.5min\n",
      "[Parallel(n_jobs=-1)]: Done 3581 tasks      | elapsed: 77.5min\n",
      "[Parallel(n_jobs=-1)]: Done 3666 tasks      | elapsed: 79.5min\n",
      "[Parallel(n_jobs=-1)]: Done 3753 tasks      | elapsed: 80.8min\n",
      "[Parallel(n_jobs=-1)]: Done 3840 tasks      | elapsed: 81.9min\n",
      "[Parallel(n_jobs=-1)]: Done 3929 tasks      | elapsed: 83.5min\n",
      "[Parallel(n_jobs=-1)]: Done 4018 tasks      | elapsed: 88.2min\n",
      "[Parallel(n_jobs=-1)]: Done 4109 tasks      | elapsed: 89.0min\n",
      "[Parallel(n_jobs=-1)]: Done 4200 tasks      | elapsed: 91.9min\n",
      "[Parallel(n_jobs=-1)]: Done 4293 tasks      | elapsed: 96.3min\n",
      "[Parallel(n_jobs=-1)]: Done 4386 tasks      | elapsed: 99.2min\n",
      "[Parallel(n_jobs=-1)]: Done 4481 tasks      | elapsed: 101.1min\n",
      "[Parallel(n_jobs=-1)]: Done 4576 tasks      | elapsed: 102.6min\n",
      "[Parallel(n_jobs=-1)]: Done 4673 tasks      | elapsed: 104.6min\n",
      "[Parallel(n_jobs=-1)]: Done 4770 tasks      | elapsed: 105.3min\n",
      "[Parallel(n_jobs=-1)]: Done 4869 tasks      | elapsed: 108.0min\n",
      "[Parallel(n_jobs=-1)]: Done 4968 tasks      | elapsed: 109.5min\n",
      "[Parallel(n_jobs=-1)]: Done 5069 tasks      | elapsed: 113.3min\n",
      "[Parallel(n_jobs=-1)]: Done 5170 tasks      | elapsed: 114.9min\n",
      "[Parallel(n_jobs=-1)]: Done 5273 tasks      | elapsed: 120.1min\n",
      "[Parallel(n_jobs=-1)]: Done 5376 tasks      | elapsed: 122.0min\n",
      "[Parallel(n_jobs=-1)]: Done 5481 tasks      | elapsed: 123.3min\n",
      "[Parallel(n_jobs=-1)]: Done 5586 tasks      | elapsed: 126.6min\n",
      "[Parallel(n_jobs=-1)]: Done 5693 tasks      | elapsed: 130.6min\n",
      "[Parallel(n_jobs=-1)]: Done 5800 tasks      | elapsed: 134.6min\n",
      "[Parallel(n_jobs=-1)]: Done 5909 tasks      | elapsed: 138.3min\n",
      "[Parallel(n_jobs=-1)]: Done 6018 tasks      | elapsed: 140.2min\n",
      "[Parallel(n_jobs=-1)]: Done 6129 tasks      | elapsed: 141.7min\n",
      "[Parallel(n_jobs=-1)]: Done 6240 tasks      | elapsed: 144.4min\n",
      "[Parallel(n_jobs=-1)]: Done 6353 tasks      | elapsed: 150.3min\n",
      "[Parallel(n_jobs=-1)]: Done 6466 tasks      | elapsed: 152.7min\n",
      "[Parallel(n_jobs=-1)]: Done 6581 tasks      | elapsed: 154.4min\n",
      "[Parallel(n_jobs=-1)]: Done 6696 tasks      | elapsed: 157.2min\n",
      "[Parallel(n_jobs=-1)]: Done 6813 tasks      | elapsed: 163.3min\n"
     ]
    }
   ],
   "source": [
    "from sklearn.ensemble import RandomForestClassifier\n",
    "from sklearn.model_selection import GridSearchCV, RandomizedSearchCV\n",
    "#random search using param grid for hyperparameters\n",
    "kf = KFold(n_splits = 10, shuffle=True)\n",
    "\n",
    "param_grid = {'bootstrap': [True, False],\n",
    " 'criterion': ['gini', 'entropy'],\n",
    " 'max_depth': [2, 5, 10, 20, 30, None],\n",
    " 'max_features': ['auto', 'log2', 3, 8, None],\n",
    " 'min_samples_leaf': [1, 2, 4],\n",
    " 'min_samples_split': [2, 5, 10],\n",
    " 'n_estimators': [50, 100, 200, 400, 600, 800, 1000, 1500]}\n",
    "X = np.concatenate([X_train], axis= 0)\n",
    "y = np.concatenate([y_train], axis= 0)\n",
    "\n",
    "\n",
    "clf = RandomForestClassifier()  \n",
    "rsearch = RandomizedSearchCV(estimator=clf, param_distributions=param_grid, cv=kf, n_iter = 1000, n_jobs = -1, verbose=10)\n",
    "clf_model = rsearch.fit(X=X, y=y)\n",
    "\n",
    "print(clf_model.best_params_, clf_model.best_score_)\n"
   ]
  },
  {
   "cell_type": "code",
   "execution_count": 29,
   "metadata": {},
   "outputs": [
    {
     "name": "stdout",
     "output_type": "stream",
     "text": [
      "{'n_estimators': 1500, 'min_samples_split': 5, 'min_samples_leaf': 1, 'max_features': 'auto', 'max_depth': 20, 'criterion': 'gini', 'bootstrap': False} 0.5590341921892724\n"
     ]
    }
   ],
   "source": [
    "print(clf_model.best_params_, clf_model.best_score_)\n",
    "#params with prices added"
   ]
  },
  {
   "cell_type": "code",
   "execution_count": 16,
   "metadata": {},
   "outputs": [
    {
     "name": "stdout",
     "output_type": "stream",
     "text": [
      "{'n_estimators': 400, 'min_samples_split': 5, 'min_samples_leaf': 1, 'max_features': 'auto', 'max_depth': None, 'criterion': 'gini', 'bootstrap': False} 0.5590306740355995\n"
     ]
    }
   ],
   "source": [
    "print(clf_model.best_params_, clf_model.best_score_)\n",
    "#params without changing max features"
   ]
  },
  {
   "cell_type": "code",
   "execution_count": null,
   "metadata": {},
   "outputs": [],
   "source": []
  },
  {
   "cell_type": "code",
   "execution_count": 30,
   "metadata": {},
   "outputs": [
    {
     "data": {
      "text/plain": [
       "RandomForestClassifier(bootstrap=False, max_depth=20, min_samples_split=5,\n",
       "                       n_estimators=1500)"
      ]
     },
     "execution_count": 30,
     "metadata": {},
     "output_type": "execute_result"
    }
   ],
   "source": [
    "#fit final model\n",
    "params = {'n_estimators': 1500, 'min_samples_split': 5, 'min_samples_leaf': 1, 'max_features': 'auto', 'max_depth': 20, 'criterion': 'gini', 'bootstrap': False}\n",
    "\n",
    "clf = RandomForestClassifier()\n",
    "clf.set_params(**params)\n",
    "clf.fit(X,y)\n"
   ]
  },
  {
   "cell_type": "code",
   "execution_count": 31,
   "metadata": {},
   "outputs": [
    {
     "name": "stdout",
     "output_type": "stream",
     "text": [
      "[2 1 3 ... 3 3 1]\n",
      "0.9900836690424543\n"
     ]
    }
   ],
   "source": [
    "#train accuracy\n",
    "y_pred1=clf.predict(X)\n",
    "print(y_pred1)\n",
    "print(accuracy_score(y, y_pred1))"
   ]
  },
  {
   "cell_type": "code",
   "execution_count": 32,
   "metadata": {},
   "outputs": [],
   "source": [
    "#test accuracy predictoins\n",
    "y_pred=clf.predict(X_test)\n",
    "\n",
    "df = pd.DataFrame\n",
    "test_labels['price'] = y_pred\n",
    "\n",
    "test_labels['price'] = test_labels['price'].map(lambda x: int(x))"
   ]
  },
  {
   "cell_type": "code",
   "execution_count": 33,
   "metadata": {},
   "outputs": [
    {
     "data": {
      "text/html": [
       "<div>\n",
       "<style scoped>\n",
       "    .dataframe tbody tr th:only-of-type {\n",
       "        vertical-align: middle;\n",
       "    }\n",
       "\n",
       "    .dataframe tbody tr th {\n",
       "        vertical-align: top;\n",
       "    }\n",
       "\n",
       "    .dataframe thead th {\n",
       "        text-align: right;\n",
       "    }\n",
       "</style>\n",
       "<table border=\"1\" class=\"dataframe\">\n",
       "  <thead>\n",
       "    <tr style=\"text-align: right;\">\n",
       "      <th></th>\n",
       "      <th>id</th>\n",
       "      <th>price</th>\n",
       "    </tr>\n",
       "  </thead>\n",
       "  <tbody>\n",
       "    <tr>\n",
       "      <th>0</th>\n",
       "      <td>7715</td>\n",
       "      <td>2</td>\n",
       "    </tr>\n",
       "    <tr>\n",
       "      <th>1</th>\n",
       "      <td>13196</td>\n",
       "      <td>2</td>\n",
       "    </tr>\n",
       "    <tr>\n",
       "      <th>2</th>\n",
       "      <td>13194</td>\n",
       "      <td>2</td>\n",
       "    </tr>\n",
       "    <tr>\n",
       "      <th>3</th>\n",
       "      <td>4673</td>\n",
       "      <td>2</td>\n",
       "    </tr>\n",
       "    <tr>\n",
       "      <th>4</th>\n",
       "      <td>11325</td>\n",
       "      <td>1</td>\n",
       "    </tr>\n",
       "    <tr>\n",
       "      <th>...</th>\n",
       "      <td>...</td>\n",
       "      <td>...</td>\n",
       "    </tr>\n",
       "    <tr>\n",
       "      <th>4144</th>\n",
       "      <td>12921</td>\n",
       "      <td>4</td>\n",
       "    </tr>\n",
       "    <tr>\n",
       "      <th>4145</th>\n",
       "      <td>7174</td>\n",
       "      <td>1</td>\n",
       "    </tr>\n",
       "    <tr>\n",
       "      <th>4146</th>\n",
       "      <td>9240</td>\n",
       "      <td>3</td>\n",
       "    </tr>\n",
       "    <tr>\n",
       "      <th>4147</th>\n",
       "      <td>11663</td>\n",
       "      <td>1</td>\n",
       "    </tr>\n",
       "    <tr>\n",
       "      <th>4148</th>\n",
       "      <td>4513</td>\n",
       "      <td>1</td>\n",
       "    </tr>\n",
       "  </tbody>\n",
       "</table>\n",
       "<p>4149 rows × 2 columns</p>\n",
       "</div>"
      ],
      "text/plain": [
       "         id  price\n",
       "0      7715      2\n",
       "1     13196      2\n",
       "2     13194      2\n",
       "3      4673      2\n",
       "4     11325      1\n",
       "...     ...    ...\n",
       "4144  12921      4\n",
       "4145   7174      1\n",
       "4146   9240      3\n",
       "4147  11663      1\n",
       "4148   4513      1\n",
       "\n",
       "[4149 rows x 2 columns]"
      ]
     },
     "execution_count": 33,
     "metadata": {},
     "output_type": "execute_result"
    }
   ],
   "source": [
    "test_labels"
   ]
  },
  {
   "cell_type": "code",
   "execution_count": 34,
   "metadata": {},
   "outputs": [],
   "source": [
    "#convert to csv \n",
    "test_labels.to_csv(r'./submission15.csv', index=False)"
   ]
  },
  {
   "cell_type": "code",
   "execution_count": 5,
   "metadata": {},
   "outputs": [
    {
     "data": {
      "image/png": "[encoded data removed]",
      "text/plain": [
       "<Figure size 432x288 with 1 Axes>"
      ]
     },
     "metadata": {
      "needs_background": "light"
     },
     "output_type": "display_data"
    }
   ],
   "source": [
    "import matplotlib.pyplot as plt\n",
    "import pandas as pd\n",
    "import numpy as np\n",
    "labels = pd.read_csv('./submission15.csv')\n",
    "y_pred = labels.loc[:,'price']\n",
    "plt.figure()\n",
    "plt.hist(y_pred)\n",
    "plt.title(\"Random Forest Predictions\")\n",
    "plt.xlabel('Label')\n",
    "plt.ylabel('Count')\n",
    "plt.show()"
   ]
  },
  {
   "cell_type": "code",
   "execution_count": null,
   "metadata": {},
   "outputs": [],
   "source": []
  },
  {
   "cell_type": "code",
   "execution_count": null,
   "metadata": {},
   "outputs": [],
   "source": []
  }
 ],
 "metadata": {
  "environment": {
   "name": "common-cpu.m59",
   "type": "gcloud",
   "uri": "gcr.io/deeplearning-platform-release/base-cpu:m59"
  },
  "kernelspec": {
   "display_name": "Python 3",
   "language": "python",
   "name": "python3"
  },
  "language_info": {
   "codemirror_mode": {
    "name": "ipython",
    "version": 3
   },
   "file_extension": ".py",
   "mimetype": "text/x-python",
   "name": "python",
   "nbconvert_exporter": "python",
   "pygments_lexer": "ipython3",
   "version": "3.7.8"
  }
 },
 "nbformat": 4,
 "nbformat_minor": 4
}
