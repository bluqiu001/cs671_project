{
 "cells": [
  {
   "cell_type": "code",
   "execution_count": 1,
   "metadata": {},
   "outputs": [],
   "source": [
    "from sklearn.model_selection import KFold\n",
    "from sklearn.metrics import accuracy_score\n",
    "import pandas as pd\n",
    "import numpy as np\n"
   ]
  },
  {
   "cell_type": "code",
   "execution_count": 2,
   "metadata": {},
   "outputs": [],
   "source": [
    "#import data here \n",
    "\n",
    "train_data = pd.read_csv('./train_cleaned3.csv')\n",
    "test_data = pd.read_csv('./test_cleaned3.csv')\n",
    "\n",
    "y_train = train_data.loc[:,'price']\n",
    "train_data = train_data.drop(columns='price')\n",
    "num_features = len(train_data.columns)\n",
    "features = list(train_data.columns[2:num_features])\n",
    "X_train = train_data.loc[:,features]\n",
    "\n",
    "features = list(test_data.columns[2:num_features])\n",
    "\n",
    "X_test = test_data.loc[:,features]\n",
    "test_labels = test_data.loc[:,'id']\n",
    "\n",
    "test_labels = test_labels.to_frame()"
   ]
  },
  {
   "cell_type": "code",
   "execution_count": null,
   "metadata": {},
   "outputs": [],
   "source": [
    "from sklearn.ensemble import RandomForestClassifier\n",
    "from sklearn.model_selection import GridSearchCV, RandomizedSearchCV\n",
    "\n",
    "kf = KFold(n_splits = 10, shuffle=True)\n",
    "\n",
    "\n",
    "X = np.concatenate([X_train], axis= 0)\n",
    "y = np.concatenate([y_train], axis= 0)\n",
    "\n",
    "for train, test in kf.split(X_train):\n",
    "    X_train_kf, X_test_kf = X[train],X[test]\n",
    "    y_train_kf, y_test_kf = y[train],y[test]\n",
    "    \n",
    "    params = {'n_estimators': 1000, 'min_samples_split': 2, 'min_samples_leaf': 1, 'max_features': 'auto', 'max_depth': 20, 'criterion': 'gini', 'bootstrap': True}\n",
    "\n",
    "    clf = RandomForestClassifier()\n",
    "    clf.set_params(**params)\n",
    "    clf.fit(X_train_kf,y_train_kf)\n",
    "    accuracy = clf.score(X_test_kf, y_test_kf)\n",
    "    print(accuracy)"
   ]
  },
  {
   "cell_type": "code",
   "execution_count": 3,
   "metadata": {},
   "outputs": [
    {
     "name": "stdout",
     "output_type": "stream",
     "text": [
      "Fitting 10 folds for each of 1000 candidates, totalling 10000 fits\n"
     ]
    },
    {
     "name": "stderr",
     "output_type": "stream",
     "text": [
      "[Parallel(n_jobs=-1)]: Using backend LokyBackend with 16 concurrent workers.\n",
      "[Parallel(n_jobs=-1)]: Done   9 tasks      | elapsed:    2.1s\n",
      "[Parallel(n_jobs=-1)]: Done  18 tasks      | elapsed:   13.2s\n",
      "[Parallel(n_jobs=-1)]: Done  29 tasks      | elapsed:   18.8s\n",
      "[Parallel(n_jobs=-1)]: Done  40 tasks      | elapsed:   22.0s\n",
      "[Parallel(n_jobs=-1)]: Done  53 tasks      | elapsed:   31.5s\n",
      "[Parallel(n_jobs=-1)]: Done  66 tasks      | elapsed:   33.3s\n",
      "[Parallel(n_jobs=-1)]: Done  81 tasks      | elapsed:  1.0min\n",
      "[Parallel(n_jobs=-1)]: Done  96 tasks      | elapsed:  1.1min\n",
      "[Parallel(n_jobs=-1)]: Done 113 tasks      | elapsed:  1.3min\n",
      "[Parallel(n_jobs=-1)]: Done 130 tasks      | elapsed:  1.4min\n",
      "[Parallel(n_jobs=-1)]: Done 149 tasks      | elapsed:  1.5min\n",
      "/opt/conda/lib/python3.7/site-packages/joblib/externals/loky/process_executor.py:691: UserWarning: A worker stopped while some jobs were given to the executor. This can be caused by a too short worker timeout or by a memory leak.\n",
      "  \"timeout or by a memory leak.\", UserWarning\n",
      "[Parallel(n_jobs=-1)]: Done 168 tasks      | elapsed:  1.8min\n",
      "[Parallel(n_jobs=-1)]: Done 189 tasks      | elapsed:  2.1min\n",
      "[Parallel(n_jobs=-1)]: Done 210 tasks      | elapsed:  2.4min\n",
      "[Parallel(n_jobs=-1)]: Done 233 tasks      | elapsed:  2.5min\n",
      "[Parallel(n_jobs=-1)]: Done 256 tasks      | elapsed:  2.6min\n",
      "[Parallel(n_jobs=-1)]: Done 281 tasks      | elapsed:  2.9min\n",
      "[Parallel(n_jobs=-1)]: Done 306 tasks      | elapsed:  3.1min\n",
      "[Parallel(n_jobs=-1)]: Done 333 tasks      | elapsed:  3.5min\n",
      "[Parallel(n_jobs=-1)]: Done 360 tasks      | elapsed:  3.7min\n",
      "[Parallel(n_jobs=-1)]: Done 389 tasks      | elapsed:  4.0min\n",
      "[Parallel(n_jobs=-1)]: Done 418 tasks      | elapsed:  4.2min\n",
      "[Parallel(n_jobs=-1)]: Done 449 tasks      | elapsed:  4.4min\n",
      "[Parallel(n_jobs=-1)]: Done 480 tasks      | elapsed:  4.6min\n",
      "[Parallel(n_jobs=-1)]: Done 513 tasks      | elapsed:  4.9min\n",
      "[Parallel(n_jobs=-1)]: Done 546 tasks      | elapsed:  5.2min\n",
      "[Parallel(n_jobs=-1)]: Done 581 tasks      | elapsed:  5.4min\n",
      "[Parallel(n_jobs=-1)]: Done 616 tasks      | elapsed:  5.5min\n",
      "[Parallel(n_jobs=-1)]: Done 653 tasks      | elapsed:  6.1min\n",
      "[Parallel(n_jobs=-1)]: Done 690 tasks      | elapsed:  6.5min\n",
      "[Parallel(n_jobs=-1)]: Done 729 tasks      | elapsed:  6.8min\n",
      "[Parallel(n_jobs=-1)]: Done 768 tasks      | elapsed:  7.3min\n",
      "[Parallel(n_jobs=-1)]: Done 809 tasks      | elapsed:  7.9min\n",
      "[Parallel(n_jobs=-1)]: Done 850 tasks      | elapsed:  8.2min\n",
      "[Parallel(n_jobs=-1)]: Done 893 tasks      | elapsed:  9.1min\n",
      "[Parallel(n_jobs=-1)]: Done 936 tasks      | elapsed: 10.0min\n",
      "[Parallel(n_jobs=-1)]: Done 981 tasks      | elapsed: 10.5min\n",
      "[Parallel(n_jobs=-1)]: Done 1026 tasks      | elapsed: 11.9min\n",
      "[Parallel(n_jobs=-1)]: Done 1073 tasks      | elapsed: 12.4min\n",
      "[Parallel(n_jobs=-1)]: Done 1120 tasks      | elapsed: 13.3min\n",
      "[Parallel(n_jobs=-1)]: Done 1169 tasks      | elapsed: 14.0min\n",
      "[Parallel(n_jobs=-1)]: Done 1218 tasks      | elapsed: 14.8min\n",
      "[Parallel(n_jobs=-1)]: Done 1269 tasks      | elapsed: 14.9min\n",
      "[Parallel(n_jobs=-1)]: Done 1320 tasks      | elapsed: 15.5min\n",
      "[Parallel(n_jobs=-1)]: Done 1373 tasks      | elapsed: 16.0min\n",
      "[Parallel(n_jobs=-1)]: Done 1426 tasks      | elapsed: 16.2min\n",
      "[Parallel(n_jobs=-1)]: Done 1481 tasks      | elapsed: 16.6min\n",
      "[Parallel(n_jobs=-1)]: Done 1536 tasks      | elapsed: 16.9min\n",
      "[Parallel(n_jobs=-1)]: Done 1593 tasks      | elapsed: 17.1min\n",
      "[Parallel(n_jobs=-1)]: Done 1650 tasks      | elapsed: 17.5min\n",
      "[Parallel(n_jobs=-1)]: Done 1709 tasks      | elapsed: 18.2min\n",
      "[Parallel(n_jobs=-1)]: Done 1768 tasks      | elapsed: 19.0min\n",
      "[Parallel(n_jobs=-1)]: Done 1829 tasks      | elapsed: 19.4min\n",
      "[Parallel(n_jobs=-1)]: Done 1890 tasks      | elapsed: 20.2min\n",
      "[Parallel(n_jobs=-1)]: Done 2016 tasks      | elapsed: 22.0min\n",
      "[Parallel(n_jobs=-1)]: Done 2146 tasks      | elapsed: 25.0min\n",
      "[Parallel(n_jobs=-1)]: Done 2213 tasks      | elapsed: 26.2min\n",
      "[Parallel(n_jobs=-1)]: Done 2280 tasks      | elapsed: 26.9min\n",
      "[Parallel(n_jobs=-1)]: Done 2349 tasks      | elapsed: 28.2min\n",
      "[Parallel(n_jobs=-1)]: Done 2418 tasks      | elapsed: 29.0min\n",
      "[Parallel(n_jobs=-1)]: Done 2560 tasks      | elapsed: 31.0min\n",
      "[Parallel(n_jobs=-1)]: Done 2633 tasks      | elapsed: 31.8min\n",
      "[Parallel(n_jobs=-1)]: Done 2706 tasks      | elapsed: 32.3min\n",
      "[Parallel(n_jobs=-1)]: Done 2781 tasks      | elapsed: 33.0min\n",
      "[Parallel(n_jobs=-1)]: Done 2856 tasks      | elapsed: 33.8min\n",
      "[Parallel(n_jobs=-1)]: Done 2933 tasks      | elapsed: 34.2min\n",
      "[Parallel(n_jobs=-1)]: Done 3010 tasks      | elapsed: 34.6min\n",
      "[Parallel(n_jobs=-1)]: Done 3089 tasks      | elapsed: 35.1min\n",
      "[Parallel(n_jobs=-1)]: Done 3168 tasks      | elapsed: 37.5min\n",
      "[Parallel(n_jobs=-1)]: Done 3249 tasks      | elapsed: 38.6min\n",
      "[Parallel(n_jobs=-1)]: Done 3330 tasks      | elapsed: 39.4min\n",
      "[Parallel(n_jobs=-1)]: Done 3413 tasks      | elapsed: 40.1min\n",
      "[Parallel(n_jobs=-1)]: Done 3496 tasks      | elapsed: 41.0min\n",
      "[Parallel(n_jobs=-1)]: Done 3581 tasks      | elapsed: 42.8min\n",
      "[Parallel(n_jobs=-1)]: Done 3666 tasks      | elapsed: 45.1min\n",
      "[Parallel(n_jobs=-1)]: Done 3753 tasks      | elapsed: 46.2min\n",
      "[Parallel(n_jobs=-1)]: Done 3840 tasks      | elapsed: 47.0min\n",
      "[Parallel(n_jobs=-1)]: Done 3929 tasks      | elapsed: 47.7min\n",
      "[Parallel(n_jobs=-1)]: Done 4109 tasks      | elapsed: 50.0min\n",
      "[Parallel(n_jobs=-1)]: Done 4200 tasks      | elapsed: 50.9min\n",
      "[Parallel(n_jobs=-1)]: Done 4293 tasks      | elapsed: 52.6min\n",
      "[Parallel(n_jobs=-1)]: Done 4481 tasks      | elapsed: 54.7min\n",
      "[Parallel(n_jobs=-1)]: Done 4576 tasks      | elapsed: 55.9min\n",
      "[Parallel(n_jobs=-1)]: Done 4673 tasks      | elapsed: 56.7min\n",
      "[Parallel(n_jobs=-1)]: Done 4770 tasks      | elapsed: 57.3min\n",
      "[Parallel(n_jobs=-1)]: Done 4869 tasks      | elapsed: 58.5min\n",
      "[Parallel(n_jobs=-1)]: Done 4968 tasks      | elapsed: 60.0min\n",
      "[Parallel(n_jobs=-1)]: Done 5069 tasks      | elapsed: 61.9min\n",
      "[Parallel(n_jobs=-1)]: Done 5170 tasks      | elapsed: 63.0min\n",
      "[Parallel(n_jobs=-1)]: Done 5273 tasks      | elapsed: 64.3min\n",
      "[Parallel(n_jobs=-1)]: Done 5376 tasks      | elapsed: 65.5min\n",
      "[Parallel(n_jobs=-1)]: Done 5481 tasks      | elapsed: 66.7min\n",
      "[Parallel(n_jobs=-1)]: Done 5586 tasks      | elapsed: 68.6min\n",
      "[Parallel(n_jobs=-1)]: Done 5693 tasks      | elapsed: 71.2min\n",
      "[Parallel(n_jobs=-1)]: Done 5800 tasks      | elapsed: 72.0min\n",
      "[Parallel(n_jobs=-1)]: Done 5909 tasks      | elapsed: 73.4min\n",
      "[Parallel(n_jobs=-1)]: Done 6129 tasks      | elapsed: 74.8min\n",
      "[Parallel(n_jobs=-1)]: Done 6240 tasks      | elapsed: 75.6min\n",
      "[Parallel(n_jobs=-1)]: Done 6353 tasks      | elapsed: 78.1min\n",
      "[Parallel(n_jobs=-1)]: Done 6466 tasks      | elapsed: 79.0min\n",
      "[Parallel(n_jobs=-1)]: Done 6581 tasks      | elapsed: 81.0min\n",
      "[Parallel(n_jobs=-1)]: Done 6696 tasks      | elapsed: 82.1min\n",
      "[Parallel(n_jobs=-1)]: Done 6813 tasks      | elapsed: 83.2min\n",
      "[Parallel(n_jobs=-1)]: Done 6930 tasks      | elapsed: 84.1min\n",
      "[Parallel(n_jobs=-1)]: Done 7049 tasks      | elapsed: 85.2min\n",
      "[Parallel(n_jobs=-1)]: Done 7168 tasks      | elapsed: 87.5min\n",
      "[Parallel(n_jobs=-1)]: Done 7289 tasks      | elapsed: 89.8min\n",
      "[Parallel(n_jobs=-1)]: Done 7410 tasks      | elapsed: 90.8min\n",
      "[Parallel(n_jobs=-1)]: Done 7533 tasks      | elapsed: 91.7min\n",
      "[Parallel(n_jobs=-1)]: Done 7906 tasks      | elapsed: 97.5min\n",
      "[Parallel(n_jobs=-1)]: Done 8033 tasks      | elapsed: 98.7min\n",
      "[Parallel(n_jobs=-1)]: Done 8160 tasks      | elapsed: 100.4min\n",
      "[Parallel(n_jobs=-1)]: Done 8289 tasks      | elapsed: 102.0min\n",
      "[Parallel(n_jobs=-1)]: Done 8418 tasks      | elapsed: 103.5min\n",
      "[Parallel(n_jobs=-1)]: Done 8549 tasks      | elapsed: 105.5min\n",
      "[Parallel(n_jobs=-1)]: Done 8680 tasks      | elapsed: 106.5min\n",
      "[Parallel(n_jobs=-1)]: Done 8813 tasks      | elapsed: 107.8min\n",
      "[Parallel(n_jobs=-1)]: Done 8946 tasks      | elapsed: 109.7min\n",
      "[Parallel(n_jobs=-1)]: Done 9216 tasks      | elapsed: 112.5min\n",
      "[Parallel(n_jobs=-1)]: Done 9353 tasks      | elapsed: 114.8min\n",
      "[Parallel(n_jobs=-1)]: Done 9490 tasks      | elapsed: 116.0min\n",
      "[Parallel(n_jobs=-1)]: Done 9629 tasks      | elapsed: 118.0min\n",
      "[Parallel(n_jobs=-1)]: Done 9768 tasks      | elapsed: 120.9min\n",
      "[Parallel(n_jobs=-1)]: Done 9909 tasks      | elapsed: 122.5min\n",
      "[Parallel(n_jobs=-1)]: Done 10000 out of 10000 | elapsed: 124.1min finished\n"
     ]
    },
    {
     "name": "stdout",
     "output_type": "stream",
     "text": [
      "{'n_estimators': 1500, 'min_samples_split': 10, 'min_samples_leaf': 2, 'max_features': 'log2', 'max_depth': 30, 'criterion': 'entropy', 'bootstrap': False} 0.5510797533454443\n"
     ]
    }
   ],
   "source": [
    "from sklearn.ensemble import RandomForestClassifier\n",
    "from sklearn.model_selection import GridSearchCV, RandomizedSearchCV\n",
    "\n",
    "kf = KFold(n_splits = 10, shuffle=True)\n",
    "\n",
    "param_grid = {'bootstrap': [True, False],\n",
    " 'criterion': ['gini', 'entropy'],\n",
    " 'max_depth': [2, 5, 10, 20, 30, None],\n",
    " 'max_features': ['auto', 'log2', 3, 8, None],\n",
    " 'min_samples_leaf': [1, 2, 4],\n",
    " 'min_samples_split': [2, 5, 10],\n",
    " 'n_estimators': [50, 100, 200, 400, 600, 800, 1000, 1500]}\n",
    "X = np.concatenate([X_train], axis= 0)\n",
    "y = np.concatenate([y_train], axis= 0)\n",
    "\n",
    "\n",
    "clf = RandomForestClassifier()  \n",
    "rsearch = RandomizedSearchCV(estimator=clf, param_distributions=param_grid, cv=kf, n_iter = 1000, n_jobs = -1, verbose=10)\n",
    "clf_model = rsearch.fit(X=X, y=y)\n",
    "\n",
    "print(clf_model.best_params_, clf_model.best_score_)\n"
   ]
  },
  {
   "cell_type": "code",
   "execution_count": 4,
   "metadata": {},
   "outputs": [
    {
     "name": "stdout",
     "output_type": "stream",
     "text": [
      "{'n_estimators': 1500, 'min_samples_split': 10, 'min_samples_leaf': 2, 'max_features': 'log2', 'max_depth': 30, 'criterion': 'entropy', 'bootstrap': False} 0.5510797533454443\n"
     ]
    }
   ],
   "source": [
    "print(clf_model.best_params_, clf_model.best_score_)\n",
    "#params with prices added"
   ]
  },
  {
   "cell_type": "code",
   "execution_count": 16,
   "metadata": {},
   "outputs": [
    {
     "name": "stdout",
     "output_type": "stream",
     "text": [
      "{'n_estimators': 400, 'min_samples_split': 5, 'min_samples_leaf': 1, 'max_features': 'auto', 'max_depth': None, 'criterion': 'gini', 'bootstrap': False} 0.5590306740355995\n"
     ]
    }
   ],
   "source": [
    "print(clf_model.best_params_, clf_model.best_score_)\n",
    "#params without changing max features"
   ]
  },
  {
   "cell_type": "code",
   "execution_count": null,
   "metadata": {},
   "outputs": [],
   "source": []
  },
  {
   "cell_type": "code",
   "execution_count": 5,
   "metadata": {},
   "outputs": [
    {
     "data": {
      "text/plain": [
       "RandomForestClassifier(bootstrap=False, criterion='entropy', max_depth=30,\n",
       "                       max_features='log2', min_samples_leaf=2,\n",
       "                       min_samples_split=10, n_estimators=1500)"
      ]
     },
     "execution_count": 5,
     "metadata": {},
     "output_type": "execute_result"
    }
   ],
   "source": [
    "params = {'n_estimators': 1500, 'min_samples_split': 10, 'min_samples_leaf': 2, 'max_features': 'log2', 'max_depth': 30, 'criterion': 'entropy', 'bootstrap': False}\n",
    "\n",
    "clf = RandomForestClassifier()\n",
    "clf.set_params(**params)\n",
    "clf.fit(X,y)\n"
   ]
  },
  {
   "cell_type": "code",
   "execution_count": 6,
   "metadata": {},
   "outputs": [
    {
     "name": "stdout",
     "output_type": "stream",
     "text": [
      "[3 1 3 ... 3 3 1]\n",
      "0.9464931308749096\n"
     ]
    }
   ],
   "source": [
    "y_pred1=clf.predict(X)\n",
    "print(y_pred1)\n",
    "print(accuracy_score(y, y_pred1))"
   ]
  },
  {
   "cell_type": "code",
   "execution_count": 7,
   "metadata": {},
   "outputs": [],
   "source": [
    "y_pred=clf.predict(X_test)\n",
    "\n",
    "df = pd.DataFrame\n",
    "test_labels['price'] = y_pred\n",
    "\n",
    "test_labels['price'] = test_labels['price'].map(lambda x: int(x))"
   ]
  },
  {
   "cell_type": "code",
   "execution_count": null,
   "metadata": {},
   "outputs": [],
   "source": []
  },
  {
   "cell_type": "code",
   "execution_count": 8,
   "metadata": {},
   "outputs": [],
   "source": [
    "test_labels.to_csv(r'./submission18.csv', index=False)"
   ]
  },
  {
   "cell_type": "code",
   "execution_count": null,
   "metadata": {},
   "outputs": [],
   "source": []
  }
 ],
 "metadata": {
  "environment": {
   "name": "common-cpu.m59",
   "type": "gcloud",
   "uri": "gcr.io/deeplearning-platform-release/base-cpu:m59"
  },
  "kernelspec": {
   "display_name": "Python 3",
   "language": "python",
   "name": "python3"
  },
  "language_info": {
   "codemirror_mode": {
    "name": "ipython",
    "version": 3
   },
   "file_extension": ".py",
   "mimetype": "text/x-python",
   "name": "python",
   "nbconvert_exporter": "python",
   "pygments_lexer": "ipython3",
   "version": "3.7.8"
  }
 },
 "nbformat": 4,
 "nbformat_minor": 4
}
