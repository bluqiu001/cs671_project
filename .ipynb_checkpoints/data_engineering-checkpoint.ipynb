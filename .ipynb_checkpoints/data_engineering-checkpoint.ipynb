{
 "cells": [
  {
   "cell_type": "code",
   "execution_count": 1,
   "metadata": {},
   "outputs": [],
   "source": [
    "#import packages here\n",
    "import pandas as pd\n",
    "import numpy as np\n",
    "import matplotlib.pyplot as plt\n",
    "import xgboost as xgb\n",
    "\n",
    "%matplotlib inline\n"
   ]
  },
  {
   "cell_type": "code",
   "execution_count": 2,
   "metadata": {},
   "outputs": [],
   "source": [
    "#import data here \n",
    "\n",
    "train_data = pd.read_csv('./train.csv')\n",
    "test_data = pd.read_csv('./test.csv')"
   ]
  },
  {
   "cell_type": "code",
   "execution_count": 3,
   "metadata": {},
   "outputs": [],
   "source": [
    "train_data['last_review'] = train_data['last_review'].\\\n",
    "map(lambda x: (int(x.split('/')[2]+x.split('/')[0])) if (int(x.split('/')[2])>18)\\\n",
    "else int(x.split('/')[2]))\n",
    "\n",
    "\n",
    "train_data['last_review'] = train_data['last_review'].map(lambda x: 15 if x<=15 else x)"
   ]
  },
  {
   "cell_type": "code",
   "execution_count": 4,
   "metadata": {},
   "outputs": [],
   "source": [
    "train_data['host_since'] = train_data['host_since'].\\\n",
    "map(lambda x: (int(x.split('/')[2]+x.split('/')[0])) if (int(x.split('/')[2])>18 and (int(x.split('/')[2])<20))\\\n",
    "else int(x.split('/')[2]))\n",
    "\n",
    "train_data['host_since'] = train_data['host_since'].map(lambda x: 9 if x==8 else x)"
   ]
  },
  {
   "cell_type": "code",
   "execution_count": 5,
   "metadata": {},
   "outputs": [],
   "source": [
    "scale = [0,25,50,100,250, 500, 750, 1000, 1250]\n",
    "for i in range(len(scale)-1):\n",
    "    train_data['maximum_nights'] = train_data['maximum_nights'].map(lambda x: scale[i] if x>=scale[i] and x<scale[i+1] else x)\n",
    "    \n",
    "train_data['maximum_nights'] = train_data['maximum_nights'].map(lambda x: 1250 if x>=1250  else x)"
   ]
  },
  {
   "cell_type": "code",
   "execution_count": 6,
   "metadata": {},
   "outputs": [],
   "source": [
    "scale = [0, 100, 500, 1000, 2000, 3000, 4000, 7000]\n",
    "for i in range(len(scale)-1):\n",
    "    train_data['cleaning_fee'] = train_data['cleaning_fee'].map(lambda x: scale[i] if x>=scale[i] and x<scale[i+1] else x)\n",
    "\n",
    "train_data['cleaning_fee'] = train_data['cleaning_fee'].map(lambda x: 7000 if x>=7000 else x)"
   ]
  },
  {
   "cell_type": "code",
   "execution_count": 7,
   "metadata": {},
   "outputs": [],
   "source": [
    "scale = [0, 1, 50, 75, 100, 150, 176, 200,250,300,350]\n",
    "for i in range(len(scale)-1):\n",
    "    train_data['availability_365'] = train_data['availability_365'].map(lambda x: scale[i] if x>=scale[i] and x<scale[i+1] else x)\n",
    "\n",
    "train_data['availability_365'] = train_data['availability_365'].map(lambda x: 350 if x>=350 else x)"
   ]
  },
  {
   "cell_type": "code",
   "execution_count": 8,
   "metadata": {},
   "outputs": [],
   "source": [
    "scale = [0.1, 0.2, 0.5, .75, 1, 1.8, 3, 4]\n",
    "for i in range(len(scale)-1):\n",
    "    train_data['reviews_per_month'] = train_data['reviews_per_month'].map(lambda x: scale[i] if x>=scale[i] and x<scale[i+1] else x)\n",
    "\n",
    "train_data['reviews_per_month'] = train_data['reviews_per_month'].map(lambda x: 4 if x>=4 else x)"
   ]
  },
  {
   "cell_type": "code",
   "execution_count": 9,
   "metadata": {},
   "outputs": [],
   "source": [
    "scale = [0, 1, 2, 3, 5, 8, 10, 15, 20, 30, 50, 75, 100, 150, 200]\n",
    "for i in range(len(scale)-1):\n",
    "    train_data['number_of_reviews'] = train_data['number_of_reviews'].map(lambda x: scale[i] if x>=scale[i] and x<scale[i+1] else x)\n",
    "\n",
    "train_data['number_of_reviews'] = train_data['number_of_reviews'].map(lambda x: 200 if x>=200 else x)"
   ]
  },
  {
   "cell_type": "code",
   "execution_count": 10,
   "metadata": {},
   "outputs": [],
   "source": [
    "scale = [0, 1, 200, 300, 400, 500, 600, 700, 800, 1000, 1250, 1500]\n",
    "for i in range(len(scale)-1):\n",
    "    train_data['extra_people'] = train_data['extra_people'].map(lambda x: scale[i] if x>=scale[i] and x<scale[i+1] else x)\n",
    "\n",
    "train_data['extra_people'] = train_data['extra_people'].map(lambda x: 1500 if x>=1500 else x)"
   ]
  },
  {
   "cell_type": "code",
   "execution_count": 11,
   "metadata": {},
   "outputs": [],
   "source": [
    "train_data['minimum_nights'] = train_data['minimum_nights'].map(lambda x: 6 if x>=6 else x)\n",
    "\n",
    "train_data['calculated_host_listings_count'] = train_data['calculated_host_listings_count'].map(lambda x: 6 if x>=6 else x)\n",
    "\n",
    "train_data['bathrooms'] = train_data['bathrooms'].map(lambda x: 3 if x>=3 else x)\n",
    "\n",
    "train_data['bedrooms'] = train_data['bedrooms'].map(lambda x: 4 if x>=4 and x<7 else x)\n",
    "\n",
    "train_data['bedrooms'] = train_data['bedrooms'].map(lambda x: 7 if x>=7 else x)\n",
    "\n",
    "\n",
    "train_data['beds'] = train_data['beds'].map(lambda x: 5 if x>=5 else x)\n",
    "\n",
    "train_data['bed_type'] = train_data['bed_type'].map(lambda x: True if x== \"Real Bed\" else False)\n",
    "\n",
    "train_data['guests_included'] = train_data['guests_included'].map(lambda x: 6 if x>=6 else x)\n",
    "\n",
    "train_data['require_guest_profile_picture'] = train_data['require_guest_profile_picture'].map(lambda x: False if x==True else x)\n",
    "\n",
    "train_data['require_guest_phone_verification'] = train_data['require_guest_phone_verification'].map(lambda x: False if x==True else x)\n",
    "\n",
    "\n",
    "\n"
   ]
  },
  {
   "cell_type": "code",
   "execution_count": 12,
   "metadata": {},
   "outputs": [],
   "source": [
    "train_data['room_type'] = train_data['room_type'].map(lambda x: 1 if x==\"Entire home/apt\" else x)\n",
    "train_data['room_type'] = train_data['room_type'].map(lambda x: 2 if x==\"Private room\" else x)\n",
    "train_data['room_type'] = train_data['room_type'].map(lambda x: 3 if x==\"Shared room\" else x)\n",
    "train_data['room_type'] = train_data['room_type'].map(lambda x: 4 if x==\"Hotel room\" else x)\n",
    "\n",
    "\n"
   ]
  },
  {
   "cell_type": "code",
   "execution_count": 13,
   "metadata": {},
   "outputs": [],
   "source": [
    "train_data['host_is_superhost'] = train_data['host_is_superhost'].map(lambda x: True if x==\"f\" else False)\n",
    "train_data['instant_bookable'] = train_data['instant_bookable'].map(lambda x: True if x==\"f\" else False)\n"
   ]
  },
  {
   "cell_type": "code",
   "execution_count": 14,
   "metadata": {},
   "outputs": [],
   "source": [
    "train_data['cancellation_policy'] = train_data['cancellation_policy'].map(lambda x: 4 if (x == \"super_strict_30\" or x == \"super_strict_60\") else x)\n",
    "train_data['cancellation_policy'] = train_data['cancellation_policy'].map(lambda x: 3 if (x == \"moderate\") else x)\n",
    "train_data['cancellation_policy'] = train_data['cancellation_policy'].map(lambda x: 2 if (x == \"flexible\") else x)\n",
    "train_data['cancellation_policy'] = train_data['cancellation_policy'].map(lambda x: 1 if (x == \"strict_14_with_grace_period\") else x)\n"
   ]
  },
  {
   "cell_type": "code",
   "execution_count": 15,
   "metadata": {},
   "outputs": [],
   "source": [
    "m = {\"Palermo\":1,\"Recoleta\":2,\"San Nicolás\":3,\"Retiro\":4,\"Belgrano\":5,\"Monserrat\":6,\"San Telmo \":7,\"Almagro\":8,\"Balvanera\":9,\"Villa Crespo\":10,\"Colegiales\":11,\"Núñez\":12,\"Chacarita\":13,\"Caballito\":14}\n",
    "train_data['neighbourhood'] = train_data['neighbourhood'].map(lambda x: m.get(x) if m.get(x) != None else 15)"
   ]
  },
  {
   "cell_type": "code",
   "execution_count": 16,
   "metadata": {
    "scrolled": true
   },
   "outputs": [],
   "source": [
    "\n",
    "train_data = train_data.drop(columns=['is_business_travel_ready','require_guest_profile_picture','require_guest_phone_verification'])"
   ]
  },
  {
   "cell_type": "code",
   "execution_count": 17,
   "metadata": {},
   "outputs": [],
   "source": [
    "train_data.to_csv(r'./train_cleaned.csv')"
   ]
  },
  {
   "cell_type": "code",
   "execution_count": 18,
   "metadata": {},
   "outputs": [],
   "source": [
    "test_data['last_review'] = test_data['last_review'].\\\n",
    "map(lambda x: (int(x.split('/')[2]+x.split('/')[0])) if (int(x.split('/')[2])>17)\\\n",
    "else int(x.split('/')[2]))\n",
    "\n",
    "\n",
    "test_data['last_review'] = test_data['last_review'].map(lambda x: 15 if x<=15 else x)"
   ]
  },
  {
   "cell_type": "code",
   "execution_count": 19,
   "metadata": {},
   "outputs": [],
   "source": [
    "test_data['host_since'] = test_data['host_since'].\\\n",
    "map(lambda x: (int(x.split('/')[2]+x.split('/')[0])) if (int(x.split('/')[2])>17 and (int(x.split('/')[2])<20))\\\n",
    "else int(x.split('/')[2]))\n",
    "\n",
    "test_data['host_since'] = test_data['host_since'].map(lambda x: 9 if x==8 else x)"
   ]
  },
  {
   "cell_type": "code",
   "execution_count": 20,
   "metadata": {},
   "outputs": [],
   "source": [
    "scale = [0,25,50,100,250, 500, 750, 1000, 1250]\n",
    "for i in range(len(scale)-1):\n",
    "    test_data['maximum_nights'] = test_data['maximum_nights'].map(lambda x: scale[i] if x>=scale[i] and x<scale[i+1] else x)\n",
    "    \n",
    "test_data['maximum_nights'] = test_data['maximum_nights'].map(lambda x: 1250 if x>=1250  else x)"
   ]
  },
  {
   "cell_type": "code",
   "execution_count": 21,
   "metadata": {},
   "outputs": [],
   "source": [
    "scale = [0, 1, 200, 300, 400, 500, 600, 700, 800, 1000, 1250, 1500]\n",
    "for i in range(len(scale)-1):\n",
    "    test_data['extra_people'] = test_data['extra_people'].map(lambda x: scale[i] if x>=scale[i] and x<scale[i+1] else x)\n",
    "\n",
    "test_data['extra_people'] = test_data['extra_people'].map(lambda x: 1500 if x>=1500 else x)"
   ]
  },
  {
   "cell_type": "code",
   "execution_count": 22,
   "metadata": {},
   "outputs": [],
   "source": [
    "scale = [0, 100, 500, 1000, 2000, 3000, 4000, 7000]\n",
    "for i in range(len(scale)-1):\n",
    "    test_data['cleaning_fee'] = test_data['cleaning_fee'].map(lambda x: scale[i] if x>=scale[i] and x<scale[i+1] else x)\n",
    "\n",
    "test_data['cleaning_fee'] = test_data['cleaning_fee'].map(lambda x: 7000 if x>=7000 else x)"
   ]
  },
  {
   "cell_type": "code",
   "execution_count": 23,
   "metadata": {},
   "outputs": [],
   "source": [
    "scale = [0, 1, 50, 75, 100, 150, 176, 200,250,300,350]\n",
    "for i in range(len(scale)-1):\n",
    "    test_data['availability_365'] = test_data['availability_365'].map(lambda x: scale[i] if x>=scale[i] and x<scale[i+1] else x)\n",
    "\n",
    "test_data['availability_365'] = test_data['availability_365'].map(lambda x: 350 if x>=350 else x)"
   ]
  },
  {
   "cell_type": "code",
   "execution_count": 24,
   "metadata": {},
   "outputs": [],
   "source": [
    "scale = [0.1, 0.2, 0.5, .75, 1, 1.8, 3, 4]\n",
    "for i in range(len(scale)-1):\n",
    "    test_data['reviews_per_month'] = test_data['reviews_per_month'].map(lambda x: scale[i] if x>=scale[i] and x<scale[i+1] else x)\n",
    "\n",
    "test_data['reviews_per_month'] = test_data['reviews_per_month'].map(lambda x: 4 if x>=4 else x)"
   ]
  },
  {
   "cell_type": "code",
   "execution_count": 25,
   "metadata": {},
   "outputs": [],
   "source": [
    "scale = [0, 1, 2, 3, 5, 8, 10, 15, 20, 30, 50, 75, 100, 150, 200]\n",
    "for i in range(len(scale)-1):\n",
    "    test_data['number_of_reviews'] = test_data['number_of_reviews'].map(lambda x: scale[i] if x>=scale[i] and x<scale[i+1] else x)\n",
    "\n",
    "test_data['number_of_reviews'] = test_data['number_of_reviews'].map(lambda x: 200 if x>=200 else x)"
   ]
  },
  {
   "cell_type": "code",
   "execution_count": 26,
   "metadata": {},
   "outputs": [],
   "source": [
    "test_data['minimum_nights'] = test_data['minimum_nights'].map(lambda x: 6 if x>=6 else x)\n",
    "\n",
    "test_data['calculated_host_listings_count'] = test_data['calculated_host_listings_count'].map(lambda x: 6 if x>=6 else x)\n",
    "\n",
    "test_data['bathrooms'] = test_data['bathrooms'].map(lambda x: 3 if x>=3 else x)\n",
    "\n",
    "test_data['bedrooms'] = test_data['bedrooms'].map(lambda x: 4 if x>=4 and x<7 else x)\n",
    "\n",
    "test_data['bedrooms'] = test_data['bedrooms'].map(lambda x: 7 if x>=7 else x)\n",
    "\n",
    "\n",
    "test_data['beds'] = test_data['beds'].map(lambda x: 5 if x>=5 else x)\n",
    "\n",
    "test_data['bed_type'] = test_data['bed_type'].map(lambda x: True if x== \"Real Bed\" else False)\n",
    "\n",
    "test_data['guests_included'] = test_data['guests_included'].map(lambda x: 6 if x>=6 else x)\n",
    "\n",
    "test_data['require_guest_profile_picture'] = test_data['require_guest_profile_picture'].map(lambda x: False if x==True else x)\n",
    "\n",
    "test_data['require_guest_phone_verification'] = test_data['require_guest_phone_verification'].map(lambda x: False if x==True else x)\n",
    "\n",
    "\n",
    "\n"
   ]
  },
  {
   "cell_type": "code",
   "execution_count": 27,
   "metadata": {},
   "outputs": [],
   "source": [
    "test_data['room_type'] = test_data['room_type'].map(lambda x: 1 if x==\"Entire home/apt\" else x)\n",
    "test_data['room_type'] = test_data['room_type'].map(lambda x: 2 if x==\"Private room\" else x)\n",
    "test_data['room_type'] = test_data['room_type'].map(lambda x: 3 if x==\"Shared room\" else x)\n",
    "test_data['room_type'] = test_data['room_type'].map(lambda x: 4 if x==\"Hotel room\" else x)\n",
    "\n",
    "\n"
   ]
  },
  {
   "cell_type": "code",
   "execution_count": 28,
   "metadata": {},
   "outputs": [],
   "source": [
    "test_data['host_is_superhost'] = test_data['host_is_superhost'].map(lambda x: True if x==\"f\" else False)\n",
    "test_data['instant_bookable'] = test_data['instant_bookable'].map(lambda x: True if x==\"f\" else False)\n"
   ]
  },
  {
   "cell_type": "code",
   "execution_count": 29,
   "metadata": {},
   "outputs": [],
   "source": [
    "test_data['cancellation_policy'] = test_data['cancellation_policy'].map(lambda x: 4 if (x == \"super_strict_30\" or x == \"super_strict_60\") else x)\n",
    "test_data['cancellation_policy'] = test_data['cancellation_policy'].map(lambda x: 3 if (x == \"moderate\") else x)\n",
    "test_data['cancellation_policy'] = test_data['cancellation_policy'].map(lambda x: 2 if (x == \"flexible\") else x)\n",
    "test_data['cancellation_policy'] = test_data['cancellation_policy'].map(lambda x: 1 if (x == \"strict_14_with_grace_period\") else x)\n"
   ]
  },
  {
   "cell_type": "code",
   "execution_count": 30,
   "metadata": {},
   "outputs": [],
   "source": [
    "m = {\"Palermo\":1,\"Recoleta\":2,\"San Nicolás\":3,\"Retiro\":4,\"Belgrano\":5,\"Monserrat\":6,\"San Telmo \":7,\"Almagro\":8,\"Balvanera\":9,\"Villa Crespo\":10,\"Colegiales\":11,\"Núñez\":12,\"Chacarita\":13,\"Caballito\":14}\n",
    "test_data['neighbourhood'] = test_data['neighbourhood'].map(lambda x: m.get(x) if m.get(x) != None else 15)"
   ]
  },
  {
   "cell_type": "code",
   "execution_count": 31,
   "metadata": {},
   "outputs": [],
   "source": [
    "test_data = test_data.drop(columns=['is_business_travel_ready','require_guest_profile_picture','require_guest_phone_verification'])"
   ]
  },
  {
   "cell_type": "code",
   "execution_count": 32,
   "metadata": {},
   "outputs": [],
   "source": [
    "test_data.to_csv(r'./test_cleaned.csv')"
   ]
  },
  {
   "cell_type": "code",
   "execution_count": null,
   "metadata": {},
   "outputs": [],
   "source": []
  },
  {
   "cell_type": "code",
   "execution_count": null,
   "metadata": {},
   "outputs": [],
   "source": []
  }
 ],
 "metadata": {
  "kernelspec": {
   "display_name": "Python 3",
   "language": "python",
   "name": "python3"
  },
  "language_info": {
   "codemirror_mode": {
    "name": "ipython",
    "version": 3
   },
   "file_extension": ".py",
   "mimetype": "text/x-python",
   "name": "python",
   "nbconvert_exporter": "python",
   "pygments_lexer": "ipython3",
   "version": "3.7.4"
  }
 },
 "nbformat": 4,
 "nbformat_minor": 4
}
