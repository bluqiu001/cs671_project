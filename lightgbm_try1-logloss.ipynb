{
 "cells": [
  {
   "cell_type": "code",
   "execution_count": 1,
   "metadata": {},
   "outputs": [],
   "source": [
    "from sklearn.model_selection import KFold\n",
    "from sklearn.metrics import accuracy_score\n",
    "import pandas as pd\n",
    "import numpy as np\n",
    "import lightgbm as lgb"
   ]
  },
  {
   "cell_type": "code",
   "execution_count": 2,
   "metadata": {},
   "outputs": [],
   "source": [
    "train_data = pd.read_csv('./train_noclean.csv')\n",
    "test_data = pd.read_csv('./test_noclean.csv')\n",
    "\n",
    "y_train = train_data.loc[:,'price']\n",
    "train_data = train_data.drop(columns='price')\n",
    "num_features = len(train_data.columns)\n",
    "features = list(train_data.columns[2:num_features])\n",
    "X_train = train_data.loc[:,features]\n",
    "\n",
    "features = list(test_data.columns[2:num_features])\n",
    "\n",
    "X_test = test_data.loc[:,features]\n",
    "test_labels = test_data.loc[:,'id']\n",
    "\n",
    "test_labels = test_labels.to_frame()"
   ]
  },
  {
   "cell_type": "code",
   "execution_count": 3,
   "metadata": {},
   "outputs": [],
   "source": [
    "def run_model(X_train, y_train, learn, max_depth, num_class, num_leaves, min_data_in_leaf, rounds):\n",
    "    params={}\n",
    "    params['learning_rate']=0.03\n",
    "    params['boosting_type']='gbdt' #GradientBoostingDecisionTree\n",
    "    params['objective']='multiclass' #Multi-class target feature\n",
    "    params['metric']='multi_error' #metric for multi-class\n",
    "    params['max_depth']=max_depth\n",
    "    params['num_class']=num_class\n",
    "    params['num_leaves']=num_leaves\n",
    "    clf=lgb.train(params,d_train,rounds)"
   ]
  },
  {
   "cell_type": "code",
   "execution_count": 5,
   "metadata": {},
   "outputs": [
    {
     "name": "stdout",
     "output_type": "stream",
     "text": [
      "Fitting 10 folds for each of 800 candidates, totalling 8000 fits\n"
     ]
    },
    {
     "name": "stderr",
     "output_type": "stream",
     "text": [
      "[Parallel(n_jobs=-1)]: Using backend LokyBackend with 16 concurrent workers.\n",
      "[Parallel(n_jobs=-1)]: Done   9 tasks      | elapsed:   42.7s\n",
      "[Parallel(n_jobs=-1)]: Done  18 tasks      | elapsed:  1.1min\n",
      "[Parallel(n_jobs=-1)]: Done  29 tasks      | elapsed:  1.3min\n",
      "[Parallel(n_jobs=-1)]: Done  40 tasks      | elapsed:  1.5min\n",
      "[Parallel(n_jobs=-1)]: Done  53 tasks      | elapsed:  1.7min\n",
      "[Parallel(n_jobs=-1)]: Done  66 tasks      | elapsed:  1.8min\n",
      "[Parallel(n_jobs=-1)]: Done  81 tasks      | elapsed:  2.0min\n",
      "[Parallel(n_jobs=-1)]: Done  96 tasks      | elapsed:  2.3min\n",
      "[Parallel(n_jobs=-1)]: Done 113 tasks      | elapsed:  2.6min\n",
      "[Parallel(n_jobs=-1)]: Done 130 tasks      | elapsed:  3.1min\n",
      "[Parallel(n_jobs=-1)]: Done 149 tasks      | elapsed:  3.2min\n",
      "[Parallel(n_jobs=-1)]: Done 168 tasks      | elapsed:  3.4min\n",
      "[Parallel(n_jobs=-1)]: Done 189 tasks      | elapsed:  3.6min\n",
      "[Parallel(n_jobs=-1)]: Done 210 tasks      | elapsed:  4.1min\n",
      "[Parallel(n_jobs=-1)]: Done 233 tasks      | elapsed:  4.5min\n",
      "[Parallel(n_jobs=-1)]: Done 256 tasks      | elapsed:  5.0min\n",
      "[Parallel(n_jobs=-1)]: Done 281 tasks      | elapsed:  5.3min\n",
      "[Parallel(n_jobs=-1)]: Done 306 tasks      | elapsed:  5.5min\n",
      "[Parallel(n_jobs=-1)]: Done 333 tasks      | elapsed:  5.7min\n",
      "[Parallel(n_jobs=-1)]: Done 360 tasks      | elapsed:  6.0min\n",
      "[Parallel(n_jobs=-1)]: Done 389 tasks      | elapsed:  6.2min\n",
      "[Parallel(n_jobs=-1)]: Done 418 tasks      | elapsed:  6.5min\n",
      "[Parallel(n_jobs=-1)]: Done 449 tasks      | elapsed:  6.8min\n",
      "[Parallel(n_jobs=-1)]: Done 480 tasks      | elapsed:  7.1min\n",
      "[Parallel(n_jobs=-1)]: Done 513 tasks      | elapsed:  7.5min\n",
      "[Parallel(n_jobs=-1)]: Done 546 tasks      | elapsed:  8.0min\n",
      "[Parallel(n_jobs=-1)]: Done 581 tasks      | elapsed:  8.4min\n",
      "[Parallel(n_jobs=-1)]: Done 616 tasks      | elapsed:  8.7min\n",
      "[Parallel(n_jobs=-1)]: Done 653 tasks      | elapsed:  9.4min\n",
      "[Parallel(n_jobs=-1)]: Done 690 tasks      | elapsed:  9.8min\n",
      "[Parallel(n_jobs=-1)]: Done 729 tasks      | elapsed: 10.4min\n",
      "[Parallel(n_jobs=-1)]: Done 768 tasks      | elapsed: 10.9min\n",
      "[Parallel(n_jobs=-1)]: Done 809 tasks      | elapsed: 11.3min\n",
      "[Parallel(n_jobs=-1)]: Done 850 tasks      | elapsed: 11.8min\n",
      "[Parallel(n_jobs=-1)]: Done 893 tasks      | elapsed: 12.7min\n",
      "[Parallel(n_jobs=-1)]: Done 936 tasks      | elapsed: 13.2min\n",
      "[Parallel(n_jobs=-1)]: Done 981 tasks      | elapsed: 13.8min\n",
      "[Parallel(n_jobs=-1)]: Done 1026 tasks      | elapsed: 14.1min\n",
      "[Parallel(n_jobs=-1)]: Done 1073 tasks      | elapsed: 14.6min\n",
      "[Parallel(n_jobs=-1)]: Done 1120 tasks      | elapsed: 15.2min\n",
      "[Parallel(n_jobs=-1)]: Done 1169 tasks      | elapsed: 15.8min\n",
      "[Parallel(n_jobs=-1)]: Done 1218 tasks      | elapsed: 16.2min\n",
      "[Parallel(n_jobs=-1)]: Done 1269 tasks      | elapsed: 16.6min\n",
      "[Parallel(n_jobs=-1)]: Done 1320 tasks      | elapsed: 17.0min\n",
      "[Parallel(n_jobs=-1)]: Done 1373 tasks      | elapsed: 17.4min\n",
      "[Parallel(n_jobs=-1)]: Done 1426 tasks      | elapsed: 17.8min\n",
      "[Parallel(n_jobs=-1)]: Done 1481 tasks      | elapsed: 18.4min\n",
      "[Parallel(n_jobs=-1)]: Done 1536 tasks      | elapsed: 18.8min\n",
      "[Parallel(n_jobs=-1)]: Done 1593 tasks      | elapsed: 19.5min\n",
      "[Parallel(n_jobs=-1)]: Done 1650 tasks      | elapsed: 20.4min\n",
      "[Parallel(n_jobs=-1)]: Done 1709 tasks      | elapsed: 20.9min\n",
      "[Parallel(n_jobs=-1)]: Done 1768 tasks      | elapsed: 21.4min\n",
      "[Parallel(n_jobs=-1)]: Done 1829 tasks      | elapsed: 22.0min\n",
      "[Parallel(n_jobs=-1)]: Done 1890 tasks      | elapsed: 22.3min\n",
      "[Parallel(n_jobs=-1)]: Done 1953 tasks      | elapsed: 22.8min\n",
      "[Parallel(n_jobs=-1)]: Done 2016 tasks      | elapsed: 23.6min\n",
      "[Parallel(n_jobs=-1)]: Done 2081 tasks      | elapsed: 24.6min\n",
      "[Parallel(n_jobs=-1)]: Done 2146 tasks      | elapsed: 25.3min\n",
      "[Parallel(n_jobs=-1)]: Done 2213 tasks      | elapsed: 26.1min\n",
      "[Parallel(n_jobs=-1)]: Done 2280 tasks      | elapsed: 26.9min\n",
      "[Parallel(n_jobs=-1)]: Done 2349 tasks      | elapsed: 27.9min\n",
      "[Parallel(n_jobs=-1)]: Done 2418 tasks      | elapsed: 28.6min\n",
      "[Parallel(n_jobs=-1)]: Done 2489 tasks      | elapsed: 29.2min\n",
      "[Parallel(n_jobs=-1)]: Done 2560 tasks      | elapsed: 30.0min\n",
      "[Parallel(n_jobs=-1)]: Done 2633 tasks      | elapsed: 31.0min\n",
      "[Parallel(n_jobs=-1)]: Done 2706 tasks      | elapsed: 32.0min\n",
      "[Parallel(n_jobs=-1)]: Done 2781 tasks      | elapsed: 32.8min\n",
      "[Parallel(n_jobs=-1)]: Done 2856 tasks      | elapsed: 33.7min\n",
      "[Parallel(n_jobs=-1)]: Done 2933 tasks      | elapsed: 34.4min\n",
      "[Parallel(n_jobs=-1)]: Done 3010 tasks      | elapsed: 35.2min\n",
      "[Parallel(n_jobs=-1)]: Done 3089 tasks      | elapsed: 35.9min\n",
      "[Parallel(n_jobs=-1)]: Done 3168 tasks      | elapsed: 36.5min\n",
      "[Parallel(n_jobs=-1)]: Done 3249 tasks      | elapsed: 37.1min\n",
      "[Parallel(n_jobs=-1)]: Done 3330 tasks      | elapsed: 38.1min\n",
      "[Parallel(n_jobs=-1)]: Done 3413 tasks      | elapsed: 38.8min\n",
      "[Parallel(n_jobs=-1)]: Done 3496 tasks      | elapsed: 40.3min\n",
      "[Parallel(n_jobs=-1)]: Done 3581 tasks      | elapsed: 41.0min\n",
      "[Parallel(n_jobs=-1)]: Done 3666 tasks      | elapsed: 41.7min\n",
      "[Parallel(n_jobs=-1)]: Done 3753 tasks      | elapsed: 42.6min\n",
      "[Parallel(n_jobs=-1)]: Done 3840 tasks      | elapsed: 43.6min\n",
      "[Parallel(n_jobs=-1)]: Done 3929 tasks      | elapsed: 44.5min\n",
      "[Parallel(n_jobs=-1)]: Done 4018 tasks      | elapsed: 45.3min\n",
      "[Parallel(n_jobs=-1)]: Done 4109 tasks      | elapsed: 46.3min\n",
      "[Parallel(n_jobs=-1)]: Done 4200 tasks      | elapsed: 47.3min\n",
      "[Parallel(n_jobs=-1)]: Done 4293 tasks      | elapsed: 48.1min\n",
      "[Parallel(n_jobs=-1)]: Done 4386 tasks      | elapsed: 49.8min\n",
      "[Parallel(n_jobs=-1)]: Done 4481 tasks      | elapsed: 51.1min\n",
      "[Parallel(n_jobs=-1)]: Done 4576 tasks      | elapsed: 52.2min\n",
      "[Parallel(n_jobs=-1)]: Done 4673 tasks      | elapsed: 53.4min\n",
      "[Parallel(n_jobs=-1)]: Done 4770 tasks      | elapsed: 54.7min\n",
      "[Parallel(n_jobs=-1)]: Done 4869 tasks      | elapsed: 55.6min\n",
      "[Parallel(n_jobs=-1)]: Done 4968 tasks      | elapsed: 56.7min\n",
      "[Parallel(n_jobs=-1)]: Done 5069 tasks      | elapsed: 58.6min\n",
      "[Parallel(n_jobs=-1)]: Done 5170 tasks      | elapsed: 59.3min\n",
      "[Parallel(n_jobs=-1)]: Done 5273 tasks      | elapsed: 61.2min\n",
      "[Parallel(n_jobs=-1)]: Done 5376 tasks      | elapsed: 62.1min\n",
      "[Parallel(n_jobs=-1)]: Done 5481 tasks      | elapsed: 63.2min\n",
      "[Parallel(n_jobs=-1)]: Done 5586 tasks      | elapsed: 64.6min\n",
      "[Parallel(n_jobs=-1)]: Done 5693 tasks      | elapsed: 65.7min\n",
      "[Parallel(n_jobs=-1)]: Done 5800 tasks      | elapsed: 66.5min\n",
      "[Parallel(n_jobs=-1)]: Done 5909 tasks      | elapsed: 67.3min\n",
      "[Parallel(n_jobs=-1)]: Done 6018 tasks      | elapsed: 68.3min\n",
      "[Parallel(n_jobs=-1)]: Done 6129 tasks      | elapsed: 69.8min\n",
      "[Parallel(n_jobs=-1)]: Done 6240 tasks      | elapsed: 71.0min\n",
      "[Parallel(n_jobs=-1)]: Done 6353 tasks      | elapsed: 71.9min\n",
      "[Parallel(n_jobs=-1)]: Done 6466 tasks      | elapsed: 73.3min\n",
      "[Parallel(n_jobs=-1)]: Done 6581 tasks      | elapsed: 74.3min\n",
      "[Parallel(n_jobs=-1)]: Done 6696 tasks      | elapsed: 75.7min\n",
      "[Parallel(n_jobs=-1)]: Done 6813 tasks      | elapsed: 77.3min\n",
      "[Parallel(n_jobs=-1)]: Done 6930 tasks      | elapsed: 78.4min\n",
      "[Parallel(n_jobs=-1)]: Done 7049 tasks      | elapsed: 79.6min\n",
      "[Parallel(n_jobs=-1)]: Done 7168 tasks      | elapsed: 81.0min\n",
      "[Parallel(n_jobs=-1)]: Done 7289 tasks      | elapsed: 82.9min\n",
      "[Parallel(n_jobs=-1)]: Done 7410 tasks      | elapsed: 84.5min\n",
      "[Parallel(n_jobs=-1)]: Done 7533 tasks      | elapsed: 85.9min\n",
      "[Parallel(n_jobs=-1)]: Done 7656 tasks      | elapsed: 87.2min\n",
      "[Parallel(n_jobs=-1)]: Done 7781 tasks      | elapsed: 88.4min\n",
      "[Parallel(n_jobs=-1)]: Done 7906 tasks      | elapsed: 89.9min\n",
      "[Parallel(n_jobs=-1)]: Done 8000 out of 8000 | elapsed: 90.9min finished\n"
     ]
    },
    {
     "name": "stdout",
     "output_type": "stream",
     "text": [
      "{'subsample_freq': 20, 'subsample': 1, 'reg_lambda': 1.2, 'reg_alpha': 0.8, 'num_leaves': 50, 'n_estimators': 1500, 'min_split_gain': 0.3, 'min_data_in_leaf': 15, 'max_depth': 20, 'learning_rate': 0.01, 'colsample_bytree': 0.7} 0.5621325128572524\n"
     ]
    }
   ],
   "source": [
    "from sklearn.model_selection import GridSearchCV, RandomizedSearchCV\n",
    "\n",
    "kf = KFold(n_splits = 10, shuffle=True)\n",
    "\n",
    "\n",
    "X = np.concatenate([X_train], axis= 0)\n",
    "y = np.concatenate([y_train], axis= 0)\n",
    "param_grid = {\n",
    "    'n_estimators': [100, 500, 1000, 1500, 2000],\n",
    "    'colsample_bytree': [0.7, 0.8],\n",
    "    'max_depth': [10, 15,20,25],\n",
    "    'num_leaves': [10, 20, 30, 40, 50],\n",
    "    'reg_lambda': [0.2, 0.5, 0.8, 1, 1.1, 1.2],\n",
    "    'reg_alpha' : [0.2, 0.5, 0.8, 1, 1.1, 1.2], \n",
    "    'min_split_gain': [0.3, 0.4],\n",
    "    'subsample': [0.7, 0.8, 0.9, 1],\n",
    "    'subsample_freq': [20], \n",
    "    'min_data_in_leaf': [15, 25, 30, 40],\n",
    "    'learning_rate': [0.005, 0.01, 0.05, 0.1]\n",
    "}\n",
    "lgb_estimator = lgb.LGBMClassifier(boosting_type='gbdt',  objective='multiclass', metric='multi_logloss')\n",
    "rsearch = RandomizedSearchCV(estimator=lgb_estimator, param_distributions=param_grid, cv=kf, n_iter = 800, n_jobs = -1, verbose=10)\n",
    "lgb_model = rsearch.fit(X=X, y=y)\n",
    "\n",
    "\n",
    "print(lgb_model.best_params_, lgb_model.best_score_)\n"
   ]
  },
  {
   "cell_type": "code",
   "execution_count": 7,
   "metadata": {},
   "outputs": [
    {
     "name": "stdout",
     "output_type": "stream",
     "text": [
      "{'subsample_freq': 20, 'subsample': 0.9, 'reg_lambda': 0.5, 'reg_alpha': 0.5, 'num_leaves': 50, 'n_estimators': 1000, 'min_split_gain': 0.4, 'min_data_in_leaf': 15, 'max_depth': 25, 'learning_rate': 0.01, 'colsample_bytree': 0.8} 0.5570704227754608\n"
     ]
    }
   ],
   "source": [
    "print(lgb_model.best_params_, lgb_model.best_score_)\n",
    "#RANDOM SEARCH WITH 1000 CANDIDATES"
   ]
  },
  {
   "cell_type": "code",
   "execution_count": 5,
   "metadata": {},
   "outputs": [
    {
     "name": "stdout",
     "output_type": "stream",
     "text": [
      "{'subsample_freq': 20, 'subsample': 0.9, 'reg_lambda': 1.1, 'reg_alpha': 0.8, 'num_leaves': 40, 'n_estimators': 1500, 'min_split_gain': 0.4, 'min_data_in_leaf': 15, 'max_depth': 20, 'learning_rate': 0.01, 'colsample_bytree': 0.7} 0.559755840135097\n"
     ]
    }
   ],
   "source": [
    "print(lgb_model.best_params_, lgb_model.best_score_)\n",
    "#THIS IS FOR THE RANDOM SEARCH WITH 100 CANDIATES"
   ]
  },
  {
   "cell_type": "code",
   "execution_count": null,
   "metadata": {},
   "outputs": [],
   "source": [
    "from sklearn.model_selection import GridSearchCV, RandomizedSearchCV\n",
    "\n",
    "kf = KFold(n_splits = 10, shuffle=True)\n",
    "\n",
    "\n",
    "X = np.concatenate([X_train], axis= 0)\n",
    "y = np.concatenate([y_train], axis= 0)\n",
    "param_grid = {\n",
    "    'n_estimators': [100, 500, 1000, 1500, 2000, 2500, 3000],\n",
    "    'colsample_bytree': [0.7],\n",
    "    'max_depth': [10, 15,20,25],\n",
    "    'num_leaves': [ 30],\n",
    "    'reg_lambda': [ 1.1, 1, 1.2],\n",
    "    'reg_alpha' : [ 0.8], \n",
    "    'min_split_gain': [0.4],\n",
    "    'subsample': [ 0.9, 1],\n",
    "    'subsample_freq': [20], \n",
    "    'min_data_in_leaf': [15, 10, 20],\n",
    "    'learning_rate': [0.01, 0.005]\n",
    "}\n",
    "lgb_estimator = lgb.LGBMClassifier(boosting_type='gbdt',  objective='multiclass', metric='multi_error')\n",
    "rsearch = RandomizedSearchCV(estimator=lgb_estimator, param_distributions=param_grid, cv=kf, n_iter = 1000, n_jobs = -1, verbose=10)\n",
    "lgb_model = rsearch.fit(X=X, y=y)\n",
    "\n",
    "\n",
    "print(lgb_model.best_params_, lgb_model.best_score_)\n"
   ]
  },
  {
   "cell_type": "code",
   "execution_count": null,
   "metadata": {},
   "outputs": [],
   "source": [
    "print(lgb_model.best_params_, lgb_model.best_score_)\n"
   ]
  },
  {
   "cell_type": "code",
   "execution_count": null,
   "metadata": {},
   "outputs": [
    {
     "name": "stderr",
     "output_type": "stream",
     "text": [
      "/opt/conda/lib/python3.7/site-packages/lightgbm/engine.py:151: UserWarning: Found `n_estimators` in params. Will use it instead of argument\n",
      "  warnings.warn(\"Found `{}` in params. Will use it instead of argument\".format(alias))\n"
     ]
    },
    {
     "name": "stdout",
     "output_type": "stream",
     "text": [
      "0.5407636738906089\n",
      "0.5196280991735537\n",
      "0.5485537190082644\n",
      "0.5516528925619835\n",
      "0.5640495867768595\n"
     ]
    }
   ],
   "source": [
    "from sklearn.metrics import accuracy_score\n",
    "import lightgbm as lgb\n",
    "kf = KFold(n_splits = 10, shuffle=True)\n",
    "\n",
    "\n",
    "X = np.concatenate([X_train], axis= 0)\n",
    "y = np.concatenate([y_train], axis= 0)\n",
    "\n",
    "for train, test in kf.split(X_train):\n",
    "    X_train_kf, X_test_kf = X[train],X[test]\n",
    "    y_train_kf, y_test_kf = y[train],y[test]\n",
    "    d_train=lgb.Dataset(X_train_kf, label=y_train_kf)\n",
    "    best_param = {'verbose':-1,'boosting_type':'gbdt',  'objective':'multiclass', 'num_class':5, 'metric':'multi_logloss','subsample_freq': 20, 'subsample': 1, 'reg_lambda': 1.2, 'reg_alpha': 0.8, 'num_leaves': 50, 'n_estimators': 1500, 'min_split_gain': 0.3, 'min_data_in_leaf': 15, 'max_depth': 20, 'learning_rate': 0.01, 'colsample_bytree': 0.7}\n",
    "    clf=lgb.train(best_param,d_train )\n",
    "    \n",
    "    y_pred=clf.predict(X_test_kf)\n",
    "    y_pred = [np.argmax(line) for line in y_pred]\n",
    "    print(accuracy_score(y_test_kf, y_pred))"
   ]
  },
  {
   "cell_type": "code",
   "execution_count": 10,
   "metadata": {},
   "outputs": [
    {
     "name": "stdout",
     "output_type": "stream",
     "text": [
      "0.56656346749226\n",
      "0.5402892561983471\n",
      "0.5702479338842975\n",
      "0.5557851239669421\n",
      "0.5867768595041323\n",
      "0.5733471074380165\n",
      "0.5464876033057852\n",
      "0.5175619834710744\n",
      "0.5568181818181818\n",
      "0.5568181818181818\n"
     ]
    }
   ],
   "source": [
    "from sklearn.metrics import accuracy_score\n",
    "import lightgbm as lgb\n",
    "kf = KFold(n_splits = 10, shuffle=True)\n",
    "\n",
    "\n",
    "X = np.concatenate([X_train], axis= 0)\n",
    "y = np.concatenate([y_train], axis= 0)\n",
    "\n",
    "for train, test in kf.split(X_train):\n",
    "    X_train_kf, X_test_kf = X[train],X[test]\n",
    "    y_train_kf, y_test_kf = y[train],y[test]\n",
    "    d_train=lgb.Dataset(X_train_kf, label=y_train_kf)\n",
    "    best_param = {'verbose':-1,'boosting_type':'gbdt',  'objective':'multiclass', 'num_class':5, 'metric':'multi_error','subsample_freq': 20, 'subsample': 0.9, 'reg_lambda': 0.5, 'reg_alpha': 0.5, 'num_leaves': 50, 'n_estimators': 1000, 'min_split_gain': 0.4, 'min_data_in_leaf': 15, 'max_depth': 25, 'learning_rate': 0.01, 'colsample_bytree': 0.8}\n",
    "    clf=lgb.train(best_param,d_train )\n",
    "    \n",
    "    y_pred=clf.predict(X_test_kf)\n",
    "    y_pred = [np.argmax(line) for line in y_pred]\n",
    "    print(accuracy_score(y_test_kf, y_pred))"
   ]
  },
  {
   "cell_type": "code",
   "execution_count": null,
   "metadata": {},
   "outputs": [],
   "source": [
    "from sklearn.metrics import accuracy_score\n",
    "import lightgbm as lgb\n",
    "kf = KFold(n_splits = 10, shuffle=True)\n",
    "\n",
    "\n",
    "X = np.concatenate([X_train], axis= 0)\n",
    "y = np.concatenate([y_train], axis= 0)\n",
    "\n",
    "for train, test in kf.split(X_train):\n",
    "    X_train_kf, X_test_kf = X[train],X[test]\n",
    "    y_train_kf, y_test_kf = y[train],y[test]\n",
    "    d_train=lgb.Dataset(X_train_kf, label=y_train_kf)\n",
    "    best_param = {'verbose':-1,'boosting_type':'gbdt',  'objective':'multiclass', 'learning_rate':0.01, 'num_class':5, 'metric':'multi_error','subsample_freq': 20, 'subsample': 0.8, 'reg_lambda': 1.2, 'num_leaves': 40, 'n_estimators': 1000, 'min_split_gain': 0.4, 'min_data_in_leaf': 25, 'max_depth': 20, 'colsample_bytree': 0.7}\n",
    "    clf=lgb.train(best_param,d_train )\n",
    "    \n",
    "    y_pred=clf.predict(X_test_kf)\n",
    "    y_pred = [np.argmax(line) for line in y_pred]\n",
    "    print(accuracy_score(y_test_kf, y_pred))"
   ]
  },
  {
   "cell_type": "code",
   "execution_count": 11,
   "metadata": {},
   "outputs": [],
   "source": [
    "X = np.concatenate([X_train], axis= 0)\n",
    "y = np.concatenate([y_train], axis= 0)\n",
    "best_param = {'verbose':-1,'boosting_type':'gbdt',  'objective':'multiclass', 'num_class':5, 'metric':'multi_logloss','subsample_freq': 20, 'subsample': 1, 'reg_lambda': 1.2, 'reg_alpha': 0.8, 'num_leaves': 50, 'n_estimators': 1500, 'min_split_gain': 0.3, 'min_data_in_leaf': 15, 'max_depth': 20, 'learning_rate': 0.01, 'colsample_bytree': 0.7}\n",
    "\n",
    "best_param1 = {'boosting_type':'gbdt',  'objective':'multiclass', 'learning_rate':0.01, 'num_class':5, 'metric':'multi_error','subsample_freq': 20, 'subsample': 0.8, 'reg_lambda': 1.2, 'num_leaves': 40, 'n_estimators': 1000, 'min_split_gain': 0.4, 'min_data_in_leaf': 25, 'max_depth': 20, 'colsample_bytree': 0.7}\n",
    "d_train=lgb.Dataset(X, y)\n",
    "clf=lgb.train(best_param,d_train)"
   ]
  },
  {
   "cell_type": "code",
   "execution_count": 12,
   "metadata": {},
   "outputs": [
    {
     "name": "stdout",
     "output_type": "stream",
     "text": [
      "0.8132424336328892\n"
     ]
    }
   ],
   "source": [
    "y_pred1=clf.predict(X)\n",
    "y_pred1 = [np.argmax(line) for line in y_pred1]\n",
    "print(accuracy_score(y, y_pred1))"
   ]
  },
  {
   "cell_type": "code",
   "execution_count": 13,
   "metadata": {},
   "outputs": [],
   "source": [
    "y_pred=clf.predict(X_test)"
   ]
  },
  {
   "cell_type": "code",
   "execution_count": 14,
   "metadata": {},
   "outputs": [
    {
     "name": "stdout",
     "output_type": "stream",
     "text": [
      "[[9.69544159e-16 1.99476780e-01 5.00940067e-01 2.05434926e-01\n",
      "  9.41482270e-02]\n",
      " [9.15032637e-16 6.63780722e-02 3.44014882e-01 4.85998252e-01\n",
      "  1.03608794e-01]\n",
      " [9.45876002e-16 2.22367091e-01 4.66117303e-01 2.60199924e-01\n",
      "  5.13156815e-02]\n",
      " ...\n",
      " [9.97185634e-16 8.29134740e-02 2.42564909e-01 4.12964599e-01\n",
      "  2.61557017e-01]\n",
      " [4.13292006e-16 8.93739245e-01 6.12779253e-02 3.16651961e-02\n",
      "  1.33176333e-02]\n",
      " [1.32725524e-15 2.09437907e-01 3.62622609e-01 3.03283919e-01\n",
      "  1.24655565e-01]]\n"
     ]
    }
   ],
   "source": [
    "print(y_pred)"
   ]
  },
  {
   "cell_type": "code",
   "execution_count": 15,
   "metadata": {},
   "outputs": [],
   "source": [
    "y_pred = [np.argmax(line) for line in y_pred]"
   ]
  },
  {
   "cell_type": "code",
   "execution_count": 16,
   "metadata": {},
   "outputs": [
    {
     "name": "stdout",
     "output_type": "stream",
     "text": [
      "[2, 3, 2, 2, 1, 4, 4, 1, 3, 4, 1, 1, 1, 3, 1, 1, 1, 2, 2, 4, 3, 2, 2, 4, 2, 4, 4, 4, 1, 4, 3, 3, 1, 1, 3, 4, 4, 1, 1, 1, 4, 4, 4, 1, 4, 4, 4, 1, 2, 2, 2, 3, 1, 1, 1, 4, 1, 4, 2, 2, 2, 4, 1, 3, 1, 4, 1, 4, 2, 3, 4, 3, 2, 3, 3, 2, 4, 3, 1, 1, 2, 3, 1, 3, 2, 4, 1, 3, 1, 1, 2, 2, 3, 2, 1, 4, 4, 2, 2, 2, 1, 1, 2, 4, 1, 1, 1, 3, 1, 1, 3, 1, 4, 3, 3, 3, 4, 4, 3, 1, 1, 4, 2, 1, 2, 3, 3, 1, 1, 4, 3, 3, 3, 3, 1, 4, 3, 4, 4, 2, 4, 3, 4, 4, 4, 3, 4, 4, 2, 4, 1, 1, 4, 2, 1, 2, 4, 3, 4, 1, 3, 2, 3, 4, 3, 3, 2, 4, 1, 2, 4, 1, 1, 4, 1, 2, 2, 4, 4, 3, 2, 4, 4, 2, 3, 3, 1, 3, 3, 3, 3, 2, 1, 3, 1, 1, 3, 1, 1, 1, 4, 3, 1, 1, 2, 3, 2, 3, 4, 3, 2, 1, 2, 2, 4, 3, 3, 3, 3, 4, 2, 4, 3, 1, 1, 3, 3, 4, 2, 4, 3, 4, 3, 3, 3, 4, 2, 3, 4, 1, 2, 1, 2, 2, 4, 2, 1, 2, 4, 4, 2, 1, 1, 1, 4, 1, 2, 2, 2, 4, 3, 2, 3, 1, 3, 1, 1, 1, 1, 2, 3, 4, 1, 1, 3, 3, 1, 1, 3, 3, 2, 2, 3, 3, 2, 4, 3, 3, 2, 2, 2, 3, 1, 2, 3, 1, 3, 2, 1, 4, 4, 3, 4, 1, 2, 3, 1, 1, 3, 3, 4, 2, 4, 1, 3, 4, 4, 1, 3, 4, 1, 2, 2, 2, 1, 3, 1, 1, 4, 2, 4, 3, 3, 2, 4, 1, 3, 3, 1, 2, 1, 2, 1, 3, 4, 3, 3, 2, 1, 3, 1, 1, 3, 1, 2, 4, 4, 3, 2, 1, 1, 1, 1, 1, 3, 2, 2, 4, 1, 1, 1, 3, 3, 3, 4, 4, 4, 3, 4, 2, 1, 3, 2, 3, 3, 2, 2, 4, 3, 1, 3, 3, 4, 1, 1, 2, 2, 3, 3, 4, 4, 2, 3, 2, 3, 1, 4, 3, 3, 1, 2, 2, 2, 4, 2, 1, 1, 3, 1, 1, 3, 4, 3, 4, 4, 1, 2, 2, 2, 4, 3, 1, 3, 4, 3, 1, 4, 4, 1, 3, 2, 4, 1, 4, 4, 3, 4, 1, 1, 3, 4, 4, 2, 2, 3, 4, 2, 4, 4, 4, 1, 1, 2, 4, 4, 2, 3, 4, 4, 3, 1, 1, 3, 3, 1, 1, 2, 3, 3, 2, 2, 4, 1, 2, 2, 3, 4, 1, 3, 1, 4, 3, 4, 4, 2, 1, 3, 4, 3, 1, 4, 4, 1, 2, 1, 2, 4, 3, 1, 4, 4, 3, 1, 3, 1, 4, 4, 4, 3, 2, 2, 4, 3, 3, 4, 3, 2, 3, 1, 2, 2, 2, 4, 3, 2, 2, 4, 1, 3, 4, 4, 1, 2, 2, 3, 4, 1, 4, 1, 1, 3, 4, 2, 3, 4, 4, 4, 2, 3, 1, 4, 1, 1, 3, 2, 2, 4, 3, 1, 1, 3, 3, 1, 4, 2, 1, 1, 1, 4, 2, 4, 3, 3, 3, 2, 2, 3, 4, 3, 3, 2, 2, 3, 4, 3, 2, 4, 1, 4, 1, 3, 4, 1, 1, 1, 2, 4, 1, 3, 2, 3, 4, 2, 1, 1, 3, 1, 1, 4, 4, 1, 2, 3, 4, 2, 3, 3, 3, 3, 4, 2, 3, 4, 4, 3, 4, 3, 2, 3, 1, 1, 4, 2, 1, 3, 1, 3, 4, 2, 3, 1, 2, 2, 1, 3, 3, 2, 1, 3, 2, 1, 3, 4, 1, 3, 4, 1, 3, 4, 2, 1, 4, 4, 3, 4, 3, 3, 2, 2, 2, 4, 4, 2, 4, 2, 1, 2, 4, 1, 1, 4, 1, 4, 4, 2, 2, 4, 1, 4, 1, 1, 4, 4, 1, 1, 1, 1, 3, 3, 2, 1, 4, 2, 1, 4, 3, 1, 4, 3, 2, 2, 4, 4, 4, 2, 4, 3, 4, 2, 3, 2, 3, 3, 2, 3, 1, 2, 4, 2, 4, 3, 4, 4, 3, 4, 2, 2, 3, 1, 2, 2, 3, 1, 4, 1, 3, 1, 2, 2, 3, 2, 3, 3, 3, 4, 3, 1, 1, 4, 1, 2, 4, 2, 4, 2, 2, 2, 3, 3, 3, 2, 1, 2, 1, 2, 4, 3, 4, 4, 2, 4, 1, 4, 3, 1, 1, 1, 2, 2, 4, 3, 4, 3, 1, 4, 4, 3, 4, 3, 1, 2, 3, 4, 3, 1, 4, 3, 4, 2, 1, 2, 3, 4, 4, 4, 4, 3, 4, 2, 1, 3, 1, 3, 4, 1, 4, 1, 4, 2, 1, 4, 4, 4, 3, 4, 4, 1, 3, 2, 2, 2, 2, 4, 4, 2, 3, 1, 4, 1, 4, 4, 2, 3, 1, 1, 2, 1, 3, 1, 3, 1, 4, 1, 3, 2, 3, 1, 1, 4, 4, 2, 1, 1, 2, 1, 3, 2, 3, 3, 1, 4, 3, 2, 1, 3, 4, 1, 2, 1, 4, 3, 1, 4, 1, 4, 2, 4, 1, 1, 3, 3, 2, 3, 3, 3, 2, 4, 3, 2, 4, 4, 2, 3, 3, 4, 1, 1, 1, 1, 2, 1, 1, 1, 4, 1, 1, 3, 3, 3, 4, 4, 1, 1, 2, 3, 1, 3, 1, 1, 3, 3, 4, 1, 1, 1, 3, 2, 3, 2, 4, 2, 3, 4, 1, 3, 3, 1, 3, 1, 2, 3, 1, 4, 3, 4, 4, 2, 3, 3, 4, 4, 1, 2, 2, 3, 3, 3, 2, 1, 1, 2, 2, 3, 3, 1, 2, 4, 2, 3, 4, 2, 2, 3, 2, 2, 4, 3, 4, 4, 3, 2, 4, 3, 2, 1, 4, 3, 2, 2, 3, 1, 3, 2, 4, 3, 2, 1, 3, 4, 1, 3, 3, 1, 3, 3, 1, 1, 2, 2, 1, 3, 3, 4, 3, 3, 1, 1, 4, 2, 4, 2, 2, 1, 3, 1, 1, 1, 1, 1, 1, 1, 3, 2, 1, 2, 2, 3, 2, 1, 3, 1, 3, 1, 3, 2, 3, 2, 1, 4, 2, 2, 1, 3, 4, 2, 1, 3, 2, 4, 4, 4, 2, 3, 1, 3, 2, 3, 3, 1, 2, 2, 4, 1, 1, 2, 1, 1, 1, 2, 4, 1, 4, 3, 4, 1, 1, 4, 3, 3, 1, 1, 4, 3, 1, 1, 2, 3, 2, 3, 1, 4, 2, 4, 1, 1, 4, 2, 1, 4, 3, 1, 2, 2, 3, 4, 2, 1, 2, 4, 1, 2, 3, 2, 4, 3, 2, 1, 3, 1, 4, 3, 3, 2, 1, 1, 2, 1, 1, 1, 4, 4, 4, 2, 2, 2, 1, 2, 1, 3, 3, 1, 1, 3, 2, 3, 2, 1, 3, 4, 3, 3, 3, 1, 4, 3, 1, 1, 2, 4, 3, 1, 4, 3, 3, 3, 4, 1, 1, 1, 1, 3, 2, 3, 4, 3, 1, 1, 1, 2, 1, 3, 2, 1, 2, 1, 2, 4, 2, 3, 2, 3, 1, 3, 4, 1, 1, 3, 3, 1, 4, 4, 1, 3, 2, 1, 2, 3, 1, 2, 1, 2, 2, 4, 3, 4, 1, 4, 3, 4, 3, 2, 1, 1, 3, 2, 3, 2, 3, 3, 2, 1, 3, 2, 2, 2, 3, 1, 1, 4, 2, 1, 3, 1, 1, 3, 4, 3, 4, 3, 1, 2, 2, 2, 2, 4, 4, 2, 3, 4, 3, 3, 2, 1, 1, 4, 2, 3, 4, 1, 1, 3, 2, 2, 2, 3, 2, 2, 4, 3, 1, 2, 3, 4, 2, 1, 1, 3, 3, 2, 4, 3, 3, 2, 4, 1, 2, 1, 4, 2, 2, 1, 2, 3, 3, 2, 3, 3, 2, 4, 3, 1, 3, 1, 1, 2, 3, 1, 1, 2, 1, 4, 1, 4, 3, 4, 4, 4, 2, 3, 4, 2, 3, 2, 3, 3, 2, 3, 3, 1, 4, 2, 4, 2, 3, 1, 1, 1, 4, 4, 2, 3, 4, 3, 1, 3, 3, 4, 2, 2, 1, 2, 3, 3, 3, 1, 3, 2, 4, 3, 1, 2, 2, 2, 4, 3, 3, 2, 2, 1, 2, 3, 2, 1, 1, 4, 3, 4, 2, 4, 3, 3, 2, 3, 3, 1, 1, 2, 1, 2, 4, 4, 2, 2, 4, 4, 1, 2, 1, 4, 3, 1, 3, 4, 1, 3, 1, 2, 1, 1, 4, 2, 4, 4, 1, 3, 1, 4, 2, 1, 1, 3, 1, 2, 2, 1, 4, 2, 3, 3, 3, 3, 1, 3, 3, 4, 2, 3, 3, 1, 2, 3, 1, 3, 4, 3, 4, 2, 2, 2, 2, 1, 2, 1, 1, 1, 1, 1, 3, 2, 3, 3, 2, 3, 1, 3, 2, 2, 2, 2, 1, 4, 4, 2, 1, 1, 2, 1, 3, 3, 1, 1, 1, 2, 3, 1, 4, 3, 3, 1, 2, 4, 4, 3, 3, 3, 4, 3, 1, 4, 4, 3, 2, 4, 4, 2, 2, 3, 2, 3, 1, 3, 4, 1, 4, 3, 2, 1, 4, 3, 4, 3, 2, 2, 4, 2, 1, 2, 4, 2, 2, 4, 2, 4, 1, 2, 1, 3, 4, 2, 1, 3, 4, 2, 4, 1, 1, 2, 4, 2, 1, 1, 4, 3, 3, 1, 1, 4, 2, 1, 4, 2, 1, 4, 2, 2, 1, 3, 3, 3, 2, 1, 4, 1, 4, 1, 2, 3, 4, 3, 3, 3, 2, 4, 3, 1, 2, 2, 4, 3, 4, 3, 4, 1, 1, 1, 1, 1, 4, 1, 3, 1, 4, 1, 4, 4, 2, 3, 1, 1, 2, 2, 3, 3, 4, 3, 1, 2, 2, 3, 1, 4, 4, 2, 2, 2, 3, 2, 3, 4, 1, 1, 3, 3, 4, 2, 1, 4, 4, 4, 1, 3, 4, 3, 2, 4, 4, 2, 2, 2, 2, 3, 1, 1, 3, 4, 3, 4, 2, 1, 4, 1, 3, 2, 1, 2, 3, 4, 2, 4, 2, 3, 3, 1, 1, 3, 2, 3, 4, 2, 3, 3, 1, 2, 4, 1, 2, 2, 2, 1, 1, 3, 3, 3, 2, 2, 1, 1, 1, 1, 1, 1, 3, 4, 4, 4, 3, 3, 2, 3, 1, 3, 3, 3, 2, 2, 4, 2, 1, 3, 1, 4, 2, 2, 3, 2, 1, 1, 2, 4, 4, 2, 1, 3, 1, 2, 1, 3, 3, 1, 3, 3, 4, 3, 4, 3, 4, 4, 3, 4, 2, 3, 4, 1, 1, 1, 3, 4, 3, 3, 1, 1, 3, 4, 4, 1, 4, 3, 4, 1, 2, 2, 4, 2, 2, 4, 3, 4, 2, 4, 3, 1, 3, 1, 2, 4, 1, 3, 4, 1, 2, 3, 4, 2, 1, 1, 4, 1, 1, 3, 3, 4, 1, 2, 2, 3, 1, 3, 4, 4, 2, 4, 4, 2, 3, 1, 3, 1, 4, 2, 4, 2, 2, 4, 2, 4, 3, 1, 1, 2, 3, 2, 4, 4, 4, 1, 1, 2, 4, 1, 4, 3, 1, 4, 3, 2, 3, 2, 4, 2, 1, 2, 2, 3, 3, 4, 1, 3, 1, 2, 4, 4, 3, 1, 4, 4, 4, 1, 3, 3, 4, 4, 1, 1, 2, 2, 4, 2, 3, 2, 1, 2, 3, 1, 4, 3, 1, 1, 2, 4, 2, 4, 1, 4, 4, 1, 2, 2, 4, 4, 2, 2, 3, 2, 1, 2, 3, 4, 2, 2, 3, 4, 1, 2, 3, 2, 1, 1, 1, 3, 1, 4, 3, 4, 3, 3, 1, 1, 1, 4, 1, 2, 3, 2, 1, 1, 4, 4, 1, 2, 3, 3, 1, 2, 3, 2, 3, 4, 3, 1, 4, 3, 4, 1, 2, 3, 1, 1, 4, 3, 1, 3, 2, 3, 3, 3, 2, 3, 1, 4, 3, 2, 2, 4, 2, 3, 4, 4, 4, 3, 1, 4, 3, 3, 1, 3, 1, 4, 1, 1, 3, 1, 4, 1, 3, 4, 3, 3, 2, 4, 3, 3, 2, 1, 4, 1, 2, 2, 4, 3, 1, 4, 2, 3, 2, 2, 4, 1, 4, 4, 1, 4, 3, 3, 3, 2, 1, 4, 1, 4, 3, 3, 3, 4, 2, 3, 1, 1, 3, 3, 3, 4, 2, 3, 4, 2, 4, 4, 1, 4, 3, 1, 4, 3, 4, 4, 3, 1, 4, 2, 1, 1, 4, 3, 1, 4, 1, 1, 2, 4, 3, 2, 2, 2, 1, 2, 1, 2, 3, 1, 1, 2, 2, 3, 1, 1, 2, 4, 1, 3, 4, 1, 2, 4, 1, 1, 4, 3, 2, 1, 4, 1, 1, 2, 4, 4, 4, 3, 4, 3, 1, 1, 2, 1, 1, 4, 1, 4, 2, 1, 3, 2, 2, 2, 4, 2, 3, 1, 3, 2, 2, 3, 3, 3, 1, 4, 3, 1, 3, 1, 1, 1, 4, 4, 3, 1, 1, 3, 3, 2, 1, 2, 4, 2, 4, 1, 4, 2, 2, 1, 4, 4, 4, 1, 1, 3, 1, 3, 2, 3, 1, 4, 1, 3, 4, 3, 1, 2, 3, 3, 1, 1, 1, 1, 4, 3, 2, 4, 2, 1, 4, 4, 4, 4, 4, 1, 3, 1, 4, 4, 1, 3, 1, 1, 3, 1, 2, 4, 2, 3, 2, 2, 2, 3, 3, 3, 1, 3, 2, 3, 4, 4, 1, 2, 2, 3, 3, 3, 3, 3, 4, 3, 2, 2, 4, 4, 4, 3, 4, 3, 1, 4, 4, 2, 3, 2, 1, 2, 4, 2, 3, 1, 1, 4, 3, 1, 4, 4, 4, 4, 3, 2, 1, 1, 3, 2, 2, 2, 3, 2, 2, 2, 2, 1, 4, 1, 2, 2, 1, 1, 1, 4, 3, 4, 4, 1, 4, 4, 4, 1, 2, 2, 3, 3, 4, 3, 4, 4, 4, 1, 2, 3, 4, 3, 4, 4, 3, 4, 4, 3, 2, 3, 2, 4, 1, 4, 4, 2, 2, 4, 3, 1, 4, 4, 3, 3, 3, 1, 4, 1, 3, 3, 1, 1, 1, 3, 4, 3, 1, 1, 1, 1, 4, 4, 3, 1, 3, 3, 4, 4, 2, 1, 1, 1, 2, 2, 2, 3, 2, 1, 2, 3, 4, 1, 3, 1, 3, 2, 1, 1, 1, 3, 4, 3, 2, 3, 2, 4, 4, 4, 1, 1, 3, 1, 2, 4, 2, 1, 3, 4, 1, 3, 3, 1, 2, 3, 3, 3, 1, 1, 3, 4, 1, 2, 2, 2, 3, 3, 3, 4, 1, 4, 4, 2, 2, 1, 1, 3, 1, 3, 4, 4, 3, 3, 4, 3, 4, 2, 1, 3, 4, 1, 2, 3, 2, 1, 2, 1, 1, 3, 2, 2, 4, 1, 3, 4, 3, 3, 1, 3, 3, 3, 2, 2, 4, 4, 1, 3, 2, 2, 4, 1, 2, 1, 2, 1, 4, 3, 3, 3, 3, 1, 4, 3, 4, 4, 1, 4, 3, 2, 3, 1, 1, 1, 2, 3, 2, 1, 3, 4, 3, 3, 1, 4, 3, 1, 1, 3, 1, 2, 4, 1, 4, 3, 3, 4, 1, 1, 1, 1, 4, 4, 3, 3, 1, 4, 2, 1, 4, 2, 2, 3, 3, 2, 2, 4, 3, 3, 3, 4, 3, 3, 2, 1, 4, 1, 3, 2, 3, 4, 4, 3, 4, 1, 4, 4, 4, 1, 3, 3, 3, 1, 3, 3, 4, 1, 3, 2, 3, 3, 1, 1, 1, 4, 1, 4, 4, 3, 3, 2, 3, 1, 3, 3, 4, 4, 2, 4, 4, 1, 3, 2, 3, 3, 1, 1, 1, 2, 1, 3, 2, 1, 1, 3, 3, 4, 3, 1, 4, 2, 4, 1, 2, 3, 3, 3, 1, 3, 2, 1, 1, 2, 3, 1, 2, 1, 2, 2, 2, 1, 1, 4, 2, 2, 2, 1, 1, 3, 4, 3, 3, 1, 1, 1, 4, 1, 3, 4, 4, 3, 4, 1, 3, 1, 3, 2, 4, 2, 4, 3, 4, 1, 4, 3, 3, 4, 2, 2, 4, 2, 1, 2, 4, 3, 4, 1, 3, 3, 4, 1, 1, 1, 2, 3, 3, 4, 3, 1, 1, 1, 2, 2, 2, 4, 3, 2, 2, 4, 1, 1, 2, 3, 2, 1, 2, 3, 1, 3, 4, 4, 4, 2, 3, 3, 4, 4, 4, 2, 2, 3, 2, 4, 2, 1, 4, 1, 1, 3, 2, 2, 3, 3, 2, 2, 3, 3, 2, 3, 2, 4, 3, 2, 4, 4, 4, 1, 2, 2, 3, 1, 1, 1, 1, 3, 1, 3, 4, 2, 1, 2, 3, 3, 2, 4, 2, 2, 4, 1, 2, 2, 2, 1, 4, 3, 3, 2, 1, 4, 2, 4, 3, 3, 4, 2, 3, 2, 1, 1, 3, 2, 4, 1, 2, 1, 3, 3, 1, 4, 4, 2, 4, 2, 1, 4, 2, 3, 1, 4, 2, 1, 3, 3, 3, 3, 2, 1, 1, 2, 1, 2, 2, 1, 2, 4, 1, 2, 3, 2, 2, 1, 3, 1, 2, 1, 4, 1, 4, 2, 4, 1, 4, 4, 2, 4, 1, 2, 2, 1, 3, 2, 1, 2, 3, 3, 3, 1, 2, 3, 3, 2, 3, 1, 4, 2, 2, 2, 3, 1, 3, 3, 3, 4, 1, 1, 1, 3, 3, 2, 1, 4, 4, 2, 1, 2, 2, 2, 4, 4, 4, 3, 4, 2, 3, 4, 1, 4, 2, 2, 2, 2, 2, 2, 4, 3, 1, 3, 4, 4, 1, 1, 1, 4, 2, 1, 2, 1, 2, 3, 4, 3, 1, 1, 3, 4, 3, 2, 3, 1, 1, 4, 3, 4, 3, 1, 1, 1, 4, 1, 4, 3, 3, 2, 1, 1, 1, 2, 3, 2, 2, 4, 3, 4, 4, 3, 2, 3, 4, 3, 4, 4, 4, 3, 4, 1, 4, 4, 3, 3, 1, 4, 1, 3, 2, 1, 1, 4, 2, 2, 2, 4, 4, 1, 4, 2, 4, 1, 4, 3, 1, 1, 1, 2, 1, 2, 2, 2, 3, 2, 2, 2, 2, 2, 4, 1, 2, 4, 2, 2, 3, 2, 2, 2, 4, 4, 3, 1, 1, 3, 2, 2, 3, 3, 4, 1, 1, 3, 4, 3, 3, 3, 4, 2, 2, 3, 2, 1, 3, 3, 2, 2, 2, 4, 1, 2, 2, 2, 3, 2, 4, 2, 2, 2, 2, 2, 2, 4, 3, 4, 2, 3, 1, 1, 1, 1, 4, 4, 1, 4, 3, 4, 4, 3, 1, 2, 2, 3, 3, 4, 4, 1, 1, 3, 4, 4, 3, 2, 4, 1, 1, 4, 2, 1, 2, 4, 3, 1, 2, 3, 1, 2, 1, 2, 3, 2, 1, 4, 2, 4, 2, 4, 2, 1, 4, 2, 1, 2, 3, 2, 3, 3, 2, 4, 4, 3, 2, 1, 3, 4, 2, 2, 4, 2, 2, 1, 3, 1, 3, 4, 2, 1, 1, 4, 4, 2, 2, 2, 3, 1, 3, 4, 3, 2, 2, 2, 4, 1, 4, 4, 3, 3, 3, 1, 3, 2, 1, 3, 3, 4, 2, 2, 3, 1, 4, 3, 3, 2, 4, 1, 3, 2, 3, 2, 2, 4, 3, 2, 4, 2, 2, 3, 3, 4, 4, 2, 2, 1, 2, 1, 4, 3, 1, 2, 3, 2, 2, 4, 3, 2, 1, 2, 1, 2, 2, 4, 1, 2, 4, 2, 4, 1, 4, 2, 1, 2, 2, 1, 2, 1, 3, 1, 1, 3, 4, 4, 3, 1, 4, 1, 4, 2, 3, 4, 2, 1, 3, 3, 2, 2, 1, 4, 4, 1, 1, 1, 1, 3, 2, 1, 3, 2, 3, 4, 1, 2, 1, 3, 2, 1, 1, 3, 4, 2, 3, 4, 3, 1, 3, 1, 4, 2, 2, 2, 4, 2, 2, 2, 4, 1, 4, 1, 1, 2, 3, 1, 4, 4, 1, 1, 4, 4, 4, 3, 3, 4, 4, 2, 4, 2, 4, 3, 4, 4, 4, 1, 2, 2, 4, 3, 3, 2, 2, 2, 3, 4, 2, 3, 2, 2, 4, 4, 4, 4, 3, 3, 1, 2, 2, 4, 4, 1, 3, 2, 4, 1, 1, 2, 3, 2, 3, 4, 1, 4, 4, 3, 4, 1, 1, 2, 3, 3, 3, 4, 3, 2, 4, 3, 2, 3, 4, 2, 3, 2, 1, 2, 2, 3, 2, 1, 1, 4, 2, 3, 2, 1, 3, 1, 2, 1, 4, 3, 1, 3, 2, 4, 4, 2, 1, 1, 2, 3, 4, 1, 1, 1, 3, 3, 1, 2, 2, 4, 2, 3, 1, 4, 3, 2, 4, 4, 4, 3, 3, 2, 3, 2, 1, 1, 4, 1, 2, 3, 1, 1, 3, 1, 2, 2, 4, 4, 3, 3, 2, 1, 4, 3, 4, 2, 2, 4, 4, 3, 1, 1, 1, 2, 4, 2, 4, 2, 1, 3, 2, 3, 3, 3, 1, 2, 3, 4, 2, 2, 3, 4, 2, 2, 3, 2, 1, 3, 4, 3, 1, 1, 1, 1, 3, 4, 2, 2, 4, 3, 4, 1, 3, 2, 2, 2, 2, 4, 2, 2, 2, 2, 1, 3, 4, 1, 4, 1, 2, 2, 3, 3, 1, 4, 2, 3, 1, 2, 3, 2, 2, 3, 1, 1, 3, 3, 3, 3, 2, 2, 1, 1, 1, 3, 4, 2, 2, 3, 3, 2, 2, 2, 3, 1, 1, 3, 1, 3, 2, 4, 4, 4, 3, 3, 3, 2, 3, 3, 2, 2, 1, 3, 2, 1, 1, 3, 1, 1, 2, 3, 3, 3, 1, 1, 1, 2, 2, 4, 2, 1, 4, 4, 3, 1, 1, 2, 3, 3, 3, 4, 1, 3, 4, 4, 4, 4, 2, 4, 1, 4, 3, 3, 1, 2, 2, 2, 4, 1, 3, 2, 1, 3, 4, 1, 4, 3, 3, 3, 2, 2, 4, 3, 4, 2, 4, 1, 4, 2, 4, 1, 4, 4, 1, 4, 3, 1, 1, 3, 3, 1, 4, 3, 2, 2, 1, 3, 2, 4, 3, 4, 4, 2, 4, 4, 3, 3, 4, 2, 1, 2, 4, 4, 4, 1, 3, 2, 3, 1, 2, 1, 3, 4, 2, 4, 1, 3, 2, 1, 2, 1, 1, 2, 2, 1, 4, 4, 3, 3, 3, 2, 1, 4, 1, 4, 2, 3, 2, 1, 2, 1, 4, 2, 3, 2, 2, 3, 2, 3, 4, 1, 2, 1, 1, 3, 1, 1, 3, 3, 1, 3, 4, 3, 1, 2, 3, 2, 4, 3, 3, 1, 1, 2, 4, 4, 2, 4, 3, 4, 1, 2, 4, 1, 3, 3, 2, 1, 3, 1, 4, 3, 3, 2, 1, 4, 1, 1, 2, 2, 2, 2, 4, 1, 2, 4, 1, 3, 4, 2, 2, 3, 3, 1, 2, 1, 4, 2, 3, 1, 4, 4, 3, 1, 3, 4, 1, 3, 2, 3, 4, 3, 4, 3, 2, 2, 1, 3, 2, 2, 1, 3, 3, 1, 3, 3, 4, 2, 4, 4, 1, 1, 2, 4, 4, 3, 1, 4, 1, 1, 3, 1, 3, 2, 4, 1, 1, 3, 2, 2, 3, 1, 4, 1, 2, 4, 1, 4, 3, 2, 4, 4, 2, 3, 2, 1, 4, 3, 2, 3, 4, 4, 1, 3, 2, 1, 1, 3, 1, 1, 4, 3, 3, 3, 3, 4, 4, 2, 2, 3, 3, 3, 3, 3, 3, 2, 2, 2, 2, 4, 2, 3, 1, 2, 4, 4, 1, 3, 1, 4, 3, 3, 2, 3, 3, 2, 2, 1, 1, 3, 3, 3, 2, 2, 1, 1, 1, 3, 2, 3, 1, 2, 2, 3, 3, 1, 3, 2, 1, 4, 1, 4, 1, 3, 3, 2, 1, 2, 2, 2, 1, 3, 1, 3, 3, 4, 3, 3, 3, 3, 2, 2, 2, 1, 4, 2, 4, 2, 4, 2, 2, 3, 3, 2, 3, 2, 3, 1, 2, 3, 1, 2, 4, 3, 3, 2, 1, 2, 1, 1, 3, 2, 3, 3, 3, 2, 1, 3, 3, 1, 4, 2, 4, 4, 2, 3, 4, 2, 1, 4, 1, 4, 1, 3, 4, 3, 2, 4, 1, 2, 4, 3, 2, 3, 2, 3, 1, 3, 1, 4, 1, 4, 1, 3, 1, 4, 3, 3, 3, 2, 4, 4, 1, 4, 2, 2, 1, 2, 4, 4, 2, 3, 1, 2, 3, 3, 1, 1, 1, 4, 3, 1, 1, 3, 2, 1, 4, 4, 4, 3, 1, 3, 1, 4, 3, 1, 1, 3, 1, 4, 1, 3, 3, 1, 4, 4, 4, 3, 3, 1, 2, 4, 3, 4, 3, 2, 4, 4, 4, 2, 2, 1, 2, 3, 1, 1, 3, 2, 2, 2, 3, 2, 4, 1, 1, 3, 2, 2, 2, 1, 3, 1, 2, 3, 2, 3, 2, 4, 1, 3, 1, 2]\n"
     ]
    }
   ],
   "source": [
    "print(y_pred)"
   ]
  },
  {
   "cell_type": "code",
   "execution_count": 17,
   "metadata": {},
   "outputs": [],
   "source": [
    "df = pd.DataFrame\n",
    "test_labels['price'] = y_pred\n",
    "\n",
    "test_labels['price'] = test_labels['price'].map(lambda x: int(x))"
   ]
  },
  {
   "cell_type": "code",
   "execution_count": 18,
   "metadata": {},
   "outputs": [
    {
     "data": {
      "text/html": [
       "<div>\n",
       "<style scoped>\n",
       "    .dataframe tbody tr th:only-of-type {\n",
       "        vertical-align: middle;\n",
       "    }\n",
       "\n",
       "    .dataframe tbody tr th {\n",
       "        vertical-align: top;\n",
       "    }\n",
       "\n",
       "    .dataframe thead th {\n",
       "        text-align: right;\n",
       "    }\n",
       "</style>\n",
       "<table border=\"1\" class=\"dataframe\">\n",
       "  <thead>\n",
       "    <tr style=\"text-align: right;\">\n",
       "      <th></th>\n",
       "      <th>id</th>\n",
       "      <th>price</th>\n",
       "    </tr>\n",
       "  </thead>\n",
       "  <tbody>\n",
       "    <tr>\n",
       "      <th>0</th>\n",
       "      <td>7715</td>\n",
       "      <td>2</td>\n",
       "    </tr>\n",
       "    <tr>\n",
       "      <th>1</th>\n",
       "      <td>13196</td>\n",
       "      <td>3</td>\n",
       "    </tr>\n",
       "    <tr>\n",
       "      <th>2</th>\n",
       "      <td>13194</td>\n",
       "      <td>2</td>\n",
       "    </tr>\n",
       "    <tr>\n",
       "      <th>3</th>\n",
       "      <td>4673</td>\n",
       "      <td>2</td>\n",
       "    </tr>\n",
       "    <tr>\n",
       "      <th>4</th>\n",
       "      <td>11325</td>\n",
       "      <td>1</td>\n",
       "    </tr>\n",
       "    <tr>\n",
       "      <th>...</th>\n",
       "      <td>...</td>\n",
       "      <td>...</td>\n",
       "    </tr>\n",
       "    <tr>\n",
       "      <th>4144</th>\n",
       "      <td>12921</td>\n",
       "      <td>4</td>\n",
       "    </tr>\n",
       "    <tr>\n",
       "      <th>4145</th>\n",
       "      <td>7174</td>\n",
       "      <td>1</td>\n",
       "    </tr>\n",
       "    <tr>\n",
       "      <th>4146</th>\n",
       "      <td>9240</td>\n",
       "      <td>3</td>\n",
       "    </tr>\n",
       "    <tr>\n",
       "      <th>4147</th>\n",
       "      <td>11663</td>\n",
       "      <td>1</td>\n",
       "    </tr>\n",
       "    <tr>\n",
       "      <th>4148</th>\n",
       "      <td>4513</td>\n",
       "      <td>2</td>\n",
       "    </tr>\n",
       "  </tbody>\n",
       "</table>\n",
       "<p>4149 rows × 2 columns</p>\n",
       "</div>"
      ],
      "text/plain": [
       "         id  price\n",
       "0      7715      2\n",
       "1     13196      3\n",
       "2     13194      2\n",
       "3      4673      2\n",
       "4     11325      1\n",
       "...     ...    ...\n",
       "4144  12921      4\n",
       "4145   7174      1\n",
       "4146   9240      3\n",
       "4147  11663      1\n",
       "4148   4513      2\n",
       "\n",
       "[4149 rows x 2 columns]"
      ]
     },
     "execution_count": 18,
     "metadata": {},
     "output_type": "execute_result"
    }
   ],
   "source": [
    "test_labels"
   ]
  },
  {
   "cell_type": "code",
   "execution_count": 19,
   "metadata": {},
   "outputs": [],
   "source": [
    "test_labels.to_csv(r'./submission9.csv', index=False)"
   ]
  },
  {
   "cell_type": "code",
   "execution_count": null,
   "metadata": {},
   "outputs": [],
   "source": [
    "from sklearn.model_selection import GridSearchCV\n",
    "\n",
    "kf = KFold(n_splits = 10, shuffle=True)\n",
    "\n",
    "\n",
    "X = np.concatenate([X_train], axis= 0)\n",
    "y = np.concatenate([y_train], axis= 0)\n",
    "param_grid = {\n",
    "    'n_estimators': [100, 400, 700, 1000],\n",
    "    'colsample_bytree': [0.7, 0.8],\n",
    "    'max_depth': [8,10,20],\n",
    "    'num_leaves': [15, 100, 200],\n",
    "    'reg_alpha': [1.1, 1.2, 1.3],\n",
    "    'reg_lambda': [1.1, 1.2, 1.3],\n",
    "    'min_split_gain': [0.3, 0.4],\n",
    "    'subsample': [0.7, 0.8, 0.9],\n",
    "    'subsample_freq': [20]\n",
    "}\n",
    "lgb_estimator = lgb.LGBMClassifier(boosting_type='gbdt',  objective='multiclass', learning_rate=0.01, metric='multi_error')\n",
    "gsearch = GridSearchCV(estimator=lgb_estimator, param_grid=param_grid, cv=kf, verbose=2, n_jobs=-1)\n",
    "lgb_model = gsearch.fit(X=X, y=y)\n",
    "\n",
    "\n",
    "print(lgb_model.best_params_, lgb_model.best_score_)\n"
   ]
  },
  {
   "cell_type": "code",
   "execution_count": null,
   "metadata": {},
   "outputs": [],
   "source": []
  }
 ],
 "metadata": {
  "environment": {
   "name": "common-cpu.m59",
   "type": "gcloud",
   "uri": "gcr.io/deeplearning-platform-release/base-cpu:m59"
  },
  "kernelspec": {
   "display_name": "Python 3",
   "language": "python",
   "name": "python3"
  },
  "language_info": {
   "codemirror_mode": {
    "name": "ipython",
    "version": 3
   },
   "file_extension": ".py",
   "mimetype": "text/x-python",
   "name": "python",
   "nbconvert_exporter": "python",
   "pygments_lexer": "ipython3",
   "version": "3.7.8"
  }
 },
 "nbformat": 4,
 "nbformat_minor": 4
}
