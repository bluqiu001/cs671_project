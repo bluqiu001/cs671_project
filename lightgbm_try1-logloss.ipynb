{
 "cells": [
  {
   "cell_type": "code",
   "execution_count": 1,
   "metadata": {},
   "outputs": [],
   "source": [
    "from sklearn.model_selection import KFold\n",
    "from sklearn.metrics import accuracy_score\n",
    "import pandas as pd\n",
    "import numpy as np\n",
    "import lightgbm as lgb"
   ]
  },
  {
   "cell_type": "code",
   "execution_count": 2,
   "metadata": {},
   "outputs": [],
   "source": [
    "train_data = pd.read_csv('./train_noclean.csv')\n",
    "test_data = pd.read_csv('./test_noclean.csv')\n",
    "\n",
    "y_train = train_data.loc[:,'price']\n",
    "train_data = train_data.drop(columns='price')\n",
    "num_features = len(train_data.columns)\n",
    "features = list(train_data.columns[2:num_features])\n",
    "X_train = train_data.loc[:,features]\n",
    "\n",
    "features = list(test_data.columns[2:num_features])\n",
    "\n",
    "X_test = test_data.loc[:,features]\n",
    "test_labels = test_data.loc[:,'id']\n",
    "\n",
    "test_labels = test_labels.to_frame()"
   ]
  },
  {
   "cell_type": "code",
   "execution_count": 3,
   "metadata": {},
   "outputs": [],
   "source": [
    "def run_model(X_train, y_train, learn, max_depth, num_class, num_leaves, min_data_in_leaf, rounds):\n",
    "    params={}\n",
    "    params['learning_rate']=0.03\n",
    "    params['boosting_type']='gbdt' #GradientBoostingDecisionTree\n",
    "    params['objective']='multiclass' #Multi-class target feature\n",
    "    params['metric']='multi_error' #metric for multi-class\n",
    "    params['max_depth']=max_depth\n",
    "    params['num_class']=num_class\n",
    "    params['num_leaves']=num_leaves\n",
    "    clf=lgb.train(params,d_train,rounds)"
   ]
  },
  {
   "cell_type": "code",
   "execution_count": 16,
   "metadata": {},
   "outputs": [
    {
     "name": "stdout",
     "output_type": "stream",
     "text": [
      "Fitting 10 folds for each of 100 candidates, totalling 1000 fits\n"
     ]
    },
    {
     "name": "stderr",
     "output_type": "stream",
     "text": [
      "[Parallel(n_jobs=-1)]: Using backend LokyBackend with 16 concurrent workers.\n",
      "[Parallel(n_jobs=-1)]: Done   9 tasks      | elapsed:    5.6s\n",
      "[Parallel(n_jobs=-1)]: Done  18 tasks      | elapsed:  2.8min\n",
      "[Parallel(n_jobs=-1)]: Done  29 tasks      | elapsed:  4.1min\n"
     ]
    },
    {
     "ename": "KeyboardInterrupt",
     "evalue": "",
     "output_type": "error",
     "traceback": [
      "\u001b[0;31m---------------------------------------------------------------------------\u001b[0m",
      "\u001b[0;31mKeyboardInterrupt\u001b[0m                         Traceback (most recent call last)",
      "\u001b[0;32m<ipython-input-16-9cb1d16e6f70>\u001b[0m in \u001b[0;36m<module>\u001b[0;34m\u001b[0m\n\u001b[1;32m     21\u001b[0m \u001b[0mlgb_estimator\u001b[0m \u001b[0;34m=\u001b[0m \u001b[0mlgb\u001b[0m\u001b[0;34m.\u001b[0m\u001b[0mLGBMClassifier\u001b[0m\u001b[0;34m(\u001b[0m\u001b[0mboosting_type\u001b[0m\u001b[0;34m=\u001b[0m\u001b[0;34m'dart'\u001b[0m\u001b[0;34m,\u001b[0m  \u001b[0mobjective\u001b[0m\u001b[0;34m=\u001b[0m\u001b[0;34m'multiclass'\u001b[0m\u001b[0;34m,\u001b[0m \u001b[0mmetric\u001b[0m\u001b[0;34m=\u001b[0m\u001b[0;34m'multi_error'\u001b[0m\u001b[0;34m)\u001b[0m\u001b[0;34m\u001b[0m\u001b[0;34m\u001b[0m\u001b[0m\n\u001b[1;32m     22\u001b[0m \u001b[0mrsearch\u001b[0m \u001b[0;34m=\u001b[0m \u001b[0mRandomizedSearchCV\u001b[0m\u001b[0;34m(\u001b[0m\u001b[0mestimator\u001b[0m\u001b[0;34m=\u001b[0m\u001b[0mlgb_estimator\u001b[0m\u001b[0;34m,\u001b[0m \u001b[0mparam_distributions\u001b[0m\u001b[0;34m=\u001b[0m\u001b[0mparam_grid\u001b[0m\u001b[0;34m,\u001b[0m \u001b[0mcv\u001b[0m\u001b[0;34m=\u001b[0m\u001b[0mkf\u001b[0m\u001b[0;34m,\u001b[0m \u001b[0mn_iter\u001b[0m \u001b[0;34m=\u001b[0m \u001b[0;36m100\u001b[0m\u001b[0;34m,\u001b[0m \u001b[0mn_jobs\u001b[0m \u001b[0;34m=\u001b[0m \u001b[0;34m-\u001b[0m\u001b[0;36m1\u001b[0m\u001b[0;34m,\u001b[0m \u001b[0mverbose\u001b[0m\u001b[0;34m=\u001b[0m\u001b[0;36m10\u001b[0m\u001b[0;34m)\u001b[0m\u001b[0;34m\u001b[0m\u001b[0;34m\u001b[0m\u001b[0m\n\u001b[0;32m---> 23\u001b[0;31m \u001b[0mlgb_model\u001b[0m \u001b[0;34m=\u001b[0m \u001b[0mrsearch\u001b[0m\u001b[0;34m.\u001b[0m\u001b[0mfit\u001b[0m\u001b[0;34m(\u001b[0m\u001b[0mX\u001b[0m\u001b[0;34m=\u001b[0m\u001b[0mX\u001b[0m\u001b[0;34m,\u001b[0m \u001b[0my\u001b[0m\u001b[0;34m=\u001b[0m\u001b[0my\u001b[0m\u001b[0;34m)\u001b[0m\u001b[0;34m\u001b[0m\u001b[0;34m\u001b[0m\u001b[0m\n\u001b[0m\u001b[1;32m     24\u001b[0m \u001b[0;34m\u001b[0m\u001b[0m\n\u001b[1;32m     25\u001b[0m \u001b[0;34m\u001b[0m\u001b[0m\n",
      "\u001b[0;32m/opt/conda/lib/python3.7/site-packages/sklearn/utils/validation.py\u001b[0m in \u001b[0;36minner_f\u001b[0;34m(*args, **kwargs)\u001b[0m\n\u001b[1;32m     70\u001b[0m                           FutureWarning)\n\u001b[1;32m     71\u001b[0m         \u001b[0mkwargs\u001b[0m\u001b[0;34m.\u001b[0m\u001b[0mupdate\u001b[0m\u001b[0;34m(\u001b[0m\u001b[0;34m{\u001b[0m\u001b[0mk\u001b[0m\u001b[0;34m:\u001b[0m \u001b[0marg\u001b[0m \u001b[0;32mfor\u001b[0m \u001b[0mk\u001b[0m\u001b[0;34m,\u001b[0m \u001b[0marg\u001b[0m \u001b[0;32min\u001b[0m \u001b[0mzip\u001b[0m\u001b[0;34m(\u001b[0m\u001b[0msig\u001b[0m\u001b[0;34m.\u001b[0m\u001b[0mparameters\u001b[0m\u001b[0;34m,\u001b[0m \u001b[0margs\u001b[0m\u001b[0;34m)\u001b[0m\u001b[0;34m}\u001b[0m\u001b[0;34m)\u001b[0m\u001b[0;34m\u001b[0m\u001b[0;34m\u001b[0m\u001b[0m\n\u001b[0;32m---> 72\u001b[0;31m         \u001b[0;32mreturn\u001b[0m \u001b[0mf\u001b[0m\u001b[0;34m(\u001b[0m\u001b[0;34m**\u001b[0m\u001b[0mkwargs\u001b[0m\u001b[0;34m)\u001b[0m\u001b[0;34m\u001b[0m\u001b[0;34m\u001b[0m\u001b[0m\n\u001b[0m\u001b[1;32m     73\u001b[0m     \u001b[0;32mreturn\u001b[0m \u001b[0minner_f\u001b[0m\u001b[0;34m\u001b[0m\u001b[0;34m\u001b[0m\u001b[0m\n\u001b[1;32m     74\u001b[0m \u001b[0;34m\u001b[0m\u001b[0m\n",
      "\u001b[0;32m/opt/conda/lib/python3.7/site-packages/sklearn/model_selection/_search.py\u001b[0m in \u001b[0;36mfit\u001b[0;34m(self, X, y, groups, **fit_params)\u001b[0m\n\u001b[1;32m    734\u001b[0m                 \u001b[0;32mreturn\u001b[0m \u001b[0mresults\u001b[0m\u001b[0;34m\u001b[0m\u001b[0;34m\u001b[0m\u001b[0m\n\u001b[1;32m    735\u001b[0m \u001b[0;34m\u001b[0m\u001b[0m\n\u001b[0;32m--> 736\u001b[0;31m             \u001b[0mself\u001b[0m\u001b[0;34m.\u001b[0m\u001b[0m_run_search\u001b[0m\u001b[0;34m(\u001b[0m\u001b[0mevaluate_candidates\u001b[0m\u001b[0;34m)\u001b[0m\u001b[0;34m\u001b[0m\u001b[0;34m\u001b[0m\u001b[0m\n\u001b[0m\u001b[1;32m    737\u001b[0m \u001b[0;34m\u001b[0m\u001b[0m\n\u001b[1;32m    738\u001b[0m         \u001b[0;31m# For multi-metric evaluation, store the best_index_, best_params_ and\u001b[0m\u001b[0;34m\u001b[0m\u001b[0;34m\u001b[0m\u001b[0;34m\u001b[0m\u001b[0m\n",
      "\u001b[0;32m/opt/conda/lib/python3.7/site-packages/sklearn/model_selection/_search.py\u001b[0m in \u001b[0;36m_run_search\u001b[0;34m(self, evaluate_candidates)\u001b[0m\n\u001b[1;32m   1529\u001b[0m         evaluate_candidates(ParameterSampler(\n\u001b[1;32m   1530\u001b[0m             \u001b[0mself\u001b[0m\u001b[0;34m.\u001b[0m\u001b[0mparam_distributions\u001b[0m\u001b[0;34m,\u001b[0m \u001b[0mself\u001b[0m\u001b[0;34m.\u001b[0m\u001b[0mn_iter\u001b[0m\u001b[0;34m,\u001b[0m\u001b[0;34m\u001b[0m\u001b[0;34m\u001b[0m\u001b[0m\n\u001b[0;32m-> 1531\u001b[0;31m             random_state=self.random_state))\n\u001b[0m",
      "\u001b[0;32m/opt/conda/lib/python3.7/site-packages/sklearn/model_selection/_search.py\u001b[0m in \u001b[0;36mevaluate_candidates\u001b[0;34m(candidate_params)\u001b[0m\n\u001b[1;32m    713\u001b[0m                                \u001b[0;32mfor\u001b[0m \u001b[0mparameters\u001b[0m\u001b[0;34m,\u001b[0m \u001b[0;34m(\u001b[0m\u001b[0mtrain\u001b[0m\u001b[0;34m,\u001b[0m \u001b[0mtest\u001b[0m\u001b[0;34m)\u001b[0m\u001b[0;34m\u001b[0m\u001b[0;34m\u001b[0m\u001b[0m\n\u001b[1;32m    714\u001b[0m                                in product(candidate_params,\n\u001b[0;32m--> 715\u001b[0;31m                                           cv.split(X, y, groups)))\n\u001b[0m\u001b[1;32m    716\u001b[0m \u001b[0;34m\u001b[0m\u001b[0m\n\u001b[1;32m    717\u001b[0m                 \u001b[0;32mif\u001b[0m \u001b[0mlen\u001b[0m\u001b[0;34m(\u001b[0m\u001b[0mout\u001b[0m\u001b[0;34m)\u001b[0m \u001b[0;34m<\u001b[0m \u001b[0;36m1\u001b[0m\u001b[0;34m:\u001b[0m\u001b[0;34m\u001b[0m\u001b[0;34m\u001b[0m\u001b[0m\n",
      "\u001b[0;32m/opt/conda/lib/python3.7/site-packages/joblib/parallel.py\u001b[0m in \u001b[0;36m__call__\u001b[0;34m(self, iterable)\u001b[0m\n\u001b[1;32m   1059\u001b[0m \u001b[0;34m\u001b[0m\u001b[0m\n\u001b[1;32m   1060\u001b[0m             \u001b[0;32mwith\u001b[0m \u001b[0mself\u001b[0m\u001b[0;34m.\u001b[0m\u001b[0m_backend\u001b[0m\u001b[0;34m.\u001b[0m\u001b[0mretrieval_context\u001b[0m\u001b[0;34m(\u001b[0m\u001b[0;34m)\u001b[0m\u001b[0;34m:\u001b[0m\u001b[0;34m\u001b[0m\u001b[0;34m\u001b[0m\u001b[0m\n\u001b[0;32m-> 1061\u001b[0;31m                 \u001b[0mself\u001b[0m\u001b[0;34m.\u001b[0m\u001b[0mretrieve\u001b[0m\u001b[0;34m(\u001b[0m\u001b[0;34m)\u001b[0m\u001b[0;34m\u001b[0m\u001b[0;34m\u001b[0m\u001b[0m\n\u001b[0m\u001b[1;32m   1062\u001b[0m             \u001b[0;31m# Make sure that we get a last message telling us we are done\u001b[0m\u001b[0;34m\u001b[0m\u001b[0;34m\u001b[0m\u001b[0;34m\u001b[0m\u001b[0m\n\u001b[1;32m   1063\u001b[0m             \u001b[0melapsed_time\u001b[0m \u001b[0;34m=\u001b[0m \u001b[0mtime\u001b[0m\u001b[0;34m.\u001b[0m\u001b[0mtime\u001b[0m\u001b[0;34m(\u001b[0m\u001b[0;34m)\u001b[0m \u001b[0;34m-\u001b[0m \u001b[0mself\u001b[0m\u001b[0;34m.\u001b[0m\u001b[0m_start_time\u001b[0m\u001b[0;34m\u001b[0m\u001b[0;34m\u001b[0m\u001b[0m\n",
      "\u001b[0;32m/opt/conda/lib/python3.7/site-packages/joblib/parallel.py\u001b[0m in \u001b[0;36mretrieve\u001b[0;34m(self)\u001b[0m\n\u001b[1;32m    938\u001b[0m             \u001b[0;32mtry\u001b[0m\u001b[0;34m:\u001b[0m\u001b[0;34m\u001b[0m\u001b[0;34m\u001b[0m\u001b[0m\n\u001b[1;32m    939\u001b[0m                 \u001b[0;32mif\u001b[0m \u001b[0mgetattr\u001b[0m\u001b[0;34m(\u001b[0m\u001b[0mself\u001b[0m\u001b[0;34m.\u001b[0m\u001b[0m_backend\u001b[0m\u001b[0;34m,\u001b[0m \u001b[0;34m'supports_timeout'\u001b[0m\u001b[0;34m,\u001b[0m \u001b[0;32mFalse\u001b[0m\u001b[0;34m)\u001b[0m\u001b[0;34m:\u001b[0m\u001b[0;34m\u001b[0m\u001b[0;34m\u001b[0m\u001b[0m\n\u001b[0;32m--> 940\u001b[0;31m                     \u001b[0mself\u001b[0m\u001b[0;34m.\u001b[0m\u001b[0m_output\u001b[0m\u001b[0;34m.\u001b[0m\u001b[0mextend\u001b[0m\u001b[0;34m(\u001b[0m\u001b[0mjob\u001b[0m\u001b[0;34m.\u001b[0m\u001b[0mget\u001b[0m\u001b[0;34m(\u001b[0m\u001b[0mtimeout\u001b[0m\u001b[0;34m=\u001b[0m\u001b[0mself\u001b[0m\u001b[0;34m.\u001b[0m\u001b[0mtimeout\u001b[0m\u001b[0;34m)\u001b[0m\u001b[0;34m)\u001b[0m\u001b[0;34m\u001b[0m\u001b[0;34m\u001b[0m\u001b[0m\n\u001b[0m\u001b[1;32m    941\u001b[0m                 \u001b[0;32melse\u001b[0m\u001b[0;34m:\u001b[0m\u001b[0;34m\u001b[0m\u001b[0;34m\u001b[0m\u001b[0m\n\u001b[1;32m    942\u001b[0m                     \u001b[0mself\u001b[0m\u001b[0;34m.\u001b[0m\u001b[0m_output\u001b[0m\u001b[0;34m.\u001b[0m\u001b[0mextend\u001b[0m\u001b[0;34m(\u001b[0m\u001b[0mjob\u001b[0m\u001b[0;34m.\u001b[0m\u001b[0mget\u001b[0m\u001b[0;34m(\u001b[0m\u001b[0;34m)\u001b[0m\u001b[0;34m)\u001b[0m\u001b[0;34m\u001b[0m\u001b[0;34m\u001b[0m\u001b[0m\n",
      "\u001b[0;32m/opt/conda/lib/python3.7/site-packages/joblib/_parallel_backends.py\u001b[0m in \u001b[0;36mwrap_future_result\u001b[0;34m(future, timeout)\u001b[0m\n\u001b[1;32m    540\u001b[0m         AsyncResults.get from multiprocessing.\"\"\"\n\u001b[1;32m    541\u001b[0m         \u001b[0;32mtry\u001b[0m\u001b[0;34m:\u001b[0m\u001b[0;34m\u001b[0m\u001b[0;34m\u001b[0m\u001b[0m\n\u001b[0;32m--> 542\u001b[0;31m             \u001b[0;32mreturn\u001b[0m \u001b[0mfuture\u001b[0m\u001b[0;34m.\u001b[0m\u001b[0mresult\u001b[0m\u001b[0;34m(\u001b[0m\u001b[0mtimeout\u001b[0m\u001b[0;34m=\u001b[0m\u001b[0mtimeout\u001b[0m\u001b[0;34m)\u001b[0m\u001b[0;34m\u001b[0m\u001b[0;34m\u001b[0m\u001b[0m\n\u001b[0m\u001b[1;32m    543\u001b[0m         \u001b[0;32mexcept\u001b[0m \u001b[0mCfTimeoutError\u001b[0m \u001b[0;32mas\u001b[0m \u001b[0me\u001b[0m\u001b[0;34m:\u001b[0m\u001b[0;34m\u001b[0m\u001b[0;34m\u001b[0m\u001b[0m\n\u001b[1;32m    544\u001b[0m             \u001b[0;32mraise\u001b[0m \u001b[0mTimeoutError\u001b[0m \u001b[0;32mfrom\u001b[0m \u001b[0me\u001b[0m\u001b[0;34m\u001b[0m\u001b[0;34m\u001b[0m\u001b[0m\n",
      "\u001b[0;32m/opt/conda/lib/python3.7/concurrent/futures/_base.py\u001b[0m in \u001b[0;36mresult\u001b[0;34m(self, timeout)\u001b[0m\n\u001b[1;32m    428\u001b[0m                 \u001b[0;32mreturn\u001b[0m \u001b[0mself\u001b[0m\u001b[0;34m.\u001b[0m\u001b[0m__get_result\u001b[0m\u001b[0;34m(\u001b[0m\u001b[0;34m)\u001b[0m\u001b[0;34m\u001b[0m\u001b[0;34m\u001b[0m\u001b[0m\n\u001b[1;32m    429\u001b[0m \u001b[0;34m\u001b[0m\u001b[0m\n\u001b[0;32m--> 430\u001b[0;31m             \u001b[0mself\u001b[0m\u001b[0;34m.\u001b[0m\u001b[0m_condition\u001b[0m\u001b[0;34m.\u001b[0m\u001b[0mwait\u001b[0m\u001b[0;34m(\u001b[0m\u001b[0mtimeout\u001b[0m\u001b[0;34m)\u001b[0m\u001b[0;34m\u001b[0m\u001b[0;34m\u001b[0m\u001b[0m\n\u001b[0m\u001b[1;32m    431\u001b[0m \u001b[0;34m\u001b[0m\u001b[0m\n\u001b[1;32m    432\u001b[0m             \u001b[0;32mif\u001b[0m \u001b[0mself\u001b[0m\u001b[0;34m.\u001b[0m\u001b[0m_state\u001b[0m \u001b[0;32min\u001b[0m \u001b[0;34m[\u001b[0m\u001b[0mCANCELLED\u001b[0m\u001b[0;34m,\u001b[0m \u001b[0mCANCELLED_AND_NOTIFIED\u001b[0m\u001b[0;34m]\u001b[0m\u001b[0;34m:\u001b[0m\u001b[0;34m\u001b[0m\u001b[0;34m\u001b[0m\u001b[0m\n",
      "\u001b[0;32m/opt/conda/lib/python3.7/threading.py\u001b[0m in \u001b[0;36mwait\u001b[0;34m(self, timeout)\u001b[0m\n\u001b[1;32m    294\u001b[0m         \u001b[0;32mtry\u001b[0m\u001b[0;34m:\u001b[0m    \u001b[0;31m# restore state no matter what (e.g., KeyboardInterrupt)\u001b[0m\u001b[0;34m\u001b[0m\u001b[0;34m\u001b[0m\u001b[0m\n\u001b[1;32m    295\u001b[0m             \u001b[0;32mif\u001b[0m \u001b[0mtimeout\u001b[0m \u001b[0;32mis\u001b[0m \u001b[0;32mNone\u001b[0m\u001b[0;34m:\u001b[0m\u001b[0;34m\u001b[0m\u001b[0;34m\u001b[0m\u001b[0m\n\u001b[0;32m--> 296\u001b[0;31m                 \u001b[0mwaiter\u001b[0m\u001b[0;34m.\u001b[0m\u001b[0macquire\u001b[0m\u001b[0;34m(\u001b[0m\u001b[0;34m)\u001b[0m\u001b[0;34m\u001b[0m\u001b[0;34m\u001b[0m\u001b[0m\n\u001b[0m\u001b[1;32m    297\u001b[0m                 \u001b[0mgotit\u001b[0m \u001b[0;34m=\u001b[0m \u001b[0;32mTrue\u001b[0m\u001b[0;34m\u001b[0m\u001b[0;34m\u001b[0m\u001b[0m\n\u001b[1;32m    298\u001b[0m             \u001b[0;32melse\u001b[0m\u001b[0;34m:\u001b[0m\u001b[0;34m\u001b[0m\u001b[0;34m\u001b[0m\u001b[0m\n",
      "\u001b[0;31mKeyboardInterrupt\u001b[0m: "
     ]
    }
   ],
   "source": [
    "from sklearn.model_selection import GridSearchCV, RandomizedSearchCV\n",
    "\n",
    "kf = KFold(n_splits = 10, shuffle=True)\n",
    "\n",
    "\n",
    "X = np.concatenate([X_train], axis= 0)\n",
    "y = np.concatenate([y_train], axis= 0)\n",
    "param_grid = {\n",
    "    'n_estimators': [100, 500, 1000, 1500, 2000],\n",
    "    'colsample_bytree': [0.7, 0.8],\n",
    "    'max_depth': [10, 15,20,25],\n",
    "    'num_leaves': [10, 20, 30, 40, 50],\n",
    "    'reg_lambda': [0.2, 0.5, 0.8, 1, 1.1, 1.2],\n",
    "    'reg_alpha' : [0.2, 0.5, 0.8, 1, 1.1, 1.2], \n",
    "    'min_split_gain': [0.3, 0.4],\n",
    "    'subsample': [0.7, 0.8, 0.9, 1],\n",
    "    'subsample_freq': [20], \n",
    "    'min_data_in_leaf': [15, 25, 30, 40],\n",
    "    'learning_rate': [0.005, 0.01, 0.05, 0.1]\n",
    "}\n",
    "lgb_estimator = lgb.LGBMClassifier(boosting_type='dart',  objective='multiclass', metric='multi_error')\n",
    "rsearch = RandomizedSearchCV(estimator=lgb_estimator, param_distributions=param_grid, cv=kf, n_iter = 100, n_jobs = -1, verbose=10)\n",
    "lgb_model = rsearch.fit(X=X, y=y)\n",
    "\n",
    "\n",
    "print(lgb_model.best_params_, lgb_model.best_score_)\n"
   ]
  },
  {
   "cell_type": "code",
   "execution_count": 7,
   "metadata": {},
   "outputs": [
    {
     "name": "stdout",
     "output_type": "stream",
     "text": [
      "{'subsample_freq': 20, 'subsample': 0.9, 'reg_lambda': 0.5, 'reg_alpha': 0.5, 'num_leaves': 50, 'n_estimators': 1000, 'min_split_gain': 0.4, 'min_data_in_leaf': 15, 'max_depth': 25, 'learning_rate': 0.01, 'colsample_bytree': 0.8} 0.5570704227754608\n"
     ]
    }
   ],
   "source": [
    "print(lgb_model.best_params_, lgb_model.best_score_)\n",
    "#RANDOM SEARCH WITH 1000 CANDIDATES"
   ]
  },
  {
   "cell_type": "code",
   "execution_count": 5,
   "metadata": {},
   "outputs": [
    {
     "name": "stdout",
     "output_type": "stream",
     "text": [
      "{'subsample_freq': 20, 'subsample': 0.9, 'reg_lambda': 1.1, 'reg_alpha': 0.8, 'num_leaves': 40, 'n_estimators': 1500, 'min_split_gain': 0.4, 'min_data_in_leaf': 15, 'max_depth': 20, 'learning_rate': 0.01, 'colsample_bytree': 0.7} 0.559755840135097\n"
     ]
    }
   ],
   "source": [
    "print(lgb_model.best_params_, lgb_model.best_score_)\n",
    "#THIS IS FOR THE RANDOM SEARCH WITH 100 CANDIATES"
   ]
  },
  {
   "cell_type": "code",
   "execution_count": null,
   "metadata": {},
   "outputs": [],
   "source": [
    "from sklearn.model_selection import GridSearchCV, RandomizedSearchCV\n",
    "\n",
    "kf = KFold(n_splits = 10, shuffle=True)\n",
    "\n",
    "\n",
    "X = np.concatenate([X_train], axis= 0)\n",
    "y = np.concatenate([y_train], axis= 0)\n",
    "param_grid = {\n",
    "    'n_estimators': [100, 500, 1000, 1500, 2000, 2500, 3000],\n",
    "    'colsample_bytree': [0.7],\n",
    "    'max_depth': [10, 15,20,25],\n",
    "    'num_leaves': [ 30],\n",
    "    'reg_lambda': [ 1.1, 1, 1.2],\n",
    "    'reg_alpha' : [ 0.8], \n",
    "    'min_split_gain': [0.4],\n",
    "    'subsample': [ 0.9, 1],\n",
    "    'subsample_freq': [20], \n",
    "    'min_data_in_leaf': [15, 10, 20],\n",
    "    'learning_rate': [0.01, 0.005]\n",
    "}\n",
    "lgb_estimator = lgb.LGBMClassifier(boosting_type='gbdt',  objective='multiclass', metric='multi_error')\n",
    "rsearch = RandomizedSearchCV(estimator=lgb_estimator, param_distributions=param_grid, cv=kf, n_iter = 1000, n_jobs = -1, verbose=10)\n",
    "lgb_model = rsearch.fit(X=X, y=y)\n",
    "\n",
    "\n",
    "print(lgb_model.best_params_, lgb_model.best_score_)\n"
   ]
  },
  {
   "cell_type": "code",
   "execution_count": null,
   "metadata": {},
   "outputs": [],
   "source": [
    "print(lgb_model.best_params_, lgb_model.best_score_)\n"
   ]
  },
  {
   "cell_type": "code",
   "execution_count": 17,
   "metadata": {},
   "outputs": [
    {
     "name": "stderr",
     "output_type": "stream",
     "text": [
      "/opt/conda/lib/python3.7/site-packages/lightgbm/engine.py:151: UserWarning: Found `n_estimators` in params. Will use it instead of argument\n",
      "  warnings.warn(\"Found `{}` in params. Will use it instead of argument\".format(alias))\n"
     ]
    },
    {
     "name": "stdout",
     "output_type": "stream",
     "text": [
      "0.5902992776057792\n",
      "0.5402892561983471\n",
      "0.5506198347107438\n",
      "0.5878099173553719\n",
      "0.5206611570247934\n",
      "0.53099173553719\n",
      "0.5578512396694215\n",
      "0.5475206611570248\n",
      "0.5444214876033058\n",
      "0.5485537190082644\n"
     ]
    }
   ],
   "source": [
    "from sklearn.metrics import accuracy_score\n",
    "import lightgbm as lgb\n",
    "kf = KFold(n_splits = 10, shuffle=True)\n",
    "\n",
    "\n",
    "X = np.concatenate([X_train], axis= 0)\n",
    "y = np.concatenate([y_train], axis= 0)\n",
    "\n",
    "for train, test in kf.split(X_train):\n",
    "    X_train_kf, X_test_kf = X[train],X[test]\n",
    "    y_train_kf, y_test_kf = y[train],y[test]\n",
    "    d_train=lgb.Dataset(X_train_kf, label=y_train_kf)\n",
    "    best_param = {'verbose':-1,'boosting_type':'dart',  'objective':'multiclass', 'num_class':5, 'metric':'multi_error','subsample_freq': 20, 'subsample': 1, 'reg_lambda': 1.2, 'reg_alpha': 0.8, 'num_leaves': 50, 'n_estimators': 1500, 'min_split_gain': 0.3, 'min_data_in_leaf': 15, 'max_depth': 20, 'learning_rate': 0.01, 'colsample_bytree': 0.7}\n",
    "    clf=lgb.train(best_param,d_train )\n",
    "    \n",
    "    y_pred=clf.predict(X_test_kf)\n",
    "    y_pred = [np.argmax(line) for line in y_pred]\n",
    "    print(accuracy_score(y_test_kf, y_pred))"
   ]
  },
  {
   "cell_type": "code",
   "execution_count": 10,
   "metadata": {},
   "outputs": [
    {
     "name": "stdout",
     "output_type": "stream",
     "text": [
      "0.56656346749226\n",
      "0.5402892561983471\n",
      "0.5702479338842975\n",
      "0.5557851239669421\n",
      "0.5867768595041323\n",
      "0.5733471074380165\n",
      "0.5464876033057852\n",
      "0.5175619834710744\n",
      "0.5568181818181818\n",
      "0.5568181818181818\n"
     ]
    }
   ],
   "source": [
    "from sklearn.metrics import accuracy_score\n",
    "import lightgbm as lgb\n",
    "kf = KFold(n_splits = 10, shuffle=True)\n",
    "\n",
    "\n",
    "X = np.concatenate([X_train], axis= 0)\n",
    "y = np.concatenate([y_train], axis= 0)\n",
    "\n",
    "for train, test in kf.split(X_train):\n",
    "    X_train_kf, X_test_kf = X[train],X[test]\n",
    "    y_train_kf, y_test_kf = y[train],y[test]\n",
    "    d_train=lgb.Dataset(X_train_kf, label=y_train_kf)\n",
    "    best_param = {'verbose':-1,'boosting_type':'gbdt',  'objective':'multiclass', 'num_class':5, 'metric':'multi_error','subsample_freq': 20, 'subsample': 0.9, 'reg_lambda': 0.5, 'reg_alpha': 0.5, 'num_leaves': 50, 'n_estimators': 1000, 'min_split_gain': 0.4, 'min_data_in_leaf': 15, 'max_depth': 25, 'learning_rate': 0.01, 'colsample_bytree': 0.8}\n",
    "    clf=lgb.train(best_param,d_train )\n",
    "    \n",
    "    y_pred=clf.predict(X_test_kf)\n",
    "    y_pred = [np.argmax(line) for line in y_pred]\n",
    "    print(accuracy_score(y_test_kf, y_pred))"
   ]
  },
  {
   "cell_type": "code",
   "execution_count": null,
   "metadata": {},
   "outputs": [],
   "source": [
    "from sklearn.metrics import accuracy_score\n",
    "import lightgbm as lgb\n",
    "kf = KFold(n_splits = 10, shuffle=True)\n",
    "\n",
    "\n",
    "X = np.concatenate([X_train], axis= 0)\n",
    "y = np.concatenate([y_train], axis= 0)\n",
    "\n",
    "for train, test in kf.split(X_train):\n",
    "    X_train_kf, X_test_kf = X[train],X[test]\n",
    "    y_train_kf, y_test_kf = y[train],y[test]\n",
    "    d_train=lgb.Dataset(X_train_kf, label=y_train_kf)\n",
    "    best_param = {'verbose':-1,'boosting_type':'gbdt',  'objective':'multiclass', 'learning_rate':0.01, 'num_class':5, 'metric':'multi_error','subsample_freq': 20, 'subsample': 0.8, 'reg_lambda': 1.2, 'num_leaves': 40, 'n_estimators': 1000, 'min_split_gain': 0.4, 'min_data_in_leaf': 25, 'max_depth': 20, 'colsample_bytree': 0.7}\n",
    "    clf=lgb.train(best_param,d_train )\n",
    "    \n",
    "    y_pred=clf.predict(X_test_kf)\n",
    "    y_pred = [np.argmax(line) for line in y_pred]\n",
    "    print(accuracy_score(y_test_kf, y_pred))"
   ]
  },
  {
   "cell_type": "code",
   "execution_count": 18,
   "metadata": {},
   "outputs": [],
   "source": [
    "X = np.concatenate([X_train], axis= 0)\n",
    "y = np.concatenate([y_train], axis= 0)\n",
    "best_param = {'verbose':-1,'boosting_type':'dart',  'objective':'multiclass', 'num_class':5, 'metric':'multi_logloss','subsample_freq': 20, 'subsample': 1, 'reg_lambda': 1.2, 'reg_alpha': 0.8, 'num_leaves': 50, 'n_estimators': 1500, 'min_split_gain': 0.3, 'min_data_in_leaf': 15, 'max_depth': 20, 'learning_rate': 0.01, 'colsample_bytree': 0.7}\n",
    "\n",
    "best_param1 = {'boosting_type':'gbdt',  'objective':'multiclass', 'learning_rate':0.01, 'num_class':5, 'metric':'multi_error','subsample_freq': 20, 'subsample': 0.8, 'reg_lambda': 1.2, 'num_leaves': 40, 'n_estimators': 1000, 'min_split_gain': 0.4, 'min_data_in_leaf': 25, 'max_depth': 20, 'colsample_bytree': 0.7}\n",
    "d_train=lgb.Dataset(X, y)\n",
    "clf=lgb.train(best_param,d_train)"
   ]
  },
  {
   "cell_type": "code",
   "execution_count": 19,
   "metadata": {},
   "outputs": [
    {
     "name": "stdout",
     "output_type": "stream",
     "text": [
      "0.7735771098027063\n"
     ]
    }
   ],
   "source": [
    "y_pred1=clf.predict(X)\n",
    "y_pred1 = [np.argmax(line) for line in y_pred1]\n",
    "print(accuracy_score(y, y_pred1))"
   ]
  },
  {
   "cell_type": "code",
   "execution_count": 20,
   "metadata": {},
   "outputs": [],
   "source": [
    "y_pred=clf.predict(X_test)"
   ]
  },
  {
   "cell_type": "code",
   "execution_count": 21,
   "metadata": {},
   "outputs": [
    {
     "name": "stdout",
     "output_type": "stream",
     "text": [
      "[[0.00196762 0.18334208 0.46932959 0.25857008 0.08679063]\n",
      " [0.00222762 0.11962763 0.36132502 0.40962577 0.10719396]\n",
      " [0.00224256 0.22431245 0.38997027 0.27035362 0.1131211 ]\n",
      " ...\n",
      " [0.00233051 0.09145827 0.23151025 0.4299446  0.24475637]\n",
      " [0.00166933 0.75488829 0.11781474 0.07424742 0.05138022]\n",
      " [0.00244423 0.30013197 0.25725801 0.23734041 0.20282538]]\n"
     ]
    }
   ],
   "source": [
    "print(y_pred)"
   ]
  },
  {
   "cell_type": "code",
   "execution_count": 11,
   "metadata": {},
   "outputs": [],
   "source": [
    "y_pred = [np.argmax(line) for line in y_pred]"
   ]
  },
  {
   "cell_type": "code",
   "execution_count": 12,
   "metadata": {},
   "outputs": [
    {
     "name": "stdout",
     "output_type": "stream",
     "text": [
      "[2, 3, 2, 2, 2, 4, 4, 1, 3, 3, 1, 1, 1, 3, 1, 1, 2, 2, 2, 4, 3, 2, 2, 4, 2, 4, 4, 4, 1, 4, 3, 3, 1, 1, 3, 4, 4, 1, 1, 1, 4, 4, 4, 1, 4, 4, 4, 1, 2, 2, 2, 3, 1, 1, 1, 3, 1, 4, 2, 3, 2, 4, 1, 3, 1, 4, 1, 4, 4, 3, 4, 3, 2, 3, 3, 2, 4, 3, 1, 1, 2, 3, 1, 3, 2, 4, 1, 3, 1, 1, 2, 4, 3, 2, 1, 4, 4, 2, 3, 2, 2, 1, 2, 4, 1, 1, 1, 3, 1, 1, 3, 1, 4, 3, 3, 3, 4, 4, 1, 1, 1, 4, 2, 1, 2, 3, 3, 1, 1, 4, 3, 3, 3, 3, 1, 4, 3, 4, 4, 2, 4, 3, 4, 4, 4, 3, 4, 4, 2, 4, 1, 1, 4, 2, 3, 2, 3, 3, 4, 1, 3, 2, 3, 4, 4, 3, 2, 4, 1, 1, 4, 1, 1, 4, 1, 2, 2, 4, 4, 3, 2, 4, 4, 2, 3, 3, 1, 4, 2, 3, 3, 2, 1, 3, 1, 1, 3, 1, 1, 1, 4, 3, 1, 1, 2, 3, 2, 3, 4, 3, 4, 1, 2, 2, 4, 3, 3, 3, 3, 4, 2, 4, 2, 1, 1, 3, 3, 4, 2, 4, 3, 3, 3, 3, 3, 4, 3, 3, 4, 1, 2, 1, 2, 2, 4, 2, 1, 2, 4, 4, 2, 1, 1, 1, 4, 1, 2, 2, 2, 3, 3, 2, 3, 1, 2, 1, 1, 1, 2, 2, 2, 4, 1, 1, 3, 3, 1, 1, 3, 3, 2, 2, 3, 3, 2, 2, 3, 2, 2, 3, 2, 3, 1, 2, 3, 1, 3, 2, 1, 4, 4, 3, 4, 1, 2, 3, 1, 1, 3, 3, 4, 2, 4, 1, 3, 4, 4, 1, 2, 4, 1, 1, 2, 2, 1, 3, 1, 1, 3, 2, 4, 3, 3, 2, 4, 1, 3, 3, 1, 2, 1, 2, 1, 3, 4, 3, 3, 2, 1, 3, 1, 1, 3, 1, 1, 4, 4, 3, 4, 2, 1, 1, 1, 1, 3, 1, 2, 4, 1, 1, 1, 3, 3, 3, 4, 4, 4, 3, 4, 2, 1, 3, 2, 2, 3, 2, 3, 4, 2, 1, 3, 4, 4, 1, 1, 2, 2, 3, 3, 4, 3, 2, 3, 2, 2, 1, 4, 3, 3, 1, 2, 2, 2, 4, 2, 1, 1, 2, 1, 1, 4, 4, 2, 4, 4, 1, 2, 2, 2, 4, 4, 1, 3, 4, 3, 1, 4, 4, 1, 3, 2, 3, 1, 4, 4, 3, 4, 1, 1, 3, 4, 4, 3, 2, 3, 4, 2, 4, 4, 4, 1, 1, 3, 4, 4, 2, 3, 4, 4, 3, 1, 1, 3, 3, 1, 1, 2, 3, 4, 2, 2, 4, 2, 2, 2, 3, 4, 1, 4, 1, 3, 2, 4, 4, 2, 1, 2, 4, 3, 1, 4, 4, 3, 2, 1, 2, 4, 3, 1, 4, 4, 3, 1, 3, 1, 4, 4, 4, 3, 2, 2, 4, 3, 3, 4, 3, 3, 3, 2, 2, 2, 2, 4, 3, 2, 4, 4, 1, 3, 4, 4, 1, 2, 2, 3, 4, 1, 4, 1, 1, 3, 4, 2, 3, 4, 4, 1, 2, 3, 1, 3, 1, 4, 3, 3, 3, 3, 3, 1, 1, 3, 2, 1, 4, 2, 1, 1, 1, 4, 2, 4, 3, 3, 3, 2, 2, 3, 4, 3, 3, 2, 2, 3, 4, 2, 2, 4, 1, 3, 1, 3, 4, 1, 1, 1, 2, 4, 1, 3, 2, 3, 4, 2, 3, 1, 3, 1, 1, 4, 4, 1, 2, 3, 4, 2, 3, 3, 2, 3, 4, 2, 3, 4, 4, 3, 4, 3, 2, 2, 1, 1, 4, 2, 1, 3, 1, 3, 4, 3, 3, 1, 2, 2, 1, 3, 3, 2, 1, 3, 2, 1, 3, 4, 1, 3, 4, 1, 3, 4, 2, 1, 1, 4, 3, 4, 2, 3, 2, 1, 2, 4, 4, 2, 4, 2, 3, 2, 4, 1, 1, 4, 1, 3, 1, 2, 2, 4, 1, 3, 1, 1, 4, 4, 1, 1, 1, 1, 3, 3, 2, 1, 4, 2, 1, 4, 3, 1, 4, 3, 2, 2, 4, 4, 4, 2, 4, 3, 4, 2, 3, 2, 4, 3, 2, 3, 1, 2, 4, 2, 4, 3, 4, 4, 2, 4, 2, 2, 2, 1, 2, 2, 3, 1, 4, 1, 3, 1, 2, 2, 3, 2, 3, 3, 2, 4, 3, 1, 1, 4, 1, 2, 4, 2, 4, 2, 2, 2, 3, 3, 2, 2, 1, 2, 1, 2, 4, 3, 4, 4, 2, 4, 1, 4, 3, 1, 1, 1, 2, 3, 4, 2, 4, 3, 1, 4, 3, 3, 4, 3, 1, 2, 2, 2, 3, 1, 4, 3, 4, 3, 2, 2, 3, 4, 4, 4, 4, 3, 4, 2, 1, 3, 1, 3, 4, 1, 4, 1, 4, 2, 1, 4, 4, 1, 4, 4, 3, 1, 3, 3, 2, 2, 3, 4, 4, 2, 3, 1, 4, 1, 4, 4, 2, 3, 1, 1, 2, 1, 3, 1, 3, 1, 4, 3, 3, 2, 3, 1, 1, 4, 4, 2, 1, 2, 3, 1, 3, 2, 3, 3, 1, 4, 3, 2, 1, 3, 4, 1, 2, 1, 4, 2, 2, 4, 2, 4, 1, 4, 1, 1, 3, 4, 2, 3, 3, 3, 2, 4, 3, 3, 4, 4, 2, 3, 3, 4, 1, 1, 1, 1, 2, 1, 1, 1, 4, 1, 1, 3, 3, 3, 4, 4, 1, 1, 2, 3, 1, 3, 1, 1, 3, 3, 4, 1, 1, 1, 2, 2, 3, 2, 4, 1, 3, 4, 1, 3, 3, 1, 3, 1, 2, 3, 2, 4, 3, 4, 4, 2, 3, 3, 3, 4, 1, 3, 2, 3, 3, 3, 2, 2, 1, 2, 2, 3, 3, 1, 2, 4, 2, 2, 4, 2, 2, 3, 2, 3, 4, 3, 4, 4, 3, 2, 4, 3, 2, 1, 4, 3, 2, 2, 3, 1, 3, 2, 4, 3, 2, 1, 2, 4, 1, 3, 3, 1, 3, 4, 1, 2, 3, 2, 1, 3, 3, 4, 3, 2, 1, 1, 4, 3, 4, 2, 2, 1, 3, 1, 1, 1, 1, 1, 1, 2, 3, 4, 1, 2, 2, 3, 2, 2, 3, 3, 3, 1, 3, 3, 3, 2, 2, 4, 2, 2, 1, 3, 4, 2, 1, 2, 2, 4, 4, 4, 1, 4, 1, 3, 2, 3, 3, 1, 2, 2, 4, 1, 1, 2, 1, 1, 1, 2, 4, 1, 4, 3, 4, 1, 1, 4, 3, 3, 1, 1, 4, 3, 1, 1, 2, 3, 2, 2, 1, 4, 2, 4, 1, 2, 4, 3, 1, 4, 3, 1, 2, 3, 3, 4, 2, 1, 2, 4, 1, 2, 3, 2, 4, 3, 2, 1, 3, 1, 4, 3, 3, 2, 1, 1, 2, 1, 1, 1, 4, 4, 4, 2, 2, 2, 1, 2, 1, 3, 3, 1, 1, 3, 2, 3, 2, 2, 3, 4, 3, 3, 3, 1, 4, 3, 1, 1, 2, 4, 3, 1, 4, 3, 3, 3, 2, 1, 1, 1, 1, 3, 3, 3, 4, 3, 1, 1, 1, 1, 1, 3, 2, 1, 2, 1, 2, 4, 2, 4, 2, 3, 1, 3, 4, 1, 1, 3, 3, 1, 4, 4, 1, 3, 2, 1, 2, 3, 1, 3, 1, 2, 3, 4, 3, 4, 1, 4, 3, 4, 3, 2, 1, 1, 3, 2, 3, 2, 3, 3, 2, 1, 3, 2, 2, 3, 2, 1, 1, 4, 2, 1, 3, 1, 1, 3, 3, 2, 4, 3, 1, 2, 2, 2, 3, 4, 4, 2, 3, 4, 4, 3, 2, 1, 1, 4, 2, 2, 4, 1, 1, 3, 2, 2, 2, 3, 2, 2, 4, 3, 1, 2, 3, 4, 2, 1, 1, 3, 3, 2, 4, 3, 3, 2, 4, 1, 2, 1, 4, 2, 2, 1, 2, 3, 3, 2, 3, 3, 2, 4, 2, 1, 3, 1, 1, 2, 1, 1, 1, 2, 1, 4, 1, 4, 2, 4, 4, 4, 2, 3, 4, 2, 3, 2, 3, 3, 2, 3, 3, 1, 4, 2, 2, 2, 3, 1, 1, 1, 4, 4, 2, 3, 4, 3, 1, 3, 2, 4, 2, 2, 1, 3, 2, 2, 3, 1, 3, 2, 4, 3, 1, 2, 2, 2, 4, 2, 3, 2, 2, 1, 2, 3, 2, 1, 1, 4, 3, 4, 2, 4, 3, 3, 2, 3, 3, 1, 1, 2, 1, 2, 4, 4, 2, 4, 3, 3, 1, 2, 1, 4, 3, 1, 3, 4, 1, 3, 1, 2, 1, 1, 4, 2, 4, 4, 1, 3, 1, 4, 2, 1, 1, 3, 1, 2, 2, 1, 3, 1, 2, 2, 3, 3, 1, 3, 3, 4, 1, 3, 3, 1, 3, 3, 1, 3, 4, 2, 4, 3, 2, 3, 2, 1, 3, 1, 1, 1, 1, 1, 3, 2, 3, 3, 2, 3, 1, 3, 2, 2, 2, 2, 1, 3, 4, 2, 1, 1, 2, 1, 3, 3, 1, 1, 1, 2, 3, 1, 4, 3, 2, 1, 2, 4, 4, 3, 3, 1, 4, 3, 1, 4, 4, 3, 2, 4, 4, 2, 2, 3, 2, 2, 1, 2, 4, 1, 4, 3, 2, 1, 4, 3, 4, 3, 2, 2, 4, 2, 1, 3, 4, 2, 2, 4, 2, 4, 1, 2, 1, 3, 4, 2, 1, 3, 4, 4, 4, 1, 1, 2, 4, 2, 1, 2, 4, 3, 2, 1, 1, 4, 2, 1, 4, 2, 1, 4, 2, 2, 1, 4, 4, 3, 2, 1, 4, 1, 4, 1, 2, 3, 4, 3, 3, 3, 2, 4, 3, 1, 3, 3, 4, 3, 3, 3, 4, 1, 1, 3, 1, 1, 4, 1, 3, 1, 4, 1, 4, 4, 2, 3, 2, 1, 2, 3, 3, 3, 4, 3, 1, 2, 2, 3, 1, 4, 4, 2, 1, 2, 3, 2, 4, 4, 1, 1, 3, 1, 4, 2, 1, 4, 4, 4, 1, 3, 4, 3, 2, 4, 4, 2, 2, 2, 2, 3, 1, 1, 3, 4, 3, 4, 2, 1, 3, 1, 3, 2, 1, 2, 3, 4, 2, 4, 2, 3, 3, 1, 1, 3, 2, 3, 4, 2, 3, 3, 1, 3, 4, 1, 2, 4, 2, 1, 1, 3, 3, 3, 2, 2, 1, 1, 2, 1, 1, 1, 3, 4, 4, 4, 3, 3, 2, 3, 1, 3, 3, 3, 2, 2, 4, 2, 1, 4, 1, 4, 2, 3, 3, 1, 1, 1, 3, 2, 4, 2, 1, 3, 1, 2, 1, 3, 2, 1, 1, 3, 4, 2, 4, 2, 4, 4, 3, 4, 2, 3, 4, 1, 1, 1, 3, 4, 3, 3, 3, 1, 3, 4, 3, 1, 4, 3, 4, 1, 2, 2, 4, 2, 2, 4, 4, 4, 2, 4, 4, 1, 3, 1, 2, 4, 1, 3, 4, 1, 2, 2, 4, 2, 1, 1, 4, 1, 1, 3, 3, 4, 1, 2, 2, 3, 1, 2, 4, 4, 2, 4, 4, 3, 3, 1, 3, 1, 4, 2, 4, 2, 2, 4, 2, 4, 2, 1, 1, 2, 3, 2, 4, 4, 4, 1, 1, 3, 4, 1, 4, 3, 1, 4, 3, 2, 4, 2, 4, 2, 1, 2, 2, 3, 3, 4, 1, 3, 1, 2, 4, 4, 3, 1, 4, 4, 4, 1, 3, 3, 4, 4, 1, 1, 2, 2, 4, 3, 3, 2, 1, 2, 3, 1, 4, 3, 1, 1, 2, 4, 2, 4, 1, 4, 4, 1, 2, 2, 3, 4, 2, 4, 2, 3, 1, 2, 3, 4, 2, 2, 3, 4, 2, 3, 3, 2, 1, 1, 1, 3, 1, 4, 3, 4, 3, 3, 1, 1, 1, 4, 1, 3, 3, 2, 1, 1, 4, 4, 1, 2, 4, 3, 1, 2, 3, 3, 3, 3, 3, 1, 4, 3, 4, 1, 2, 3, 1, 1, 4, 4, 1, 2, 2, 4, 3, 3, 2, 3, 1, 4, 3, 3, 2, 4, 2, 3, 4, 4, 4, 3, 1, 4, 3, 3, 1, 3, 1, 4, 1, 1, 3, 1, 4, 1, 3, 4, 3, 3, 2, 3, 3, 2, 2, 1, 4, 1, 2, 2, 4, 2, 1, 3, 2, 3, 2, 2, 4, 1, 4, 4, 1, 4, 3, 3, 3, 2, 1, 4, 1, 4, 2, 3, 3, 4, 2, 3, 1, 1, 2, 3, 3, 4, 2, 3, 4, 3, 4, 4, 1, 4, 3, 1, 4, 3, 4, 4, 3, 1, 3, 2, 1, 1, 4, 4, 1, 4, 1, 1, 2, 4, 3, 3, 2, 2, 1, 2, 1, 2, 3, 1, 1, 2, 2, 3, 1, 1, 2, 3, 1, 3, 4, 2, 2, 4, 1, 1, 3, 3, 1, 1, 4, 1, 1, 2, 4, 4, 4, 3, 4, 3, 1, 1, 2, 4, 1, 4, 1, 4, 2, 1, 3, 2, 2, 2, 4, 2, 3, 1, 2, 1, 2, 3, 3, 4, 1, 4, 3, 1, 3, 1, 1, 1, 3, 4, 3, 1, 1, 3, 3, 2, 1, 2, 4, 2, 3, 1, 4, 2, 2, 2, 4, 4, 4, 1, 2, 3, 1, 3, 2, 2, 1, 3, 1, 3, 4, 3, 1, 2, 3, 3, 1, 1, 1, 1, 4, 3, 1, 4, 2, 1, 4, 4, 4, 4, 4, 1, 3, 1, 4, 4, 1, 3, 1, 1, 3, 1, 2, 4, 2, 3, 2, 2, 2, 3, 3, 3, 1, 3, 2, 3, 4, 4, 1, 2, 2, 2, 2, 3, 3, 3, 4, 3, 3, 3, 4, 4, 4, 3, 4, 4, 1, 4, 4, 2, 1, 2, 1, 2, 4, 3, 3, 1, 1, 3, 3, 1, 4, 4, 4, 3, 3, 2, 1, 1, 3, 2, 2, 2, 3, 2, 2, 2, 2, 1, 4, 2, 2, 2, 1, 1, 1, 4, 3, 4, 4, 1, 4, 4, 4, 1, 2, 2, 3, 3, 3, 2, 4, 4, 4, 1, 2, 3, 4, 3, 4, 4, 3, 4, 4, 2, 2, 2, 2, 4, 1, 4, 4, 2, 3, 4, 4, 1, 3, 4, 2, 2, 3, 1, 4, 1, 3, 3, 1, 1, 1, 3, 4, 3, 1, 1, 1, 2, 1, 4, 3, 1, 3, 2, 4, 4, 2, 1, 1, 1, 2, 2, 2, 3, 2, 1, 3, 3, 2, 1, 3, 1, 3, 2, 1, 1, 1, 3, 4, 3, 2, 3, 3, 4, 4, 4, 1, 1, 3, 1, 2, 4, 1, 1, 3, 4, 1, 3, 3, 1, 2, 3, 3, 3, 1, 1, 3, 4, 2, 1, 2, 2, 3, 3, 3, 4, 1, 4, 4, 2, 2, 1, 1, 3, 1, 3, 4, 3, 3, 3, 4, 3, 4, 3, 1, 2, 4, 1, 1, 3, 2, 1, 2, 1, 1, 3, 2, 2, 4, 1, 3, 4, 3, 3, 1, 3, 3, 3, 2, 2, 4, 4, 1, 3, 3, 2, 4, 1, 3, 1, 2, 1, 4, 3, 3, 3, 3, 1, 4, 4, 4, 4, 2, 4, 3, 1, 3, 1, 1, 2, 2, 3, 2, 1, 2, 4, 3, 3, 1, 4, 3, 1, 1, 3, 1, 2, 4, 1, 3, 3, 3, 4, 1, 1, 1, 1, 4, 4, 3, 3, 1, 3, 2, 1, 4, 2, 2, 3, 3, 2, 2, 4, 3, 3, 3, 4, 3, 3, 2, 1, 4, 1, 3, 2, 3, 4, 4, 3, 4, 1, 4, 4, 4, 1, 3, 3, 3, 1, 3, 3, 4, 1, 3, 2, 3, 3, 1, 1, 1, 4, 1, 4, 4, 3, 3, 2, 3, 1, 3, 3, 4, 4, 2, 4, 4, 1, 3, 2, 3, 2, 1, 1, 1, 2, 1, 3, 1, 1, 1, 3, 3, 4, 3, 1, 4, 2, 3, 1, 2, 3, 4, 3, 1, 3, 2, 1, 1, 2, 3, 1, 2, 3, 2, 2, 3, 1, 1, 4, 2, 2, 2, 1, 1, 3, 4, 3, 4, 1, 1, 3, 4, 2, 3, 4, 4, 3, 4, 2, 3, 1, 2, 2, 4, 3, 4, 3, 4, 1, 4, 3, 3, 4, 2, 2, 4, 2, 1, 2, 4, 3, 4, 1, 3, 3, 3, 1, 1, 1, 2, 3, 3, 4, 3, 2, 1, 1, 2, 2, 2, 4, 3, 2, 2, 4, 1, 1, 2, 3, 2, 1, 2, 3, 1, 3, 4, 4, 3, 2, 3, 3, 4, 4, 4, 1, 2, 3, 4, 4, 2, 1, 4, 1, 1, 3, 2, 2, 3, 3, 2, 1, 3, 3, 2, 3, 3, 4, 3, 2, 4, 4, 4, 1, 2, 2, 4, 1, 1, 1, 1, 4, 1, 2, 4, 2, 1, 3, 4, 3, 2, 4, 2, 2, 4, 1, 2, 2, 2, 1, 4, 3, 3, 2, 1, 4, 2, 4, 2, 4, 4, 2, 3, 3, 3, 1, 3, 2, 4, 1, 3, 1, 3, 3, 1, 4, 4, 2, 4, 4, 1, 4, 2, 3, 1, 4, 2, 1, 3, 3, 3, 3, 2, 1, 1, 3, 1, 2, 2, 1, 2, 4, 1, 1, 3, 2, 2, 1, 3, 1, 2, 1, 4, 1, 4, 2, 4, 1, 4, 4, 2, 4, 1, 2, 2, 1, 3, 2, 1, 2, 3, 3, 3, 1, 2, 2, 3, 2, 3, 1, 3, 2, 3, 2, 3, 1, 3, 3, 3, 3, 2, 1, 1, 3, 3, 2, 1, 4, 4, 3, 1, 2, 2, 2, 4, 4, 4, 3, 4, 2, 3, 4, 1, 4, 2, 2, 2, 2, 2, 2, 4, 3, 1, 3, 4, 4, 1, 1, 1, 4, 2, 1, 2, 2, 2, 3, 4, 3, 2, 1, 3, 4, 3, 2, 3, 2, 1, 3, 3, 4, 3, 1, 1, 1, 4, 2, 4, 2, 3, 2, 1, 1, 1, 3, 3, 2, 2, 4, 3, 4, 4, 3, 1, 3, 3, 3, 4, 4, 4, 3, 4, 1, 4, 4, 2, 3, 1, 4, 1, 3, 2, 1, 1, 3, 2, 1, 1, 4, 4, 1, 3, 2, 4, 1, 4, 3, 1, 1, 1, 2, 1, 2, 2, 1, 3, 2, 3, 2, 2, 2, 4, 1, 2, 4, 2, 2, 3, 2, 3, 2, 4, 4, 3, 1, 1, 3, 2, 2, 4, 3, 4, 2, 1, 3, 4, 3, 3, 3, 2, 2, 2, 3, 2, 1, 3, 3, 1, 1, 2, 4, 2, 2, 2, 2, 3, 2, 4, 3, 2, 3, 2, 1, 2, 4, 2, 3, 2, 3, 2, 1, 1, 1, 4, 4, 1, 4, 3, 4, 4, 2, 1, 3, 2, 3, 3, 4, 4, 1, 1, 3, 4, 4, 3, 2, 4, 1, 1, 4, 2, 2, 2, 4, 3, 1, 2, 3, 1, 2, 1, 2, 2, 2, 1, 4, 2, 4, 2, 4, 2, 1, 4, 2, 1, 2, 3, 2, 3, 3, 1, 4, 4, 3, 2, 1, 3, 4, 1, 2, 4, 2, 2, 1, 2, 1, 3, 4, 2, 1, 1, 4, 3, 2, 2, 2, 3, 1, 3, 3, 3, 2, 2, 2, 4, 1, 4, 2, 3, 3, 3, 1, 4, 2, 1, 3, 3, 4, 2, 1, 3, 1, 4, 3, 3, 3, 4, 1, 4, 2, 3, 2, 2, 4, 3, 2, 4, 1, 1, 3, 4, 4, 4, 2, 2, 1, 2, 1, 4, 3, 1, 2, 3, 2, 2, 4, 3, 2, 1, 1, 1, 2, 2, 4, 1, 1, 3, 3, 4, 1, 4, 2, 1, 2, 1, 1, 2, 1, 3, 1, 3, 3, 3, 4, 3, 3, 4, 1, 4, 2, 3, 4, 2, 1, 3, 3, 2, 2, 1, 4, 2, 1, 1, 1, 1, 3, 2, 1, 3, 2, 3, 4, 1, 2, 1, 3, 2, 1, 1, 3, 4, 3, 3, 3, 3, 1, 3, 1, 4, 3, 2, 2, 4, 2, 3, 2, 4, 1, 4, 1, 1, 2, 3, 2, 4, 4, 1, 1, 4, 4, 4, 3, 3, 4, 4, 1, 4, 1, 3, 3, 4, 4, 4, 1, 2, 3, 4, 3, 4, 3, 3, 2, 2, 2, 2, 4, 2, 2, 4, 4, 4, 4, 3, 3, 1, 2, 2, 4, 4, 1, 3, 2, 4, 1, 1, 4, 2, 2, 4, 4, 1, 4, 4, 3, 4, 1, 1, 2, 2, 3, 4, 4, 3, 3, 4, 3, 2, 3, 4, 2, 3, 2, 1, 3, 2, 1, 3, 1, 1, 4, 2, 3, 2, 1, 3, 1, 2, 1, 4, 3, 1, 3, 2, 4, 4, 2, 1, 1, 2, 3, 4, 1, 1, 1, 3, 3, 1, 2, 2, 4, 3, 3, 1, 4, 3, 2, 4, 4, 4, 1, 3, 2, 3, 2, 1, 1, 4, 1, 2, 3, 1, 1, 4, 1, 2, 2, 4, 4, 3, 3, 2, 1, 4, 3, 4, 2, 2, 4, 4, 2, 1, 1, 1, 3, 4, 3, 4, 2, 1, 3, 2, 3, 3, 3, 1, 1, 3, 4, 2, 2, 3, 4, 2, 2, 3, 2, 1, 3, 4, 3, 1, 1, 1, 1, 4, 4, 3, 2, 4, 3, 4, 1, 3, 2, 1, 3, 2, 4, 2, 2, 2, 2, 1, 3, 4, 1, 4, 1, 2, 2, 3, 3, 1, 3, 2, 2, 1, 2, 3, 2, 2, 4, 1, 1, 3, 3, 3, 3, 2, 2, 1, 1, 1, 3, 4, 2, 2, 3, 3, 3, 2, 2, 3, 1, 1, 2, 1, 3, 2, 4, 4, 4, 3, 3, 3, 2, 3, 3, 2, 2, 1, 1, 2, 3, 2, 3, 1, 1, 2, 3, 3, 3, 1, 1, 1, 2, 2, 4, 2, 1, 4, 4, 3, 1, 1, 2, 4, 4, 3, 4, 1, 4, 4, 4, 4, 4, 2, 4, 1, 4, 3, 2, 1, 2, 2, 2, 4, 1, 3, 2, 1, 3, 4, 1, 4, 3, 3, 3, 3, 2, 4, 4, 4, 2, 4, 1, 3, 3, 3, 1, 4, 4, 1, 4, 3, 1, 1, 3, 3, 1, 4, 2, 2, 2, 1, 3, 2, 3, 3, 4, 4, 2, 2, 4, 3, 3, 4, 2, 1, 2, 4, 4, 4, 1, 3, 1, 2, 1, 2, 1, 3, 4, 2, 4, 1, 3, 2, 1, 2, 1, 1, 2, 2, 1, 4, 4, 3, 3, 3, 2, 1, 4, 1, 4, 2, 3, 2, 1, 2, 1, 4, 2, 3, 2, 2, 3, 3, 3, 4, 1, 2, 1, 1, 4, 1, 1, 3, 3, 1, 3, 4, 3, 1, 2, 3, 2, 4, 3, 3, 1, 1, 2, 4, 3, 2, 4, 3, 4, 1, 4, 4, 1, 3, 3, 2, 1, 3, 3, 4, 3, 3, 2, 1, 4, 1, 2, 2, 2, 2, 2, 4, 2, 2, 4, 1, 2, 4, 2, 3, 3, 3, 1, 1, 1, 4, 2, 4, 1, 4, 4, 3, 1, 2, 4, 1, 3, 2, 3, 4, 3, 4, 3, 1, 3, 1, 3, 2, 2, 1, 3, 1, 3, 2, 3, 4, 2, 3, 4, 1, 1, 2, 4, 4, 3, 1, 4, 1, 1, 3, 1, 3, 2, 4, 1, 1, 3, 2, 2, 3, 1, 4, 1, 2, 4, 1, 4, 3, 2, 4, 4, 2, 3, 2, 1, 4, 4, 2, 2, 4, 3, 3, 3, 2, 1, 1, 3, 1, 1, 4, 3, 3, 3, 3, 4, 4, 3, 2, 3, 3, 1, 3, 3, 3, 1, 1, 2, 2, 4, 2, 3, 1, 2, 4, 4, 1, 3, 1, 4, 3, 3, 2, 3, 3, 2, 2, 1, 1, 3, 3, 2, 3, 2, 1, 1, 1, 3, 2, 2, 2, 3, 2, 3, 3, 1, 3, 4, 1, 4, 2, 4, 1, 3, 3, 2, 1, 2, 2, 2, 1, 3, 1, 3, 3, 4, 3, 3, 3, 3, 2, 2, 1, 1, 4, 2, 4, 3, 4, 2, 2, 3, 1, 3, 3, 2, 4, 1, 2, 3, 1, 2, 4, 3, 3, 4, 1, 2, 1, 1, 3, 2, 4, 2, 3, 2, 1, 3, 3, 1, 4, 2, 4, 4, 3, 3, 3, 2, 1, 4, 1, 4, 1, 3, 4, 2, 2, 4, 1, 2, 4, 3, 2, 3, 2, 3, 2, 3, 1, 4, 1, 4, 1, 3, 1, 4, 3, 3, 3, 2, 4, 4, 1, 4, 2, 2, 1, 2, 4, 4, 2, 3, 1, 2, 3, 3, 2, 1, 1, 4, 3, 1, 1, 2, 2, 1, 4, 4, 4, 3, 1, 2, 1, 4, 3, 1, 1, 3, 1, 4, 1, 3, 3, 1, 4, 3, 4, 3, 3, 1, 2, 4, 3, 4, 3, 2, 4, 4, 4, 2, 2, 1, 2, 3, 1, 2, 3, 2, 2, 2, 3, 2, 4, 1, 1, 2, 2, 2, 2, 1, 3, 1, 2, 3, 2, 3, 2, 2, 1, 3, 1, 2]\n"
     ]
    }
   ],
   "source": [
    "print(y_pred)"
   ]
  },
  {
   "cell_type": "code",
   "execution_count": 13,
   "metadata": {},
   "outputs": [],
   "source": [
    "df = pd.DataFrame\n",
    "test_labels['price'] = y_pred\n",
    "\n",
    "test_labels['price'] = test_labels['price'].map(lambda x: int(x))"
   ]
  },
  {
   "cell_type": "code",
   "execution_count": 14,
   "metadata": {},
   "outputs": [
    {
     "data": {
      "text/html": [
       "<div>\n",
       "<style scoped>\n",
       "    .dataframe tbody tr th:only-of-type {\n",
       "        vertical-align: middle;\n",
       "    }\n",
       "\n",
       "    .dataframe tbody tr th {\n",
       "        vertical-align: top;\n",
       "    }\n",
       "\n",
       "    .dataframe thead th {\n",
       "        text-align: right;\n",
       "    }\n",
       "</style>\n",
       "<table border=\"1\" class=\"dataframe\">\n",
       "  <thead>\n",
       "    <tr style=\"text-align: right;\">\n",
       "      <th></th>\n",
       "      <th>id</th>\n",
       "      <th>price</th>\n",
       "    </tr>\n",
       "  </thead>\n",
       "  <tbody>\n",
       "    <tr>\n",
       "      <th>0</th>\n",
       "      <td>7715</td>\n",
       "      <td>2</td>\n",
       "    </tr>\n",
       "    <tr>\n",
       "      <th>1</th>\n",
       "      <td>13196</td>\n",
       "      <td>3</td>\n",
       "    </tr>\n",
       "    <tr>\n",
       "      <th>2</th>\n",
       "      <td>13194</td>\n",
       "      <td>2</td>\n",
       "    </tr>\n",
       "    <tr>\n",
       "      <th>3</th>\n",
       "      <td>4673</td>\n",
       "      <td>2</td>\n",
       "    </tr>\n",
       "    <tr>\n",
       "      <th>4</th>\n",
       "      <td>11325</td>\n",
       "      <td>2</td>\n",
       "    </tr>\n",
       "    <tr>\n",
       "      <th>...</th>\n",
       "      <td>...</td>\n",
       "      <td>...</td>\n",
       "    </tr>\n",
       "    <tr>\n",
       "      <th>4144</th>\n",
       "      <td>12921</td>\n",
       "      <td>2</td>\n",
       "    </tr>\n",
       "    <tr>\n",
       "      <th>4145</th>\n",
       "      <td>7174</td>\n",
       "      <td>1</td>\n",
       "    </tr>\n",
       "    <tr>\n",
       "      <th>4146</th>\n",
       "      <td>9240</td>\n",
       "      <td>3</td>\n",
       "    </tr>\n",
       "    <tr>\n",
       "      <th>4147</th>\n",
       "      <td>11663</td>\n",
       "      <td>1</td>\n",
       "    </tr>\n",
       "    <tr>\n",
       "      <th>4148</th>\n",
       "      <td>4513</td>\n",
       "      <td>2</td>\n",
       "    </tr>\n",
       "  </tbody>\n",
       "</table>\n",
       "<p>4149 rows × 2 columns</p>\n",
       "</div>"
      ],
      "text/plain": [
       "         id  price\n",
       "0      7715      2\n",
       "1     13196      3\n",
       "2     13194      2\n",
       "3      4673      2\n",
       "4     11325      2\n",
       "...     ...    ...\n",
       "4144  12921      2\n",
       "4145   7174      1\n",
       "4146   9240      3\n",
       "4147  11663      1\n",
       "4148   4513      2\n",
       "\n",
       "[4149 rows x 2 columns]"
      ]
     },
     "execution_count": 14,
     "metadata": {},
     "output_type": "execute_result"
    }
   ],
   "source": [
    "test_labels"
   ]
  },
  {
   "cell_type": "code",
   "execution_count": 15,
   "metadata": {},
   "outputs": [],
   "source": [
    "test_labels.to_csv(r'./submission11.csv', index=False)"
   ]
  },
  {
   "cell_type": "code",
   "execution_count": null,
   "metadata": {},
   "outputs": [],
   "source": [
    "from sklearn.model_selection import GridSearchCV\n",
    "\n",
    "kf = KFold(n_splits = 10, shuffle=True)\n",
    "\n",
    "\n",
    "X = np.concatenate([X_train], axis= 0)\n",
    "y = np.concatenate([y_train], axis= 0)\n",
    "param_grid = {\n",
    "    'n_estimators': [100, 400, 700, 1000],\n",
    "    'colsample_bytree': [0.7, 0.8],\n",
    "    'max_depth': [8,10,20],\n",
    "    'num_leaves': [15, 100, 200],\n",
    "    'reg_alpha': [1.1, 1.2, 1.3],\n",
    "    'reg_lambda': [1.1, 1.2, 1.3],\n",
    "    'min_split_gain': [0.3, 0.4],\n",
    "    'subsample': [0.7, 0.8, 0.9],\n",
    "    'subsample_freq': [20]\n",
    "}\n",
    "lgb_estimator = lgb.LGBMClassifier(boosting_type='gbdt',  objective='multiclass', learning_rate=0.01, metric='multi_error')\n",
    "gsearch = GridSearchCV(estimator=lgb_estimator, param_grid=param_grid, cv=kf, verbose=2, n_jobs=-1)\n",
    "lgb_model = gsearch.fit(X=X, y=y)\n",
    "\n",
    "\n",
    "print(lgb_model.best_params_, lgb_model.best_score_)\n"
   ]
  },
  {
   "cell_type": "code",
   "execution_count": null,
   "metadata": {},
   "outputs": [],
   "source": []
  }
 ],
 "metadata": {
  "environment": {
   "name": "common-cpu.m59",
   "type": "gcloud",
   "uri": "gcr.io/deeplearning-platform-release/base-cpu:m59"
  },
  "kernelspec": {
   "display_name": "Python 3",
   "language": "python",
   "name": "python3"
  },
  "language_info": {
   "codemirror_mode": {
    "name": "ipython",
    "version": 3
   },
   "file_extension": ".py",
   "mimetype": "text/x-python",
   "name": "python",
   "nbconvert_exporter": "python",
   "pygments_lexer": "ipython3",
   "version": "3.7.8"
  }
 },
 "nbformat": 4,
 "nbformat_minor": 4
}
