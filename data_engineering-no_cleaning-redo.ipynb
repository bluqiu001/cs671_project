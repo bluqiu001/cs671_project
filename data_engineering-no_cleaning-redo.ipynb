{
 "cells": [
  {
   "cell_type": "code",
   "execution_count": 42,
   "metadata": {},
   "outputs": [],
   "source": [
    "#import packages here\n",
    "#REDO\n",
    "import pandas as pd\n",
    "\n",
    "%matplotlib inline\n"
   ]
  },
  {
   "cell_type": "code",
   "execution_count": 43,
   "metadata": {},
   "outputs": [],
   "source": [
    "#import data here \n",
    "\n",
    "train_data = pd.read_csv('./train.csv')\n",
    "test_data = pd.read_csv('./test.csv')"
   ]
  },
  {
   "cell_type": "code",
   "execution_count": 44,
   "metadata": {},
   "outputs": [],
   "source": [
    "train_data['last_review'] = train_data['last_review'].\\\n",
    "map(lambda x: (int(x.split('/')[2]+x.split('/')[0])))\n",
    "\n"
   ]
  },
  {
   "cell_type": "code",
   "execution_count": 45,
   "metadata": {},
   "outputs": [],
   "source": [
    "train_data['host_since'] = train_data['host_since'].\\\n",
    "map(lambda x: (int(x.split('/')[2])))"
   ]
  },
  {
   "cell_type": "code",
   "execution_count": 46,
   "metadata": {},
   "outputs": [
    {
     "data": {
      "text/plain": [
       "203     2973\n",
       "202     1176\n",
       "201      880\n",
       "1912     536\n",
       "204      416\n",
       "        ... \n",
       "149        1\n",
       "1212       1\n",
       "1012       1\n",
       "148        1\n",
       "132        1\n",
       "Name: last_review, Length: 82, dtype: int64"
      ]
     },
     "execution_count": 46,
     "metadata": {},
     "output_type": "execute_result"
    }
   ],
   "source": [
    "train_data['last_review'].value_counts()"
   ]
  },
  {
   "cell_type": "code",
   "execution_count": 18,
   "metadata": {},
   "outputs": [],
   "source": [
    "train_data['bed_type'] = train_data['bed_type'].map(lambda x: True if x== \"Real Bed\" else False)\n",
    "\n",
    "train_data['require_guest_profile_picture'] = train_data['require_guest_profile_picture'].map(lambda x: False if x==True else x)\n",
    "\n",
    "train_data['require_guest_phone_verification'] = train_data['require_guest_phone_verification'].map(lambda x: False if x==True else x)\n",
    "\n",
    "\n",
    "\n"
   ]
  },
  {
   "cell_type": "code",
   "execution_count": 19,
   "metadata": {},
   "outputs": [
    {
     "data": {
      "text/html": [
       "<div>\n",
       "<style scoped>\n",
       "    .dataframe tbody tr th:only-of-type {\n",
       "        vertical-align: middle;\n",
       "    }\n",
       "\n",
       "    .dataframe tbody tr th {\n",
       "        vertical-align: top;\n",
       "    }\n",
       "\n",
       "    .dataframe thead th {\n",
       "        text-align: right;\n",
       "    }\n",
       "</style>\n",
       "<table border=\"1\" class=\"dataframe\">\n",
       "  <thead>\n",
       "    <tr style=\"text-align: right;\">\n",
       "      <th></th>\n",
       "      <th>id</th>\n",
       "      <th>minimum_nights</th>\n",
       "      <th>number_of_reviews</th>\n",
       "      <th>last_review</th>\n",
       "      <th>reviews_per_month</th>\n",
       "      <th>calculated_host_listings_count</th>\n",
       "      <th>availability_365</th>\n",
       "      <th>host_since</th>\n",
       "      <th>host_is_superhost</th>\n",
       "      <th>bathrooms</th>\n",
       "      <th>...</th>\n",
       "      <th>Da_hood_Vélez Sársfield</th>\n",
       "      <th>Cancel_flexible</th>\n",
       "      <th>Cancel_moderate</th>\n",
       "      <th>Cancel_strict_14_with_grace_period</th>\n",
       "      <th>Cancel_super_strict_30</th>\n",
       "      <th>Cancel_super_strict_60</th>\n",
       "      <th>Room_Entire home/apt</th>\n",
       "      <th>Room_Hotel room</th>\n",
       "      <th>Room_Private room</th>\n",
       "      <th>Room_Shared room</th>\n",
       "    </tr>\n",
       "  </thead>\n",
       "  <tbody>\n",
       "    <tr>\n",
       "      <th>0</th>\n",
       "      <td>727</td>\n",
       "      <td>1</td>\n",
       "      <td>170</td>\n",
       "      <td>205</td>\n",
       "      <td>2.48</td>\n",
       "      <td>4</td>\n",
       "      <td>346</td>\n",
       "      <td>13</td>\n",
       "      <td>t</td>\n",
       "      <td>1.0</td>\n",
       "      <td>...</td>\n",
       "      <td>0</td>\n",
       "      <td>0</td>\n",
       "      <td>0</td>\n",
       "      <td>1</td>\n",
       "      <td>0</td>\n",
       "      <td>0</td>\n",
       "      <td>1</td>\n",
       "      <td>0</td>\n",
       "      <td>0</td>\n",
       "      <td>0</td>\n",
       "    </tr>\n",
       "    <tr>\n",
       "      <th>1</th>\n",
       "      <td>6274</td>\n",
       "      <td>1</td>\n",
       "      <td>11</td>\n",
       "      <td>197</td>\n",
       "      <td>0.57</td>\n",
       "      <td>1</td>\n",
       "      <td>0</td>\n",
       "      <td>14</td>\n",
       "      <td>t</td>\n",
       "      <td>1.0</td>\n",
       "      <td>...</td>\n",
       "      <td>0</td>\n",
       "      <td>0</td>\n",
       "      <td>1</td>\n",
       "      <td>0</td>\n",
       "      <td>0</td>\n",
       "      <td>0</td>\n",
       "      <td>0</td>\n",
       "      <td>0</td>\n",
       "      <td>1</td>\n",
       "      <td>0</td>\n",
       "    </tr>\n",
       "    <tr>\n",
       "      <th>2</th>\n",
       "      <td>6025</td>\n",
       "      <td>3</td>\n",
       "      <td>2</td>\n",
       "      <td>1911</td>\n",
       "      <td>0.08</td>\n",
       "      <td>19</td>\n",
       "      <td>360</td>\n",
       "      <td>17</td>\n",
       "      <td>f</td>\n",
       "      <td>1.0</td>\n",
       "      <td>...</td>\n",
       "      <td>0</td>\n",
       "      <td>0</td>\n",
       "      <td>1</td>\n",
       "      <td>0</td>\n",
       "      <td>0</td>\n",
       "      <td>0</td>\n",
       "      <td>1</td>\n",
       "      <td>0</td>\n",
       "      <td>0</td>\n",
       "      <td>0</td>\n",
       "    </tr>\n",
       "    <tr>\n",
       "      <th>3</th>\n",
       "      <td>8931</td>\n",
       "      <td>2</td>\n",
       "      <td>1</td>\n",
       "      <td>1911</td>\n",
       "      <td>0.13</td>\n",
       "      <td>1</td>\n",
       "      <td>267</td>\n",
       "      <td>19</td>\n",
       "      <td>f</td>\n",
       "      <td>1.0</td>\n",
       "      <td>...</td>\n",
       "      <td>0</td>\n",
       "      <td>1</td>\n",
       "      <td>0</td>\n",
       "      <td>0</td>\n",
       "      <td>0</td>\n",
       "      <td>0</td>\n",
       "      <td>1</td>\n",
       "      <td>0</td>\n",
       "      <td>0</td>\n",
       "      <td>0</td>\n",
       "    </tr>\n",
       "    <tr>\n",
       "      <th>4</th>\n",
       "      <td>7524</td>\n",
       "      <td>2</td>\n",
       "      <td>31</td>\n",
       "      <td>1912</td>\n",
       "      <td>1.54</td>\n",
       "      <td>5</td>\n",
       "      <td>365</td>\n",
       "      <td>15</td>\n",
       "      <td>t</td>\n",
       "      <td>1.0</td>\n",
       "      <td>...</td>\n",
       "      <td>0</td>\n",
       "      <td>0</td>\n",
       "      <td>1</td>\n",
       "      <td>0</td>\n",
       "      <td>0</td>\n",
       "      <td>0</td>\n",
       "      <td>1</td>\n",
       "      <td>0</td>\n",
       "      <td>0</td>\n",
       "      <td>0</td>\n",
       "    </tr>\n",
       "  </tbody>\n",
       "</table>\n",
       "<p>5 rows × 76 columns</p>\n",
       "</div>"
      ],
      "text/plain": [
       "     id  minimum_nights  number_of_reviews  last_review  reviews_per_month  \\\n",
       "0   727               1                170          205               2.48   \n",
       "1  6274               1                 11          197               0.57   \n",
       "2  6025               3                  2         1911               0.08   \n",
       "3  8931               2                  1         1911               0.13   \n",
       "4  7524               2                 31         1912               1.54   \n",
       "\n",
       "   calculated_host_listings_count  availability_365  host_since  \\\n",
       "0                               4               346          13   \n",
       "1                               1                 0          14   \n",
       "2                              19               360          17   \n",
       "3                               1               267          19   \n",
       "4                               5               365          15   \n",
       "\n",
       "  host_is_superhost  bathrooms  ...  Da_hood_Vélez Sársfield  Cancel_flexible  \\\n",
       "0                 t        1.0  ...                        0                0   \n",
       "1                 t        1.0  ...                        0                0   \n",
       "2                 f        1.0  ...                        0                0   \n",
       "3                 f        1.0  ...                        0                1   \n",
       "4                 t        1.0  ...                        0                0   \n",
       "\n",
       "   Cancel_moderate  Cancel_strict_14_with_grace_period  \\\n",
       "0                0                                   1   \n",
       "1                1                                   0   \n",
       "2                1                                   0   \n",
       "3                0                                   0   \n",
       "4                1                                   0   \n",
       "\n",
       "   Cancel_super_strict_30  Cancel_super_strict_60  Room_Entire home/apt  \\\n",
       "0                       0                       0                     1   \n",
       "1                       0                       0                     0   \n",
       "2                       0                       0                     1   \n",
       "3                       0                       0                     1   \n",
       "4                       0                       0                     1   \n",
       "\n",
       "  Room_Hotel room Room_Private room Room_Shared room  \n",
       "0               0                 0                0  \n",
       "1               0                 1                0  \n",
       "2               0                 0                0  \n",
       "3               0                 0                0  \n",
       "4               0                 0                0  \n",
       "\n",
       "[5 rows x 76 columns]"
      ]
     },
     "execution_count": 19,
     "metadata": {},
     "output_type": "execute_result"
    }
   ],
   "source": [
    "rooms = pd.get_dummies(train_data.room_type, prefix = 'Room')\n",
    "\n",
    "\n",
    "cancel = pd.get_dummies(train_data.cancellation_policy, prefix = 'Cancel')\n",
    "\n",
    "hoods = pd.get_dummies(train_data.neighbourhood, prefix = 'Da_hood')\n",
    "train_data = train_data.drop(columns=['neighbourhood', 'cancellation_policy', 'room_type'])\n",
    "\n",
    "train_data = pd.concat([train_data, hoods, cancel, rooms], axis=1)\n",
    "train_data.head(5)\n",
    "\n"
   ]
  },
  {
   "cell_type": "code",
   "execution_count": 20,
   "metadata": {},
   "outputs": [],
   "source": [
    "train_data['host_is_superhost'] = train_data['host_is_superhost'].map(lambda x: True if x==\"f\" else False)\n",
    "train_data['instant_bookable'] = train_data['instant_bookable'].map(lambda x: True if x==\"f\" else False)\n",
    "train_data['require_guest_profile_picture'] = train_data['require_guest_profile_picture'].map(lambda x: True if x==\"f\" else False)\n",
    "train_data['require_guest_phone_verification'] = train_data['require_guest_phone_verification'].map(lambda x: True if x==\"f\" else False)\n",
    "train_data['instant_bookable'] = train_data['instant_bookable'].map(lambda x: True if x==\"f\" else False)"
   ]
  },
  {
   "cell_type": "code",
   "execution_count": 21,
   "metadata": {
    "scrolled": true
   },
   "outputs": [],
   "source": [
    "\n",
    "train_data = train_data.drop(columns=['is_business_travel_ready', 'Cancel_super_strict_60', 'Da_hood_Vélez Sársfield', 'Da_hood_Villa Real', 'Da_hood_Mataderos'])"
   ]
  },
  {
   "cell_type": "code",
   "execution_count": 22,
   "metadata": {},
   "outputs": [],
   "source": [
    "train_data.to_csv(r'./train_noclean.csv')"
   ]
  },
  {
   "cell_type": "code",
   "execution_count": 23,
   "metadata": {},
   "outputs": [],
   "source": [
    "test_data['last_review'] = test_data['last_review'].\\\n",
    "map(lambda x: (int(x.split('/')[2]+x.split('/')[0])))\n",
    "\n",
    "test_data['host_since'] = test_data['host_since'].\\\n",
    "map(lambda x: (int(x.split('/')[2])))\n"
   ]
  },
  {
   "cell_type": "code",
   "execution_count": 24,
   "metadata": {},
   "outputs": [],
   "source": [
    "test_data['bed_type'] = test_data['bed_type'].map(lambda x: True if x== \"Real Bed\" else False)\n",
    "\n",
    "test_data['require_guest_profile_picture'] = test_data['require_guest_profile_picture'].map(lambda x: False if x==True else x)\n",
    "\n",
    "test_data['require_guest_phone_verification'] = test_data['require_guest_phone_verification'].map(lambda x: False if x==True else x)\n",
    "\n",
    "\n",
    "\n"
   ]
  },
  {
   "cell_type": "code",
   "execution_count": 25,
   "metadata": {},
   "outputs": [],
   "source": [
    "rooms = pd.get_dummies(test_data.room_type, prefix = 'Room')\n",
    "\n",
    "\n",
    "cancel = pd.get_dummies(test_data.cancellation_policy, prefix = 'Cancel')\n",
    "\n",
    "hoods = pd.get_dummies(test_data.neighbourhood, prefix = 'Da_hood')\n",
    "test_data = test_data.drop(columns=['neighbourhood', 'cancellation_policy', 'room_type'])\n",
    "\n",
    "test_data = pd.concat([test_data, hoods, cancel, rooms], axis=1)\n",
    "test_data.head(5)\n",
    "\n",
    "\n",
    "test_data = test_data.drop(columns=['is_business_travel_ready'])"
   ]
  },
  {
   "cell_type": "code",
   "execution_count": 26,
   "metadata": {},
   "outputs": [],
   "source": [
    "test_data['host_is_superhost'] = test_data['host_is_superhost'].map(lambda x: True if x==\"f\" else False)\n",
    "test_data['instant_bookable'] = test_data['instant_bookable'].map(lambda x: True if x==\"f\" else False)\n",
    "test_data['require_guest_profile_picture'] = test_data['require_guest_profile_picture'].map(lambda x: True if x==\"f\" else False)\n",
    "test_data['require_guest_phone_verification'] = test_data['require_guest_phone_verification'].map(lambda x: True if x==\"f\" else False)\n",
    "test_data['instant_bookable'] = test_data['instant_bookable'].map(lambda x: True if x==\"f\" else False)"
   ]
  },
  {
   "cell_type": "code",
   "execution_count": 27,
   "metadata": {},
   "outputs": [],
   "source": [
    "test_data.to_csv(r'./test_noclean.csv')"
   ]
  },
  {
   "cell_type": "code",
   "execution_count": 29,
   "metadata": {},
   "outputs": [],
   "source": [
    "#print(test_data.shape)#print(train_data.shape)\n",
    "\n",
    "#print(train_data.columns)\n",
    "#print(test_data.columns)"
   ]
  },
  {
   "cell_type": "code",
   "execution_count": 30,
   "metadata": {},
   "outputs": [
    {
     "name": "stdout",
     "output_type": "stream",
     "text": [
      "id                        9681\n",
      "minimum_nights              48\n",
      "number_of_reviews          248\n",
      "last_review                 82\n",
      "reviews_per_month          504\n",
      "                          ... \n",
      "Cancel_super_strict_30       2\n",
      "Room_Entire home/apt         2\n",
      "Room_Hotel room              2\n",
      "Room_Private room            2\n",
      "Room_Shared room             2\n",
      "Length: 71, dtype: int64\n"
     ]
    }
   ],
   "source": [
    "print(train_data.nunique())"
   ]
  },
  {
   "cell_type": "code",
   "execution_count": 31,
   "metadata": {},
   "outputs": [
    {
     "data": {
      "text/plain": [
       "id                        9681\n",
       "minimum_nights              48\n",
       "number_of_reviews          248\n",
       "last_review                 82\n",
       "reviews_per_month          504\n",
       "                          ... \n",
       "Cancel_super_strict_30       2\n",
       "Room_Entire home/apt         2\n",
       "Room_Hotel room              2\n",
       "Room_Private room            2\n",
       "Room_Shared room             2\n",
       "Length: 71, dtype: int64"
      ]
     },
     "execution_count": 31,
     "metadata": {},
     "output_type": "execute_result"
    }
   ],
   "source": [
    "train_data.nunique()"
   ]
  },
  {
   "cell_type": "code",
   "execution_count": null,
   "metadata": {},
   "outputs": [],
   "source": []
  }
 ],
 "metadata": {
  "environment": {
   "name": "common-cpu.m59",
   "type": "gcloud",
   "uri": "gcr.io/deeplearning-platform-release/base-cpu:m59"
  },
  "kernelspec": {
   "display_name": "Python 3",
   "language": "python",
   "name": "python3"
  },
  "language_info": {
   "codemirror_mode": {
    "name": "ipython",
    "version": 3
   },
   "file_extension": ".py",
   "mimetype": "text/x-python",
   "name": "python",
   "nbconvert_exporter": "python",
   "pygments_lexer": "ipython3",
   "version": "3.7.8"
  }
 },
 "nbformat": 4,
 "nbformat_minor": 4
}
