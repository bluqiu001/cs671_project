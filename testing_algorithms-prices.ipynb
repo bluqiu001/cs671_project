{
 "cells": [
  {
   "cell_type": "code",
   "execution_count": 13,
   "metadata": {},
   "outputs": [],
   "source": [
    "from sklearn.model_selection import KFold\n",
    "from sklearn.metrics import accuracy_score\n",
    "import pandas as pd\n",
    "import numpy as np\n"
   ]
  },
  {
   "cell_type": "code",
   "execution_count": 14,
   "metadata": {},
   "outputs": [],
   "source": [
    "#import data here \n",
    "\n",
    "train_data = pd.read_csv('./train_noclean_prices.csv')\n",
    "test_data = pd.read_csv('./test_noclean_prices.csv')\n",
    "\n",
    "y_train = train_data.loc[:,'price']\n",
    "train_data = train_data.drop(columns='price')\n",
    "num_features = len(train_data.columns)\n",
    "features = list(train_data.columns[2:num_features])\n",
    "X_train = train_data.loc[:,features]\n",
    "\n",
    "features = list(test_data.columns[2:num_features])\n",
    "\n",
    "X_test = test_data.loc[:,features]\n",
    "test_labels = test_data.loc[:,'id']\n",
    "\n",
    "test_labels = test_labels.to_frame()"
   ]
  },
  {
   "cell_type": "code",
   "execution_count": 11,
   "metadata": {},
   "outputs": [
    {
     "ename": "KeyboardInterrupt",
     "evalue": "",
     "output_type": "error",
     "traceback": [
      "\u001b[0;31m---------------------------------------------------------------------------\u001b[0m",
      "\u001b[0;31mKeyboardInterrupt\u001b[0m                         Traceback (most recent call last)",
      "\u001b[0;32m<ipython-input-11-e66762ea8c63>\u001b[0m in \u001b[0;36m<module>\u001b[0;34m\u001b[0m\n\u001b[1;32m     16\u001b[0m     \u001b[0mclf\u001b[0m \u001b[0;34m=\u001b[0m \u001b[0mRandomForestClassifier\u001b[0m\u001b[0;34m(\u001b[0m\u001b[0;34m)\u001b[0m\u001b[0;34m\u001b[0m\u001b[0;34m\u001b[0m\u001b[0m\n\u001b[1;32m     17\u001b[0m     \u001b[0mclf\u001b[0m\u001b[0;34m.\u001b[0m\u001b[0mset_params\u001b[0m\u001b[0;34m(\u001b[0m\u001b[0;34m**\u001b[0m\u001b[0mparams\u001b[0m\u001b[0;34m)\u001b[0m\u001b[0;34m\u001b[0m\u001b[0;34m\u001b[0m\u001b[0m\n\u001b[0;32m---> 18\u001b[0;31m     \u001b[0mclf\u001b[0m\u001b[0;34m.\u001b[0m\u001b[0mfit\u001b[0m\u001b[0;34m(\u001b[0m\u001b[0mX_train_kf\u001b[0m\u001b[0;34m,\u001b[0m\u001b[0my_train_kf\u001b[0m\u001b[0;34m)\u001b[0m\u001b[0;34m\u001b[0m\u001b[0;34m\u001b[0m\u001b[0m\n\u001b[0m\u001b[1;32m     19\u001b[0m     \u001b[0maccuracy\u001b[0m \u001b[0;34m=\u001b[0m \u001b[0mclf\u001b[0m\u001b[0;34m.\u001b[0m\u001b[0mscore\u001b[0m\u001b[0;34m(\u001b[0m\u001b[0mX_test_kf\u001b[0m\u001b[0;34m,\u001b[0m \u001b[0my_test_kf\u001b[0m\u001b[0;34m)\u001b[0m\u001b[0;34m\u001b[0m\u001b[0;34m\u001b[0m\u001b[0m\n\u001b[1;32m     20\u001b[0m     \u001b[0mprint\u001b[0m\u001b[0;34m(\u001b[0m\u001b[0maccuracy\u001b[0m\u001b[0;34m)\u001b[0m\u001b[0;34m\u001b[0m\u001b[0;34m\u001b[0m\u001b[0m\n",
      "\u001b[0;32m/opt/conda/lib/python3.7/site-packages/sklearn/ensemble/_forest.py\u001b[0m in \u001b[0;36mfit\u001b[0;34m(self, X, y, sample_weight)\u001b[0m\n\u001b[1;32m    390\u001b[0m                     \u001b[0mverbose\u001b[0m\u001b[0;34m=\u001b[0m\u001b[0mself\u001b[0m\u001b[0;34m.\u001b[0m\u001b[0mverbose\u001b[0m\u001b[0;34m,\u001b[0m \u001b[0mclass_weight\u001b[0m\u001b[0;34m=\u001b[0m\u001b[0mself\u001b[0m\u001b[0;34m.\u001b[0m\u001b[0mclass_weight\u001b[0m\u001b[0;34m,\u001b[0m\u001b[0;34m\u001b[0m\u001b[0;34m\u001b[0m\u001b[0m\n\u001b[1;32m    391\u001b[0m                     n_samples_bootstrap=n_samples_bootstrap)\n\u001b[0;32m--> 392\u001b[0;31m                 for i, t in enumerate(trees))\n\u001b[0m\u001b[1;32m    393\u001b[0m \u001b[0;34m\u001b[0m\u001b[0m\n\u001b[1;32m    394\u001b[0m             \u001b[0;31m# Collect newly grown trees\u001b[0m\u001b[0;34m\u001b[0m\u001b[0;34m\u001b[0m\u001b[0;34m\u001b[0m\u001b[0m\n",
      "\u001b[0;32m/opt/conda/lib/python3.7/site-packages/joblib/parallel.py\u001b[0m in \u001b[0;36m__call__\u001b[0;34m(self, iterable)\u001b[0m\n\u001b[1;32m   1049\u001b[0m                 \u001b[0mself\u001b[0m\u001b[0;34m.\u001b[0m\u001b[0m_iterating\u001b[0m \u001b[0;34m=\u001b[0m \u001b[0mself\u001b[0m\u001b[0;34m.\u001b[0m\u001b[0m_original_iterator\u001b[0m \u001b[0;32mis\u001b[0m \u001b[0;32mnot\u001b[0m \u001b[0;32mNone\u001b[0m\u001b[0;34m\u001b[0m\u001b[0;34m\u001b[0m\u001b[0m\n\u001b[1;32m   1050\u001b[0m \u001b[0;34m\u001b[0m\u001b[0m\n\u001b[0;32m-> 1051\u001b[0;31m             \u001b[0;32mwhile\u001b[0m \u001b[0mself\u001b[0m\u001b[0;34m.\u001b[0m\u001b[0mdispatch_one_batch\u001b[0m\u001b[0;34m(\u001b[0m\u001b[0miterator\u001b[0m\u001b[0;34m)\u001b[0m\u001b[0;34m:\u001b[0m\u001b[0;34m\u001b[0m\u001b[0;34m\u001b[0m\u001b[0m\n\u001b[0m\u001b[1;32m   1052\u001b[0m                 \u001b[0;32mpass\u001b[0m\u001b[0;34m\u001b[0m\u001b[0;34m\u001b[0m\u001b[0m\n\u001b[1;32m   1053\u001b[0m \u001b[0;34m\u001b[0m\u001b[0m\n",
      "\u001b[0;32m/opt/conda/lib/python3.7/site-packages/joblib/parallel.py\u001b[0m in \u001b[0;36mdispatch_one_batch\u001b[0;34m(self, iterator)\u001b[0m\n\u001b[1;32m    864\u001b[0m                 \u001b[0;32mreturn\u001b[0m \u001b[0;32mFalse\u001b[0m\u001b[0;34m\u001b[0m\u001b[0;34m\u001b[0m\u001b[0m\n\u001b[1;32m    865\u001b[0m             \u001b[0;32melse\u001b[0m\u001b[0;34m:\u001b[0m\u001b[0;34m\u001b[0m\u001b[0;34m\u001b[0m\u001b[0m\n\u001b[0;32m--> 866\u001b[0;31m                 \u001b[0mself\u001b[0m\u001b[0;34m.\u001b[0m\u001b[0m_dispatch\u001b[0m\u001b[0;34m(\u001b[0m\u001b[0mtasks\u001b[0m\u001b[0;34m)\u001b[0m\u001b[0;34m\u001b[0m\u001b[0;34m\u001b[0m\u001b[0m\n\u001b[0m\u001b[1;32m    867\u001b[0m                 \u001b[0;32mreturn\u001b[0m \u001b[0;32mTrue\u001b[0m\u001b[0;34m\u001b[0m\u001b[0;34m\u001b[0m\u001b[0m\n\u001b[1;32m    868\u001b[0m \u001b[0;34m\u001b[0m\u001b[0m\n",
      "\u001b[0;32m/opt/conda/lib/python3.7/site-packages/joblib/parallel.py\u001b[0m in \u001b[0;36m_dispatch\u001b[0;34m(self, batch)\u001b[0m\n\u001b[1;32m    782\u001b[0m         \u001b[0;32mwith\u001b[0m \u001b[0mself\u001b[0m\u001b[0;34m.\u001b[0m\u001b[0m_lock\u001b[0m\u001b[0;34m:\u001b[0m\u001b[0;34m\u001b[0m\u001b[0;34m\u001b[0m\u001b[0m\n\u001b[1;32m    783\u001b[0m             \u001b[0mjob_idx\u001b[0m \u001b[0;34m=\u001b[0m \u001b[0mlen\u001b[0m\u001b[0;34m(\u001b[0m\u001b[0mself\u001b[0m\u001b[0;34m.\u001b[0m\u001b[0m_jobs\u001b[0m\u001b[0;34m)\u001b[0m\u001b[0;34m\u001b[0m\u001b[0;34m\u001b[0m\u001b[0m\n\u001b[0;32m--> 784\u001b[0;31m             \u001b[0mjob\u001b[0m \u001b[0;34m=\u001b[0m \u001b[0mself\u001b[0m\u001b[0;34m.\u001b[0m\u001b[0m_backend\u001b[0m\u001b[0;34m.\u001b[0m\u001b[0mapply_async\u001b[0m\u001b[0;34m(\u001b[0m\u001b[0mbatch\u001b[0m\u001b[0;34m,\u001b[0m \u001b[0mcallback\u001b[0m\u001b[0;34m=\u001b[0m\u001b[0mcb\u001b[0m\u001b[0;34m)\u001b[0m\u001b[0;34m\u001b[0m\u001b[0;34m\u001b[0m\u001b[0m\n\u001b[0m\u001b[1;32m    785\u001b[0m             \u001b[0;31m# A job can complete so quickly than its callback is\u001b[0m\u001b[0;34m\u001b[0m\u001b[0;34m\u001b[0m\u001b[0;34m\u001b[0m\u001b[0m\n\u001b[1;32m    786\u001b[0m             \u001b[0;31m# called before we get here, causing self._jobs to\u001b[0m\u001b[0;34m\u001b[0m\u001b[0;34m\u001b[0m\u001b[0;34m\u001b[0m\u001b[0m\n",
      "\u001b[0;32m/opt/conda/lib/python3.7/site-packages/joblib/_parallel_backends.py\u001b[0m in \u001b[0;36mapply_async\u001b[0;34m(self, func, callback)\u001b[0m\n\u001b[1;32m    206\u001b[0m     \u001b[0;32mdef\u001b[0m \u001b[0mapply_async\u001b[0m\u001b[0;34m(\u001b[0m\u001b[0mself\u001b[0m\u001b[0;34m,\u001b[0m \u001b[0mfunc\u001b[0m\u001b[0;34m,\u001b[0m \u001b[0mcallback\u001b[0m\u001b[0;34m=\u001b[0m\u001b[0;32mNone\u001b[0m\u001b[0;34m)\u001b[0m\u001b[0;34m:\u001b[0m\u001b[0;34m\u001b[0m\u001b[0;34m\u001b[0m\u001b[0m\n\u001b[1;32m    207\u001b[0m         \u001b[0;34m\"\"\"Schedule a func to be run\"\"\"\u001b[0m\u001b[0;34m\u001b[0m\u001b[0;34m\u001b[0m\u001b[0m\n\u001b[0;32m--> 208\u001b[0;31m         \u001b[0mresult\u001b[0m \u001b[0;34m=\u001b[0m \u001b[0mImmediateResult\u001b[0m\u001b[0;34m(\u001b[0m\u001b[0mfunc\u001b[0m\u001b[0;34m)\u001b[0m\u001b[0;34m\u001b[0m\u001b[0;34m\u001b[0m\u001b[0m\n\u001b[0m\u001b[1;32m    209\u001b[0m         \u001b[0;32mif\u001b[0m \u001b[0mcallback\u001b[0m\u001b[0;34m:\u001b[0m\u001b[0;34m\u001b[0m\u001b[0;34m\u001b[0m\u001b[0m\n\u001b[1;32m    210\u001b[0m             \u001b[0mcallback\u001b[0m\u001b[0;34m(\u001b[0m\u001b[0mresult\u001b[0m\u001b[0;34m)\u001b[0m\u001b[0;34m\u001b[0m\u001b[0;34m\u001b[0m\u001b[0m\n",
      "\u001b[0;32m/opt/conda/lib/python3.7/site-packages/joblib/_parallel_backends.py\u001b[0m in \u001b[0;36m__init__\u001b[0;34m(self, batch)\u001b[0m\n\u001b[1;32m    570\u001b[0m         \u001b[0;31m# Don't delay the application, to avoid keeping the input\u001b[0m\u001b[0;34m\u001b[0m\u001b[0;34m\u001b[0m\u001b[0;34m\u001b[0m\u001b[0m\n\u001b[1;32m    571\u001b[0m         \u001b[0;31m# arguments in memory\u001b[0m\u001b[0;34m\u001b[0m\u001b[0;34m\u001b[0m\u001b[0;34m\u001b[0m\u001b[0m\n\u001b[0;32m--> 572\u001b[0;31m         \u001b[0mself\u001b[0m\u001b[0;34m.\u001b[0m\u001b[0mresults\u001b[0m \u001b[0;34m=\u001b[0m \u001b[0mbatch\u001b[0m\u001b[0;34m(\u001b[0m\u001b[0;34m)\u001b[0m\u001b[0;34m\u001b[0m\u001b[0;34m\u001b[0m\u001b[0m\n\u001b[0m\u001b[1;32m    573\u001b[0m \u001b[0;34m\u001b[0m\u001b[0m\n\u001b[1;32m    574\u001b[0m     \u001b[0;32mdef\u001b[0m \u001b[0mget\u001b[0m\u001b[0;34m(\u001b[0m\u001b[0mself\u001b[0m\u001b[0;34m)\u001b[0m\u001b[0;34m:\u001b[0m\u001b[0;34m\u001b[0m\u001b[0;34m\u001b[0m\u001b[0m\n",
      "\u001b[0;32m/opt/conda/lib/python3.7/site-packages/joblib/parallel.py\u001b[0m in \u001b[0;36m__call__\u001b[0;34m(self)\u001b[0m\n\u001b[1;32m    261\u001b[0m         \u001b[0;32mwith\u001b[0m \u001b[0mparallel_backend\u001b[0m\u001b[0;34m(\u001b[0m\u001b[0mself\u001b[0m\u001b[0;34m.\u001b[0m\u001b[0m_backend\u001b[0m\u001b[0;34m,\u001b[0m \u001b[0mn_jobs\u001b[0m\u001b[0;34m=\u001b[0m\u001b[0mself\u001b[0m\u001b[0;34m.\u001b[0m\u001b[0m_n_jobs\u001b[0m\u001b[0;34m)\u001b[0m\u001b[0;34m:\u001b[0m\u001b[0;34m\u001b[0m\u001b[0;34m\u001b[0m\u001b[0m\n\u001b[1;32m    262\u001b[0m             return [func(*args, **kwargs)\n\u001b[0;32m--> 263\u001b[0;31m                     for func, args, kwargs in self.items]\n\u001b[0m\u001b[1;32m    264\u001b[0m \u001b[0;34m\u001b[0m\u001b[0m\n\u001b[1;32m    265\u001b[0m     \u001b[0;32mdef\u001b[0m \u001b[0m__reduce__\u001b[0m\u001b[0;34m(\u001b[0m\u001b[0mself\u001b[0m\u001b[0;34m)\u001b[0m\u001b[0;34m:\u001b[0m\u001b[0;34m\u001b[0m\u001b[0;34m\u001b[0m\u001b[0m\n",
      "\u001b[0;32m/opt/conda/lib/python3.7/site-packages/joblib/parallel.py\u001b[0m in \u001b[0;36m<listcomp>\u001b[0;34m(.0)\u001b[0m\n\u001b[1;32m    261\u001b[0m         \u001b[0;32mwith\u001b[0m \u001b[0mparallel_backend\u001b[0m\u001b[0;34m(\u001b[0m\u001b[0mself\u001b[0m\u001b[0;34m.\u001b[0m\u001b[0m_backend\u001b[0m\u001b[0;34m,\u001b[0m \u001b[0mn_jobs\u001b[0m\u001b[0;34m=\u001b[0m\u001b[0mself\u001b[0m\u001b[0;34m.\u001b[0m\u001b[0m_n_jobs\u001b[0m\u001b[0;34m)\u001b[0m\u001b[0;34m:\u001b[0m\u001b[0;34m\u001b[0m\u001b[0;34m\u001b[0m\u001b[0m\n\u001b[1;32m    262\u001b[0m             return [func(*args, **kwargs)\n\u001b[0;32m--> 263\u001b[0;31m                     for func, args, kwargs in self.items]\n\u001b[0m\u001b[1;32m    264\u001b[0m \u001b[0;34m\u001b[0m\u001b[0m\n\u001b[1;32m    265\u001b[0m     \u001b[0;32mdef\u001b[0m \u001b[0m__reduce__\u001b[0m\u001b[0;34m(\u001b[0m\u001b[0mself\u001b[0m\u001b[0;34m)\u001b[0m\u001b[0;34m:\u001b[0m\u001b[0;34m\u001b[0m\u001b[0;34m\u001b[0m\u001b[0m\n",
      "\u001b[0;32m/opt/conda/lib/python3.7/site-packages/sklearn/ensemble/_forest.py\u001b[0m in \u001b[0;36m_parallel_build_trees\u001b[0;34m(tree, forest, X, y, sample_weight, tree_idx, n_trees, verbose, class_weight, n_samples_bootstrap)\u001b[0m\n\u001b[1;32m    166\u001b[0m                                                         indices=indices)\n\u001b[1;32m    167\u001b[0m \u001b[0;34m\u001b[0m\u001b[0m\n\u001b[0;32m--> 168\u001b[0;31m         \u001b[0mtree\u001b[0m\u001b[0;34m.\u001b[0m\u001b[0mfit\u001b[0m\u001b[0;34m(\u001b[0m\u001b[0mX\u001b[0m\u001b[0;34m,\u001b[0m \u001b[0my\u001b[0m\u001b[0;34m,\u001b[0m \u001b[0msample_weight\u001b[0m\u001b[0;34m=\u001b[0m\u001b[0mcurr_sample_weight\u001b[0m\u001b[0;34m,\u001b[0m \u001b[0mcheck_input\u001b[0m\u001b[0;34m=\u001b[0m\u001b[0;32mFalse\u001b[0m\u001b[0;34m)\u001b[0m\u001b[0;34m\u001b[0m\u001b[0;34m\u001b[0m\u001b[0m\n\u001b[0m\u001b[1;32m    169\u001b[0m     \u001b[0;32melse\u001b[0m\u001b[0;34m:\u001b[0m\u001b[0;34m\u001b[0m\u001b[0;34m\u001b[0m\u001b[0m\n\u001b[1;32m    170\u001b[0m         \u001b[0mtree\u001b[0m\u001b[0;34m.\u001b[0m\u001b[0mfit\u001b[0m\u001b[0;34m(\u001b[0m\u001b[0mX\u001b[0m\u001b[0;34m,\u001b[0m \u001b[0my\u001b[0m\u001b[0;34m,\u001b[0m \u001b[0msample_weight\u001b[0m\u001b[0;34m=\u001b[0m\u001b[0msample_weight\u001b[0m\u001b[0;34m,\u001b[0m \u001b[0mcheck_input\u001b[0m\u001b[0;34m=\u001b[0m\u001b[0;32mFalse\u001b[0m\u001b[0;34m)\u001b[0m\u001b[0;34m\u001b[0m\u001b[0;34m\u001b[0m\u001b[0m\n",
      "\u001b[0;32m/opt/conda/lib/python3.7/site-packages/sklearn/tree/_classes.py\u001b[0m in \u001b[0;36mfit\u001b[0;34m(self, X, y, sample_weight, check_input, X_idx_sorted)\u001b[0m\n\u001b[1;32m    892\u001b[0m             \u001b[0msample_weight\u001b[0m\u001b[0;34m=\u001b[0m\u001b[0msample_weight\u001b[0m\u001b[0;34m,\u001b[0m\u001b[0;34m\u001b[0m\u001b[0;34m\u001b[0m\u001b[0m\n\u001b[1;32m    893\u001b[0m             \u001b[0mcheck_input\u001b[0m\u001b[0;34m=\u001b[0m\u001b[0mcheck_input\u001b[0m\u001b[0;34m,\u001b[0m\u001b[0;34m\u001b[0m\u001b[0;34m\u001b[0m\u001b[0m\n\u001b[0;32m--> 894\u001b[0;31m             X_idx_sorted=X_idx_sorted)\n\u001b[0m\u001b[1;32m    895\u001b[0m         \u001b[0;32mreturn\u001b[0m \u001b[0mself\u001b[0m\u001b[0;34m\u001b[0m\u001b[0;34m\u001b[0m\u001b[0m\n\u001b[1;32m    896\u001b[0m \u001b[0;34m\u001b[0m\u001b[0m\n",
      "\u001b[0;32m/opt/conda/lib/python3.7/site-packages/sklearn/tree/_classes.py\u001b[0m in \u001b[0;36mfit\u001b[0;34m(self, X, y, sample_weight, check_input, X_idx_sorted)\u001b[0m\n\u001b[1;32m    373\u001b[0m                                            min_impurity_split)\n\u001b[1;32m    374\u001b[0m \u001b[0;34m\u001b[0m\u001b[0m\n\u001b[0;32m--> 375\u001b[0;31m         \u001b[0mbuilder\u001b[0m\u001b[0;34m.\u001b[0m\u001b[0mbuild\u001b[0m\u001b[0;34m(\u001b[0m\u001b[0mself\u001b[0m\u001b[0;34m.\u001b[0m\u001b[0mtree_\u001b[0m\u001b[0;34m,\u001b[0m \u001b[0mX\u001b[0m\u001b[0;34m,\u001b[0m \u001b[0my\u001b[0m\u001b[0;34m,\u001b[0m \u001b[0msample_weight\u001b[0m\u001b[0;34m,\u001b[0m \u001b[0mX_idx_sorted\u001b[0m\u001b[0;34m)\u001b[0m\u001b[0;34m\u001b[0m\u001b[0;34m\u001b[0m\u001b[0m\n\u001b[0m\u001b[1;32m    376\u001b[0m \u001b[0;34m\u001b[0m\u001b[0m\n\u001b[1;32m    377\u001b[0m         \u001b[0;32mif\u001b[0m \u001b[0mself\u001b[0m\u001b[0;34m.\u001b[0m\u001b[0mn_outputs_\u001b[0m \u001b[0;34m==\u001b[0m \u001b[0;36m1\u001b[0m \u001b[0;32mand\u001b[0m \u001b[0mis_classifier\u001b[0m\u001b[0;34m(\u001b[0m\u001b[0mself\u001b[0m\u001b[0;34m)\u001b[0m\u001b[0;34m:\u001b[0m\u001b[0;34m\u001b[0m\u001b[0;34m\u001b[0m\u001b[0m\n",
      "\u001b[0;31mKeyboardInterrupt\u001b[0m: "
     ]
    }
   ],
   "source": [
    "from sklearn.ensemble import RandomForestClassifier\n",
    "from sklearn.model_selection import GridSearchCV, RandomizedSearchCV\n",
    "\n",
    "kf = KFold(n_splits = 10, shuffle=True)\n",
    "\n",
    "\n",
    "X = np.concatenate([X_train], axis= 0)\n",
    "y = np.concatenate([y_train], axis= 0)\n",
    "\n",
    "for train, test in kf.split(X_train):\n",
    "    X_train_kf, X_test_kf = X[train],X[test]\n",
    "    y_train_kf, y_test_kf = y[train],y[test]\n",
    "    \n",
    "    params = {'n_estimators': 1000, 'min_samples_split': 2, 'min_samples_leaf': 1, 'max_features': 'auto', 'max_depth': 20, 'criterion': 'gini', 'bootstrap': True}\n",
    "\n",
    "    clf = RandomForestClassifier()\n",
    "    clf.set_params(**params)\n",
    "    clf.fit(X_train_kf,y_train_kf)\n",
    "    accuracy = clf.score(X_test_kf, y_test_kf)\n",
    "    print(accuracy)"
   ]
  },
  {
   "cell_type": "code",
   "execution_count": 15,
   "metadata": {},
   "outputs": [
    {
     "name": "stdout",
     "output_type": "stream",
     "text": [
      "Fitting 10 folds for each of 1000 candidates, totalling 10000 fits\n"
     ]
    },
    {
     "name": "stderr",
     "output_type": "stream",
     "text": [
      "[Parallel(n_jobs=-1)]: Using backend LokyBackend with 16 concurrent workers.\n",
      "[Parallel(n_jobs=-1)]: Done   9 tasks      | elapsed:   11.9s\n",
      "[Parallel(n_jobs=-1)]: Done  18 tasks      | elapsed:   16.5s\n",
      "[Parallel(n_jobs=-1)]: Done  29 tasks      | elapsed:   19.8s\n",
      "[Parallel(n_jobs=-1)]: Done  40 tasks      | elapsed:   26.1s\n",
      "[Parallel(n_jobs=-1)]: Done  53 tasks      | elapsed:   27.9s\n",
      "[Parallel(n_jobs=-1)]: Done  66 tasks      | elapsed:   37.5s\n",
      "[Parallel(n_jobs=-1)]: Done  81 tasks      | elapsed:   41.9s\n",
      "[Parallel(n_jobs=-1)]: Done  96 tasks      | elapsed:   45.5s\n",
      "[Parallel(n_jobs=-1)]: Done 113 tasks      | elapsed:  1.1min\n",
      "[Parallel(n_jobs=-1)]: Done 130 tasks      | elapsed:  1.2min\n",
      "[Parallel(n_jobs=-1)]: Done 149 tasks      | elapsed:  1.3min\n",
      "[Parallel(n_jobs=-1)]: Done 168 tasks      | elapsed:  1.4min\n",
      "[Parallel(n_jobs=-1)]: Done 189 tasks      | elapsed:  1.4min\n",
      "[Parallel(n_jobs=-1)]: Done 210 tasks      | elapsed:  1.6min\n",
      "[Parallel(n_jobs=-1)]: Done 233 tasks      | elapsed:  2.1min\n",
      "[Parallel(n_jobs=-1)]: Done 256 tasks      | elapsed:  2.7min\n",
      "[Parallel(n_jobs=-1)]: Done 449 tasks      | elapsed:  5.9min\n",
      "[Parallel(n_jobs=-1)]: Done 480 tasks      | elapsed:  6.3min\n",
      "[Parallel(n_jobs=-1)]: Done 513 tasks      | elapsed:  7.0min\n",
      "[Parallel(n_jobs=-1)]: Done 546 tasks      | elapsed:  7.6min\n",
      "[Parallel(n_jobs=-1)]: Done 581 tasks      | elapsed:  8.3min\n",
      "[Parallel(n_jobs=-1)]: Done 616 tasks      | elapsed:  8.5min\n",
      "[Parallel(n_jobs=-1)]: Done 653 tasks      | elapsed:  8.9min\n",
      "[Parallel(n_jobs=-1)]: Done 690 tasks      | elapsed:  9.4min\n",
      "/opt/conda/lib/python3.7/site-packages/joblib/externals/loky/process_executor.py:691: UserWarning: A worker stopped while some jobs were given to the executor. This can be caused by a too short worker timeout or by a memory leak.\n",
      "  \"timeout or by a memory leak.\", UserWarning\n",
      "[Parallel(n_jobs=-1)]: Done 729 tasks      | elapsed:  9.9min\n",
      "[Parallel(n_jobs=-1)]: Done 768 tasks      | elapsed: 10.4min\n",
      "[Parallel(n_jobs=-1)]: Done 809 tasks      | elapsed: 10.7min\n",
      "[Parallel(n_jobs=-1)]: Done 850 tasks      | elapsed: 11.3min\n",
      "[Parallel(n_jobs=-1)]: Done 893 tasks      | elapsed: 11.8min\n",
      "[Parallel(n_jobs=-1)]: Done 936 tasks      | elapsed: 12.2min\n",
      "[Parallel(n_jobs=-1)]: Done 981 tasks      | elapsed: 12.6min\n",
      "[Parallel(n_jobs=-1)]: Done 1026 tasks      | elapsed: 13.0min\n",
      "[Parallel(n_jobs=-1)]: Done 1073 tasks      | elapsed: 13.9min\n",
      "[Parallel(n_jobs=-1)]: Done 1120 tasks      | elapsed: 14.8min\n",
      "[Parallel(n_jobs=-1)]: Done 1169 tasks      | elapsed: 15.4min\n",
      "[Parallel(n_jobs=-1)]: Done 1218 tasks      | elapsed: 16.1min\n",
      "[Parallel(n_jobs=-1)]: Done 1269 tasks      | elapsed: 16.9min\n",
      "[Parallel(n_jobs=-1)]: Done 1320 tasks      | elapsed: 17.4min\n",
      "[Parallel(n_jobs=-1)]: Done 1373 tasks      | elapsed: 17.8min\n",
      "[Parallel(n_jobs=-1)]: Done 1426 tasks      | elapsed: 18.3min\n",
      "[Parallel(n_jobs=-1)]: Done 1481 tasks      | elapsed: 19.0min\n",
      "[Parallel(n_jobs=-1)]: Done 1536 tasks      | elapsed: 19.4min\n",
      "[Parallel(n_jobs=-1)]: Done 1593 tasks      | elapsed: 19.8min\n",
      "[Parallel(n_jobs=-1)]: Done 1650 tasks      | elapsed: 20.4min\n",
      "[Parallel(n_jobs=-1)]: Done 1709 tasks      | elapsed: 20.7min\n",
      "[Parallel(n_jobs=-1)]: Done 1768 tasks      | elapsed: 21.7min\n",
      "[Parallel(n_jobs=-1)]: Done 1829 tasks      | elapsed: 22.5min\n",
      "[Parallel(n_jobs=-1)]: Done 1890 tasks      | elapsed: 22.9min\n",
      "[Parallel(n_jobs=-1)]: Done 2213 tasks      | elapsed: 27.0min\n",
      "[Parallel(n_jobs=-1)]: Done 2280 tasks      | elapsed: 28.3min\n",
      "[Parallel(n_jobs=-1)]: Done 2349 tasks      | elapsed: 29.0min\n",
      "[Parallel(n_jobs=-1)]: Done 2418 tasks      | elapsed: 29.9min\n",
      "[Parallel(n_jobs=-1)]: Done 2489 tasks      | elapsed: 30.8min\n",
      "[Parallel(n_jobs=-1)]: Done 2560 tasks      | elapsed: 31.2min\n",
      "[Parallel(n_jobs=-1)]: Done 2633 tasks      | elapsed: 32.5min\n",
      "[Parallel(n_jobs=-1)]: Done 2706 tasks      | elapsed: 33.8min\n",
      "[Parallel(n_jobs=-1)]: Done 2781 tasks      | elapsed: 34.3min\n",
      "[Parallel(n_jobs=-1)]: Done 2856 tasks      | elapsed: 35.2min\n",
      "[Parallel(n_jobs=-1)]: Done 2933 tasks      | elapsed: 36.5min\n",
      "[Parallel(n_jobs=-1)]: Done 3010 tasks      | elapsed: 37.5min\n",
      "[Parallel(n_jobs=-1)]: Done 3089 tasks      | elapsed: 38.1min\n",
      "[Parallel(n_jobs=-1)]: Done 3168 tasks      | elapsed: 39.9min\n",
      "[Parallel(n_jobs=-1)]: Done 3249 tasks      | elapsed: 40.7min\n",
      "[Parallel(n_jobs=-1)]: Done 3330 tasks      | elapsed: 41.2min\n",
      "[Parallel(n_jobs=-1)]: Done 3413 tasks      | elapsed: 43.0min\n",
      "[Parallel(n_jobs=-1)]: Done 3496 tasks      | elapsed: 44.1min\n",
      "[Parallel(n_jobs=-1)]: Done 3581 tasks      | elapsed: 45.2min\n",
      "[Parallel(n_jobs=-1)]: Done 3666 tasks      | elapsed: 46.1min\n",
      "[Parallel(n_jobs=-1)]: Done 3753 tasks      | elapsed: 47.5min\n",
      "[Parallel(n_jobs=-1)]: Done 3840 tasks      | elapsed: 48.1min\n",
      "[Parallel(n_jobs=-1)]: Done 3929 tasks      | elapsed: 48.9min\n",
      "[Parallel(n_jobs=-1)]: Done 4018 tasks      | elapsed: 50.4min\n",
      "[Parallel(n_jobs=-1)]: Done 4109 tasks      | elapsed: 51.5min\n",
      "[Parallel(n_jobs=-1)]: Done 4200 tasks      | elapsed: 52.5min\n",
      "[Parallel(n_jobs=-1)]: Done 4293 tasks      | elapsed: 54.5min\n",
      "[Parallel(n_jobs=-1)]: Done 4386 tasks      | elapsed: 55.9min\n",
      "[Parallel(n_jobs=-1)]: Done 4481 tasks      | elapsed: 57.2min\n",
      "[Parallel(n_jobs=-1)]: Done 4576 tasks      | elapsed: 58.1min\n",
      "[Parallel(n_jobs=-1)]: Done 4673 tasks      | elapsed: 59.2min\n",
      "[Parallel(n_jobs=-1)]: Done 4770 tasks      | elapsed: 60.0min\n",
      "[Parallel(n_jobs=-1)]: Done 4869 tasks      | elapsed: 61.2min\n",
      "[Parallel(n_jobs=-1)]: Done 4968 tasks      | elapsed: 62.2min\n",
      "[Parallel(n_jobs=-1)]: Done 5069 tasks      | elapsed: 63.4min\n",
      "[Parallel(n_jobs=-1)]: Done 5170 tasks      | elapsed: 65.1min\n",
      "[Parallel(n_jobs=-1)]: Done 5273 tasks      | elapsed: 67.0min\n",
      "[Parallel(n_jobs=-1)]: Done 5376 tasks      | elapsed: 68.4min\n",
      "[Parallel(n_jobs=-1)]: Done 5481 tasks      | elapsed: 69.9min\n",
      "[Parallel(n_jobs=-1)]: Done 5586 tasks      | elapsed: 71.4min\n",
      "[Parallel(n_jobs=-1)]: Done 5693 tasks      | elapsed: 73.6min\n",
      "[Parallel(n_jobs=-1)]: Done 5800 tasks      | elapsed: 75.7min\n",
      "[Parallel(n_jobs=-1)]: Done 5909 tasks      | elapsed: 76.5min\n",
      "[Parallel(n_jobs=-1)]: Done 6018 tasks      | elapsed: 77.7min\n",
      "[Parallel(n_jobs=-1)]: Done 6129 tasks      | elapsed: 78.8min\n",
      "[Parallel(n_jobs=-1)]: Done 6240 tasks      | elapsed: 80.3min\n",
      "[Parallel(n_jobs=-1)]: Done 6353 tasks      | elapsed: 81.6min\n",
      "[Parallel(n_jobs=-1)]: Done 6466 tasks      | elapsed: 83.6min\n",
      "[Parallel(n_jobs=-1)]: Done 6581 tasks      | elapsed: 84.6min\n",
      "[Parallel(n_jobs=-1)]: Done 6696 tasks      | elapsed: 85.6min\n",
      "[Parallel(n_jobs=-1)]: Done 6813 tasks      | elapsed: 86.9min\n",
      "[Parallel(n_jobs=-1)]: Done 6930 tasks      | elapsed: 88.0min\n",
      "[Parallel(n_jobs=-1)]: Done 7049 tasks      | elapsed: 89.1min\n",
      "[Parallel(n_jobs=-1)]: Done 7168 tasks      | elapsed: 90.6min\n",
      "[Parallel(n_jobs=-1)]: Done 7289 tasks      | elapsed: 92.0min\n",
      "[Parallel(n_jobs=-1)]: Done 7410 tasks      | elapsed: 93.4min\n",
      "[Parallel(n_jobs=-1)]: Done 7533 tasks      | elapsed: 95.3min\n",
      "[Parallel(n_jobs=-1)]: Done 7656 tasks      | elapsed: 96.0min\n",
      "[Parallel(n_jobs=-1)]: Done 7781 tasks      | elapsed: 97.5min\n",
      "[Parallel(n_jobs=-1)]: Done 7906 tasks      | elapsed: 99.4min\n",
      "[Parallel(n_jobs=-1)]: Done 8033 tasks      | elapsed: 100.8min\n",
      "[Parallel(n_jobs=-1)]: Done 8160 tasks      | elapsed: 101.7min\n",
      "[Parallel(n_jobs=-1)]: Done 8289 tasks      | elapsed: 103.0min\n",
      "[Parallel(n_jobs=-1)]: Done 8418 tasks      | elapsed: 104.0min\n",
      "[Parallel(n_jobs=-1)]: Done 8549 tasks      | elapsed: 105.5min\n",
      "[Parallel(n_jobs=-1)]: Done 8680 tasks      | elapsed: 107.2min\n",
      "[Parallel(n_jobs=-1)]: Done 8813 tasks      | elapsed: 109.0min\n",
      "[Parallel(n_jobs=-1)]: Done 8946 tasks      | elapsed: 109.9min\n",
      "[Parallel(n_jobs=-1)]: Done 9081 tasks      | elapsed: 111.7min\n",
      "[Parallel(n_jobs=-1)]: Done 9216 tasks      | elapsed: 113.0min\n",
      "[Parallel(n_jobs=-1)]: Done 9353 tasks      | elapsed: 114.0min\n",
      "[Parallel(n_jobs=-1)]: Done 9490 tasks      | elapsed: 116.1min\n",
      "[Parallel(n_jobs=-1)]: Done 9629 tasks      | elapsed: 118.1min\n",
      "[Parallel(n_jobs=-1)]: Done 9768 tasks      | elapsed: 119.9min\n",
      "[Parallel(n_jobs=-1)]: Done 9909 tasks      | elapsed: 121.2min\n",
      "[Parallel(n_jobs=-1)]: Done 10000 out of 10000 | elapsed: 122.8min finished\n"
     ]
    },
    {
     "name": "stdout",
     "output_type": "stream",
     "text": [
      "{'n_estimators': 400, 'min_samples_split': 5, 'min_samples_leaf': 1, 'max_features': 'auto', 'max_depth': None, 'criterion': 'gini', 'bootstrap': False} 0.5590306740355995\n"
     ]
    }
   ],
   "source": [
    "from sklearn.ensemble import RandomForestClassifier\n",
    "from sklearn.model_selection import GridSearchCV, RandomizedSearchCV\n",
    "\n",
    "kf = KFold(n_splits = 10, shuffle=True)\n",
    "\n",
    "param_grid = {'bootstrap': [True, False],\n",
    " 'criterion': ['gini', 'entropy'],\n",
    " 'max_depth': [2, 5, 10, 20, 30, None],\n",
    " 'max_features': ['auto', 'sqrt'],\n",
    " 'min_samples_leaf': [1, 2, 4],\n",
    " 'min_samples_split': [2, 5, 10],\n",
    " 'n_estimators': [50, 100, 200, 400, 600, 800, 1000, 1500]}\n",
    "X = np.concatenate([X_train], axis= 0)\n",
    "y = np.concatenate([y_train], axis= 0)\n",
    "\n",
    "\n",
    "clf = RandomForestClassifier()  \n",
    "rsearch = RandomizedSearchCV(estimator=clf, param_distributions=param_grid, cv=kf, n_iter = 1000, n_jobs = -1, verbose=10)\n",
    "clf_model = rsearch.fit(X=X, y=y)\n",
    "\n",
    "print(clf_model.best_params_, clf_model.best_score_)\n"
   ]
  },
  {
   "cell_type": "code",
   "execution_count": 16,
   "metadata": {},
   "outputs": [
    {
     "name": "stdout",
     "output_type": "stream",
     "text": [
      "{'n_estimators': 400, 'min_samples_split': 5, 'min_samples_leaf': 1, 'max_features': 'auto', 'max_depth': None, 'criterion': 'gini', 'bootstrap': False} 0.5590306740355995\n"
     ]
    }
   ],
   "source": [
    "print(clf_model.best_params_, clf_model.best_score_)\n"
   ]
  },
  {
   "cell_type": "code",
   "execution_count": 17,
   "metadata": {},
   "outputs": [
    {
     "data": {
      "text/plain": [
       "RandomForestClassifier(bootstrap=False, min_samples_split=5, n_estimators=400)"
      ]
     },
     "execution_count": 17,
     "metadata": {},
     "output_type": "execute_result"
    }
   ],
   "source": [
    "params = {'n_estimators': 400, 'min_samples_split': 5, 'min_samples_leaf': 1, 'max_features': 'auto', 'max_depth': None, 'criterion': 'gini', 'bootstrap': False}\n",
    "\n",
    "clf = RandomForestClassifier()\n",
    "clf.set_params(**params)\n",
    "clf.fit(X,y)\n"
   ]
  },
  {
   "cell_type": "code",
   "execution_count": 18,
   "metadata": {},
   "outputs": [
    {
     "name": "stdout",
     "output_type": "stream",
     "text": [
      "[2 1 3 ... 3 3 1]\n",
      "0.9994835244292944\n"
     ]
    }
   ],
   "source": [
    "y_pred1=clf.predict(X)\n",
    "print(y_pred1)\n",
    "print(accuracy_score(y, y_pred1))"
   ]
  },
  {
   "cell_type": "code",
   "execution_count": null,
   "metadata": {},
   "outputs": [],
   "source": [
    "y_pred=clf.predict(X_test)\n",
    "\n",
    "df = pd.DataFrame\n",
    "test_labels['price'] = y_pred\n",
    "\n",
    "test_labels['price'] = test_labels['price'].map(lambda x: int(x))"
   ]
  },
  {
   "cell_type": "code",
   "execution_count": null,
   "metadata": {},
   "outputs": [],
   "source": [
    "test_labels"
   ]
  },
  {
   "cell_type": "code",
   "execution_count": null,
   "metadata": {},
   "outputs": [],
   "source": [
    "test_labels.to_csv(r'./submission13.csv', index=False)"
   ]
  }
 ],
 "metadata": {
  "environment": {
   "name": "common-cpu.m59",
   "type": "gcloud",
   "uri": "gcr.io/deeplearning-platform-release/base-cpu:m59"
  },
  "kernelspec": {
   "display_name": "Python 3",
   "language": "python",
   "name": "python3"
  },
  "language_info": {
   "codemirror_mode": {
    "name": "ipython",
    "version": 3
   },
   "file_extension": ".py",
   "mimetype": "text/x-python",
   "name": "python",
   "nbconvert_exporter": "python",
   "pygments_lexer": "ipython3",
   "version": "3.7.8"
  }
 },
 "nbformat": 4,
 "nbformat_minor": 4
}
