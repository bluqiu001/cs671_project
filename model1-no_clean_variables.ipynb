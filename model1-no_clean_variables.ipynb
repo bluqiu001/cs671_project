{
 "cells": [
  {
   "cell_type": "code",
   "execution_count": 1,
   "metadata": {},
   "outputs": [],
   "source": [
    "#import packages here\n",
    "import pandas as pd\n",
    "import numpy as np\n",
    "import matplotlib.pyplot as plt\n",
    "import xgboost as xgb\n",
    "\n",
    "%matplotlib inline\n"
   ]
  },
  {
   "cell_type": "code",
   "execution_count": 2,
   "metadata": {},
   "outputs": [],
   "source": [
    "#import data here \n",
    "\n",
    "train_data = pd.read_csv('./train_noclean.csv')\n",
    "test_data = pd.read_csv('./test_noclean.csv')\n"
   ]
  },
  {
   "cell_type": "code",
   "execution_count": 3,
   "metadata": {},
   "outputs": [
    {
     "name": "stdout",
     "output_type": "stream",
     "text": [
      "   minimum_nights  number_of_reviews  last_review  reviews_per_month  \\\n",
      "0               1                170          205               2.48   \n",
      "1               1                 11          197               0.57   \n",
      "2               3                  2         1911               0.08   \n",
      "3               2                  1         1911               0.13   \n",
      "4               2                 31         1912               1.54   \n",
      "\n",
      "   calculated_host_listings_count  availability_365  host_since  \\\n",
      "0                               4               346          13   \n",
      "1                               1                 0          14   \n",
      "2                              19               360          17   \n",
      "3                               1               267          19   \n",
      "4                               5               365          15   \n",
      "\n",
      "   host_is_superhost  bathrooms  bedrooms  ...  Da_hood_Villa Urquiza  \\\n",
      "0              False        1.0         0  ...                      0   \n",
      "1              False        1.0         1  ...                      0   \n",
      "2               True        1.0         0  ...                      0   \n",
      "3               True        1.0         1  ...                      0   \n",
      "4              False        1.0         1  ...                      0   \n",
      "\n",
      "   Da_hood_Villa del Parque  Cancel_flexible  Cancel_moderate  \\\n",
      "0                         0                0                0   \n",
      "1                         0                0                1   \n",
      "2                         0                0                1   \n",
      "3                         0                1                0   \n",
      "4                         0                0                1   \n",
      "\n",
      "   Cancel_strict_14_with_grace_period  Cancel_super_strict_30  \\\n",
      "0                                   1                       0   \n",
      "1                                   0                       0   \n",
      "2                                   0                       0   \n",
      "3                                   0                       0   \n",
      "4                                   0                       0   \n",
      "\n",
      "   Room_Entire home/apt  Room_Hotel room  Room_Private room  Room_Shared room  \n",
      "0                     1                0                  0                 0  \n",
      "1                     0                0                  1                 0  \n",
      "2                     1                0                  0                 0  \n",
      "3                     1                0                  0                 0  \n",
      "4                     1                0                  0                 0  \n",
      "\n",
      "[5 rows x 69 columns]\n",
      "(9681, 69)\n",
      "(4149, 69)\n",
      "0       2\n",
      "1       1\n",
      "2       3\n",
      "3       2\n",
      "4       3\n",
      "       ..\n",
      "9676    4\n",
      "9677    4\n",
      "9678    3\n",
      "9679    3\n",
      "9680    1\n",
      "Name: price, Length: 9681, dtype: int64\n"
     ]
    }
   ],
   "source": [
    "\n",
    "y_train = train_data.loc[:,'price']\n",
    "train_data = train_data.drop(columns='price')\n",
    "num_features = len(train_data.columns)\n",
    "features = list(train_data.columns[2:num_features])\n",
    "X_train = train_data.loc[:,features]\n",
    "\n",
    "features = list(test_data.columns[2:num_features])\n",
    "\n",
    "X_test = test_data.loc[:,features]\n",
    "test_labels = test_data.loc[:,'id']\n",
    "print(X_train.head(5))\n",
    "print(X_train.shape)\n",
    "print(X_test.shape)\n",
    "print(y_train)\n",
    "test_labels = test_labels.to_frame()"
   ]
  },
  {
   "cell_type": "code",
   "execution_count": 4,
   "metadata": {},
   "outputs": [
    {
     "name": "stdout",
     "output_type": "stream",
     "text": [
      "minimum_nights                     48\n",
      "number_of_reviews                 248\n",
      "last_review                        82\n",
      "reviews_per_month                 504\n",
      "calculated_host_listings_count     47\n",
      "                                 ... \n",
      "Cancel_super_strict_30              2\n",
      "Room_Entire home/apt                2\n",
      "Room_Hotel room                     2\n",
      "Room_Private room                   2\n",
      "Room_Shared room                    2\n",
      "Length: 69, dtype: int64\n",
      "16    1550\n",
      "15    1269\n",
      "14    1217\n",
      "18    1171\n",
      "17    1085\n",
      "19     988\n",
      "13     888\n",
      "12     792\n",
      "11     481\n",
      "10     138\n",
      "20      79\n",
      "9       22\n",
      "8        1\n",
      "Name: host_since, dtype: int64\n"
     ]
    }
   ],
   "source": [
    "print(X_train.nunique())\n",
    "print(X_train['host_since'].value_counts())"
   ]
  },
  {
   "cell_type": "code",
   "execution_count": 5,
   "metadata": {},
   "outputs": [],
   "source": [
    "\n",
    "dtest = xgb.DMatrix(X_test)"
   ]
  },
  {
   "cell_type": "code",
   "execution_count": 9,
   "metadata": {},
   "outputs": [],
   "source": [
    "def run_model2(X_train, y_train, dtest, max_depth, n, eta, gamma):\n",
    "    dtrain = xgb.DMatrix(X_train, label=y_train)\n",
    "    param = {'max_depth':max_depth, 'objective':'multi:softmax', 'eta':eta, 'gamma':gamma, 'num_class':5, 'eval_metric':'merror'}\n",
    "    num_round = n\n",
    "    xgtrain = xgb.DMatrix(X_train, label=y_train)\n",
    "    watchlist = [ (xgtrain,'train'),(dtest,'eval')]\n",
    "    bst = xgb.train(param, xgtrain, num_round, watchlist,  early_stopping_rounds=10 , verbose_eval = False)\n",
    "    return bst"
   ]
  },
  {
   "cell_type": "code",
   "execution_count": 10,
   "metadata": {},
   "outputs": [],
   "source": [
    "def run_model(X_train, y_train, dtest, max_depth, n, eta, gamma):\n",
    "    dtrain = xgb.DMatrix(X_train, label=y_train)\n",
    "    param = {'max_depth':max_depth, 'objective':'multi:softmax', 'eta':eta, 'gamma':gamma, 'num_class':5}\n",
    "    num_round = n\n",
    "    bst = xgb.train(param, dtrain, num_round)\n",
    "    return bst"
   ]
  },
  {
   "cell_type": "code",
   "execution_count": 11,
   "metadata": {},
   "outputs": [
    {
     "name": "stdout",
     "output_type": "stream",
     "text": [
      "minimum_nights 0.276726347346246\n",
      "number_of_reviews 0.2556554853346297\n",
      "last_review 0.2871595919794625\n",
      "reviews_per_month 0.28282298782932047\n",
      "calculated_host_listings_count 0.2925328787452345\n",
      "availability_365 0.3130869986097963\n",
      "host_since 0.31143495893355166\n",
      "host_is_superhost 0.2739390101408114\n",
      "bathrooms 0.34283522673967365\n",
      "bedrooms 0.3689726564832109\n",
      "beds 0.3516152589787546\n",
      "bed_type 0.25452050763759176\n",
      "cleaning_fee 0.44303362928468476\n",
      "guests_included 0.31680717959215005\n",
      "extra_people 0.3021373316616773\n",
      "maximum_nights 0.2878832655289171\n",
      "instant_bookable 0.2547277588721439\n",
      "require_guest_profile_picture 0.2440871563936579\n",
      "require_guest_phone_verification 0.24336294979061654\n",
      "Da_hood_Agronomía 0.2547249869934925\n",
      "Da_hood_Almagro 0.26681091096725773\n",
      "Da_hood_Balvanera 0.26381642913798836\n",
      "Da_hood_Barracas 0.2564823580584909\n",
      "Da_hood_Belgrano 0.25782618615084135\n",
      "Da_hood_Boedo 0.2562730812203089\n",
      "Da_hood_Caballito 0.2588594572235158\n",
      "Da_hood_Chacarita 0.25493309111378354\n",
      "Da_hood_Coghlan 0.254622107651238\n",
      "Da_hood_Colegiales 0.24491296301034549\n",
      "Da_hood_Constitución 0.2561740398638795\n",
      "Da_hood_Flores 0.2563771332804544\n",
      "Da_hood_Floresta 0.24894103574444132\n",
      "Da_hood_La Boca 0.2555520729387884\n",
      "Da_hood_La Paternal 0.2547266927649703\n",
      "Da_hood_Liniers 0.24966289691170074\n",
      "Da_hood_Monserrat 0.25916820186099665\n",
      "Da_hood_Monte Castro 0.2418152820066696\n",
      "Da_hood_Nueva Pompeya 0.2547253068256446\n",
      "Da_hood_Núñez 0.25720315311857667\n",
      "Da_hood_Palermo 0.3080269341316344\n",
      "Da_hood_Parque Avellaneda 0.2495600175694462\n",
      "Da_hood_Parque Chacabuco 0.25555122005304953\n",
      "Da_hood_Parque Chas 0.25565612499893386\n",
      "Da_hood_Parque Patricios 0.25575815145544956\n",
      "Da_hood_Puerto Madero 0.25741147046030244\n",
      "Da_hood_Recoleta 0.2685670027036478\n",
      "Da_hood_Retiro 0.24987121425342645\n",
      "Da_hood_Saavedra 0.25586380267635545\n",
      "Da_hood_San Cristóbal 0.2548286126107685\n",
      "Da_hood_San Nicolás 0.2515236803725405\n",
      "Da_hood_San Telmo 0.2481134167455586\n",
      "Da_hood_Versalles 0.25472370766488417\n",
      "Da_hood_Villa Crespo 0.2620602307908809\n",
      "Da_hood_Villa Devoto 0.2500775059915223\n",
      "Da_hood_Villa General Mitre 0.2555528192138099\n",
      "Da_hood_Villa Luro 0.2494583109450827\n",
      "Da_hood_Villa Ortúzar 0.25648214483705617\n",
      "Da_hood_Villa Pueyrredón 0.2496633233545702\n",
      "Da_hood_Villa Santa Rita 0.2547243473291883\n",
      "Da_hood_Villa Urquiza 0.25482882583220323\n",
      "Da_hood_Villa del Parque 0.25441517624883797\n",
      "Cancel_flexible 0.2779655903248642\n",
      "Cancel_moderate 0.24264044895905293\n",
      "Cancel_strict_14_with_grace_period 0.28406137792219976\n",
      "Cancel_super_strict_30 0.25648278450136036\n",
      "Room_Entire home/apt 0.33839584985799454\n",
      "Room_Hotel room 0.2546228539262595\n",
      "Room_Private room 0.3376730291942789\n",
      "Room_Shared room 0.26092280104734367\n"
     ]
    }
   ],
   "source": [
    "from sklearn.model_selection import KFold\n",
    "from sklearn.metrics import accuracy_score\n",
    "accuracy = []\n",
    "std = []\n",
    "kf = KFold(n_splits = 10, shuffle=True)\n",
    "#print(features)\n",
    "y = np.concatenate([y_train], axis= 0)\n",
    "for feature in features:\n",
    "    X_train = train_data.loc[:,feature]\n",
    "    X = np.concatenate([X_train], axis= 0)\n",
    "    X = np.reshape(X, (len(X), 1))\n",
    "    accuracy_feature = []\n",
    "    for train, test in kf.split(X_train):\n",
    "        X_train_kf, X_test_kf = X[train],X[test]\n",
    "        \n",
    "        y_train_kf, y_test_kf = y[train],y[test]\n",
    "        \n",
    "        #print(len(y_test_kf))\n",
    "        #print(len(X_test_kf))\n",
    "        #print(X_test_kf)\n",
    "        \n",
    "        dtest_kf = xgb.DMatrix(X_test_kf, label=y_test_kf)\n",
    "        bst = run_model2(X_train_kf, y_train_kf, dtest_kf, 9, 300, 0.1, 1)\n",
    "        \n",
    "        ypred_test_kf = bst.predict(dtest_kf)\n",
    "        \n",
    "        accuracy_feature.append(accuracy_score(y_test_kf, ypred_test_kf))\n",
    "    print(feature, np.mean(accuracy_feature))\n",
    "    accuracy.append(np.mean(accuracy_feature))\n",
    "    std.append(np.mean(accuracy_feature))\n",
    "#bst = run_model(X_train, y_train, dtest, 9, 300, 0.1, 1)\n",
    "\n"
   ]
  },
  {
   "cell_type": "code",
   "execution_count": null,
   "metadata": {},
   "outputs": [],
   "source": [
    "from sklearn.model_selection import KFold\n",
    "from sklearn.metrics import accuracy_score\n",
    "\n",
    "list_max_depth = list(np.arange(1, 10))\n",
    "\n",
    "kf = KFold(n_splits = 10, shuffle=True)\n",
    "kf_accuracy = []\n",
    "depth_average = []\n",
    "depth_std = []\n",
    "X = np.concatenate([X_train], axis= 0)\n",
    "y = np.concatenate([y_train], axis= 0)\n",
    "\n",
    "for max_depth in list_max_depth: \n",
    "    print(max_depth)\n",
    "    i=0\n",
    "    accuracy_depth = []\n",
    "    for train, test in kf.split(X_train):\n",
    "        i+=1\n",
    "        print(i)\n",
    "        X_train_kf, X_test_kf = X[train],X[test]\n",
    "        y_train_kf, y_test_kf = y[train],y[test]\n",
    "        dtest_kf = xgb.DMatrix(X_test_kf, label=y_test_kf)\n",
    "        bst = run_model(X_train_kf, y_train_kf, dtest_kf, max_depth, 500, 0.05, 3)\n",
    "        \n",
    "        ypred_test_kf = bst.predict(dtest_kf)\n",
    "        \n",
    "        accuracy_depth.append(accuracy_score(y_test_kf, ypred_test_kf))\n",
    "    depth_average.append(np.mean(accuracy_depth))\n",
    "    depth_std.append(np.std(accuracy_depth))\n",
    "    print(np.mean(accuracy_depth))\n",
    "    print(np.std(accuracy_depth))\n",
    "    \n",
    "    "
   ]
  },
  {
   "cell_type": "code",
   "execution_count": null,
   "metadata": {},
   "outputs": [],
   "source": [
    "from sklearn.model_selection import KFold\n",
    "from sklearn.metrics import accuracy_score\n",
    "\n",
    "list_max_depth = [10,15,20,30]\n",
    "\n",
    "kf = KFold(n_splits = 5, shuffle=True)\n",
    "kf_accuracy = []\n",
    "depth_average = []\n",
    "depth_std = []\n",
    "X = np.concatenate([X_train], axis= 0)\n",
    "y = np.concatenate([y_train], axis= 0)\n",
    "\n",
    "for max_depth in list_max_depth: \n",
    "    print(max_depth)\n",
    "    i=0\n",
    "    accuracy_depth = []\n",
    "    for train, test in kf.split(X_train):\n",
    "        i+=1\n",
    "        print(i)\n",
    "        X_train_kf, X_test_kf = X[train],X[test]\n",
    "        y_train_kf, y_test_kf = y[train],y[test]\n",
    "        dtest_kf = xgb.DMatrix(X_test_kf, label=y_test_kf)\n",
    "        bst = run_model(X_train_kf, y_train_kf, dtest_kf, max_depth, 500, 0.05, 3)\n",
    "        \n",
    "        ypred_test_kf = bst.predict(dtest_kf)\n",
    "        \n",
    "        accuracy_depth.append(accuracy_score(y_test_kf, ypred_test_kf))\n",
    "    depth_average.append(np.mean(accuracy_depth))\n",
    "    depth_std.append(np.std(accuracy_depth))\n",
    "    print(np.mean(accuracy_depth))\n",
    "    print(np.std(accuracy_depth))\n",
    "    \n",
    "    "
   ]
  },
  {
   "cell_type": "code",
   "execution_count": null,
   "metadata": {},
   "outputs": [],
   "source": [
    "from sklearn.model_selection import KFold\n",
    "from sklearn.metrics import accuracy_score\n",
    "\n",
    "eta_list = [0.01,0.03,0.05,0.08,0.1,0.15,0.2,0.3]\n",
    "\n",
    "kf = KFold(n_splits = 5, shuffle=True)\n",
    "kf_accuracy = []\n",
    "eta_average = []\n",
    "eta_std = []\n",
    "X = np.concatenate([X_train], axis= 0)\n",
    "y = np.concatenate([y_train], axis= 0)\n",
    "\n",
    "for eta in eta_list: \n",
    "    eta_acc = []\n",
    "    print(eta)\n",
    "    i = 0\n",
    "    for train, test in kf.split(X_train):\n",
    "        i += 1\n",
    "        print(i)\n",
    "        X_train_kf, X_test_kf = X[train],X[test]\n",
    "        y_train_kf, y_test_kf = y[train],y[test]\n",
    "        dtest_kf = xgb.DMatrix(X_test_kf, label=y_test_kf)\n",
    "        bst = run_model(X_train_kf, y_train_kf, dtest_kf, 9, 500, eta, 3)\n",
    "        \n",
    "        ypred_test_kf = bst.predict(dtest_kf)\n",
    "        \n",
    "        eta_acc.append(accuracy_score(y_test_kf, ypred_test_kf))\n",
    "    eta_average.append(np.mean(eta_acc))\n",
    "    eta_std.append(np.std(eta_acc))\n",
    "    print(np.mean(eta_acc))\n",
    "    print(np.std(eta_acc))\n",
    "    \n",
    "    "
   ]
  },
  {
   "cell_type": "code",
   "execution_count": null,
   "metadata": {},
   "outputs": [],
   "source": [
    "from sklearn.model_selection import KFold\n",
    "from sklearn.metrics import accuracy_score\n",
    "\n",
    "gamma_list = [0.1, 0.5, 1, 2, 3, 5, 10, 20]\n",
    "\n",
    "kf = KFold(n_splits = 5, shuffle=True)\n",
    "kf_accuracy = []\n",
    "gamma_average = []\n",
    "gamma_std = []\n",
    "X = np.concatenate([X_train], axis= 0)\n",
    "y = np.concatenate([y_train], axis= 0)\n",
    "\n",
    "for gamma in gamma_list: \n",
    "    gamma_acc = []\n",
    "    print(gamma)\n",
    "    i = 0\n",
    "    for train, test in kf.split(X_train):\n",
    "        i += 1\n",
    "        print(i)\n",
    "        X_train_kf, X_test_kf = X[train],X[test]\n",
    "        y_train_kf, y_test_kf = y[train],y[test]\n",
    "        dtest_kf = xgb.DMatrix(X_test_kf, label=y_test_kf)\n",
    "        bst = run_model(X_train_kf, y_train_kf, dtest_kf, 9, 500, 0.1, gamma)\n",
    "        \n",
    "        ypred_test_kf = bst.predict(dtest_kf)\n",
    "        \n",
    "        gamma_acc.append(accuracy_score(y_test_kf, ypred_test_kf))\n",
    "    gamma_average.append(np.mean(gamma_acc))\n",
    "    gamma_std.append(np.std(gamma_acc))\n",
    "    \n",
    "    \n",
    "    "
   ]
  },
  {
   "cell_type": "code",
   "execution_count": null,
   "metadata": {},
   "outputs": [],
   "source": [
    "from sklearn.model_selection import KFold\n",
    "from sklearn.metrics import accuracy_score\n",
    "\n",
    "num_list = [50, 100, 150, 200, 300, 500, 1000]\n",
    "\n",
    "kf = KFold(n_splits = 5, shuffle=True)\n",
    "kf_accuracy = []\n",
    "num_average = []\n",
    "num_std = []\n",
    "X = np.concatenate([X_train], axis= 0)\n",
    "y = np.concatenate([y_train], axis= 0)\n",
    "\n",
    "for num in num_list: \n",
    "    num_acc = []\n",
    "    print(num)\n",
    "    i = 0\n",
    "    for train, test in kf.split(X_train):\n",
    "        i += 1\n",
    "        print(i)\n",
    "        X_train_kf, X_test_kf = X[train],X[test]\n",
    "        y_train_kf, y_test_kf = y[train],y[test]\n",
    "        dtest_kf = xgb.DMatrix(X_test_kf, label=y_test_kf)\n",
    "        bst = run_model(X_train_kf, y_train_kf, dtest_kf, 9, num, 0.1, 1)\n",
    "        \n",
    "        ypred_test_kf = bst.predict(dtest_kf)\n",
    "        \n",
    "        num_acc.append(accuracy_score(y_test_kf, ypred_test_kf))\n",
    "    num_average.append(np.mean(num_acc))\n",
    "    num_std.append(np.std(num_acc))\n",
    "    print(np.mean(num_acc))\n",
    "    print(np.std(num_acc))\n",
    "    \n",
    "    "
   ]
  },
  {
   "cell_type": "code",
   "execution_count": null,
   "metadata": {},
   "outputs": [],
   "source": [
    "print(num_average)\n",
    "print(num_std)"
   ]
  },
  {
   "cell_type": "code",
   "execution_count": null,
   "metadata": {},
   "outputs": [],
   "source": [
    "print(gamma_average)\n",
    "print(gamma_std)"
   ]
  },
  {
   "cell_type": "code",
   "execution_count": null,
   "metadata": {},
   "outputs": [],
   "source": [
    "print(eta_average)\n",
    "print(eta_std)"
   ]
  },
  {
   "cell_type": "code",
   "execution_count": null,
   "metadata": {},
   "outputs": [],
   "source": [
    "print(depth_average)\n",
    "print(depth_std)"
   ]
  },
  {
   "cell_type": "code",
   "execution_count": null,
   "metadata": {},
   "outputs": [],
   "source": [
    "bst = run_model(X_train, y_train, dtest, 9, 300, 0.1, 1)"
   ]
  },
  {
   "cell_type": "code",
   "execution_count": null,
   "metadata": {},
   "outputs": [],
   "source": [
    "dtrain = xgb.DMatrix(X_train, label=y_train)\n",
    "ypred_train = bst.predict(dtrain)\n",
    "print(ypred_train)"
   ]
  },
  {
   "cell_type": "code",
   "execution_count": null,
   "metadata": {},
   "outputs": [],
   "source": [
    "from sklearn.metrics import accuracy_score\n",
    "accuracy_score(y_train, ypred_train)"
   ]
  },
  {
   "cell_type": "code",
   "execution_count": null,
   "metadata": {},
   "outputs": [],
   "source": [
    "ypred_test = bst.predict(dtest)"
   ]
  },
  {
   "cell_type": "code",
   "execution_count": null,
   "metadata": {},
   "outputs": [],
   "source": [
    "plt.figure()\n",
    "plt.hist(ypred_test)\n",
    "plt.show()\n"
   ]
  },
  {
   "cell_type": "code",
   "execution_count": null,
   "metadata": {},
   "outputs": [],
   "source": [
    "df = pd.DataFrame\n",
    "test_labels['price'] = ypred_test\n",
    "test_labels['price'] = test_labels['price'].map(lambda x: int(x))"
   ]
  },
  {
   "cell_type": "code",
   "execution_count": null,
   "metadata": {},
   "outputs": [],
   "source": [
    "test_labels"
   ]
  },
  {
   "cell_type": "code",
   "execution_count": null,
   "metadata": {},
   "outputs": [],
   "source": [
    "test_labels.to_csv(r'./submission.csv', index=False)"
   ]
  },
  {
   "cell_type": "code",
   "execution_count": null,
   "metadata": {},
   "outputs": [],
   "source": []
  },
  {
   "cell_type": "code",
   "execution_count": null,
   "metadata": {},
   "outputs": [],
   "source": []
  }
 ],
 "metadata": {
  "environment": {
   "name": "common-cu110.m58",
   "type": "gcloud",
   "uri": "gcr.io/deeplearning-platform-release/base-cu110:m58"
  },
  "kernelspec": {
   "display_name": "Python 3",
   "language": "python",
   "name": "python3"
  },
  "language_info": {
   "codemirror_mode": {
    "name": "ipython",
    "version": 3
   },
   "file_extension": ".py",
   "mimetype": "text/x-python",
   "name": "python",
   "nbconvert_exporter": "python",
   "pygments_lexer": "ipython3",
   "version": "3.7.8"
  }
 },
 "nbformat": 4,
 "nbformat_minor": 4
}
