{
 "cells": [
  {
   "cell_type": "code",
   "execution_count": 1,
   "metadata": {},
   "outputs": [],
   "source": [
    "#import packages here\n",
    "import pandas as pd\n",
    "\n",
    "%matplotlib inline\n"
   ]
  },
  {
   "cell_type": "code",
   "execution_count": 2,
   "metadata": {},
   "outputs": [],
   "source": [
    "#import data here \n",
    "\n",
    "train_data = pd.read_csv('./train.csv')\n",
    "test_data = pd.read_csv('./test.csv')"
   ]
  },
  {
   "cell_type": "code",
   "execution_count": 3,
   "metadata": {},
   "outputs": [],
   "source": [
    "train_data['last_review'] = train_data['last_review'].\\\n",
    "map(lambda x: (int(x.split('/')[2]+x.split('/')[0])) if (int(x.split('/')[2])==20)\\\n",
    "else int(x.split('/')[2]))\n",
    "\n",
    "\n",
    "train_data['last_review'] = train_data['last_review'].map(lambda x: 17 if x<=17 else x)"
   ]
  },
  {
   "cell_type": "code",
   "execution_count": 4,
   "metadata": {},
   "outputs": [],
   "source": [
    "train_data['host_since'] = train_data['host_since'].\\\n",
    "map(lambda x: (int(x.split('/')[2])))\n",
    "2\n",
    "train_data['host_since'] = train_data['host_since'].map(lambda x: 11 if x<=11 else x)"
   ]
  },
  {
   "cell_type": "code",
   "execution_count": 5,
   "metadata": {},
   "outputs": [],
   "source": [
    "scale = [0,25,100, 500, 1250]\n",
    "for i in range(len(scale)-1):\n",
    "    train_data['maximum_nights'] = train_data['maximum_nights'].map(lambda x: scale[i] if x>=scale[i] and x<scale[i+1] else x)\n",
    "    \n",
    "train_data['maximum_nights'] = train_data['maximum_nights'].map(lambda x: 1250 if x>=1250  else x)"
   ]
  },
  {
   "cell_type": "code",
   "execution_count": 6,
   "metadata": {},
   "outputs": [],
   "source": [
    "scale = [0, 100,1000, 2400]\n",
    "for i in range(len(scale)-1):\n",
    "    train_data['cleaning_fee'] = train_data['cleaning_fee'].map(lambda x: scale[i] if x>=scale[i] and x<scale[i+1] else x)\n",
    "\n",
    "train_data['cleaning_fee'] = train_data['cleaning_fee'].map(lambda x: 2400 if x>=2400 else x)"
   ]
  },
  {
   "cell_type": "code",
   "execution_count": 7,
   "metadata": {},
   "outputs": [],
   "source": [
    "scale = [0, 50, 150, 250, 350]\n",
    "for i in range(len(scale)-1):\n",
    "    train_data['availability_365'] = train_data['availability_365'].map(lambda x: scale[i] if x>=scale[i] and x<scale[i+1] else x)\n",
    "\n",
    "train_data['availability_365'] = train_data['availability_365'].map(lambda x: 350 if x>=350 else x)"
   ]
  },
  {
   "cell_type": "code",
   "execution_count": 8,
   "metadata": {},
   "outputs": [],
   "source": [
    "scale = [0, 0.2, 0.5, 1, 2]\n",
    "for i in range(len(scale)-1):\n",
    "    train_data['reviews_per_month'] = train_data['reviews_per_month'].map(lambda x: scale[i] if x>=scale[i] and x<scale[i+1] else x)\n",
    "\n",
    "train_data['reviews_per_month'] = train_data['reviews_per_month'].map(lambda x: 2 if x>=2 else x)"
   ]
  },
  {
   "cell_type": "code",
   "execution_count": 9,
   "metadata": {},
   "outputs": [],
   "source": [
    "scale = [0, 2, 15, 50]\n",
    "for i in range(len(scale)-1):\n",
    "    train_data['number_of_reviews'] = train_data['number_of_reviews'].map(lambda x: scale[i] if x>=scale[i] and x<scale[i+1] else x)\n",
    "\n",
    "train_data['number_of_reviews'] = train_data['number_of_reviews'].map(lambda x: 50 if x>=50 else x)"
   ]
  },
  {
   "cell_type": "code",
   "execution_count": 10,
   "metadata": {},
   "outputs": [],
   "source": [
    "scale = [0, 1, 500, 1000]\n",
    "for i in range(len(scale)-1):\n",
    "    train_data['extra_people'] = train_data['extra_people'].map(lambda x: scale[i] if x>=scale[i] and x<scale[i+1] else x)\n",
    "\n",
    "train_data['extra_people'] = train_data['extra_people'].map(lambda x: 1000 if x>=1000 else x)"
   ]
  },
  {
   "cell_type": "code",
   "execution_count": 11,
   "metadata": {},
   "outputs": [],
   "source": [
    "train_data['minimum_nights'] = train_data['minimum_nights'].map(lambda x: 6 if x>=6 else x)\n",
    "\n",
    "train_data['calculated_host_listings_count'] = train_data['calculated_host_listings_count'].map(lambda x: 6 if x>=6 else x)\n",
    "\n",
    "train_data['bathrooms'] = train_data['bathrooms'].map(lambda x: 3 if x>=3 else x)\n",
    "\n",
    "train_data['bedrooms'] = train_data['bedrooms'].map(lambda x: 4 if x>=4 and x<7 else x)\n",
    "\n",
    "train_data['bedrooms'] = train_data['bedrooms'].map(lambda x: 7 if x>=7 else x)\n",
    "\n",
    "\n",
    "train_data['beds'] = train_data['beds'].map(lambda x: 5 if x>=5 else x)\n",
    "\n",
    "train_data['bed_type'] = train_data['bed_type'].map(lambda x: True if x== \"Real Bed\" else False)\n",
    "\n",
    "train_data['guests_included'] = train_data['guests_included'].map(lambda x: 6 if x>=6 else x)\n",
    "\n",
    "train_data['require_guest_profile_picture'] = train_data['require_guest_profile_picture'].map(lambda x: False if x==True else x)\n",
    "\n",
    "train_data['require_guest_phone_verification'] = train_data['require_guest_phone_verification'].map(lambda x: False if x==True else x)\n",
    "\n",
    "\n",
    "\n"
   ]
  },
  {
   "cell_type": "code",
   "execution_count": 12,
   "metadata": {},
   "outputs": [
    {
     "data": {
      "text/html": [
       "<div>\n",
       "<style scoped>\n",
       "    .dataframe tbody tr th:only-of-type {\n",
       "        vertical-align: middle;\n",
       "    }\n",
       "\n",
       "    .dataframe tbody tr th {\n",
       "        vertical-align: top;\n",
       "    }\n",
       "\n",
       "    .dataframe thead th {\n",
       "        text-align: right;\n",
       "    }\n",
       "</style>\n",
       "<table border=\"1\" class=\"dataframe\">\n",
       "  <thead>\n",
       "    <tr style=\"text-align: right;\">\n",
       "      <th></th>\n",
       "      <th>id</th>\n",
       "      <th>minimum_nights</th>\n",
       "      <th>number_of_reviews</th>\n",
       "      <th>last_review</th>\n",
       "      <th>reviews_per_month</th>\n",
       "      <th>calculated_host_listings_count</th>\n",
       "      <th>availability_365</th>\n",
       "      <th>host_since</th>\n",
       "      <th>host_is_superhost</th>\n",
       "      <th>bathrooms</th>\n",
       "      <th>...</th>\n",
       "      <th>Da_hood_3</th>\n",
       "      <th>Cancel_flexible</th>\n",
       "      <th>Cancel_moderate</th>\n",
       "      <th>Cancel_strict_14_with_grace_period</th>\n",
       "      <th>Cancel_super_strict_30</th>\n",
       "      <th>Cancel_super_strict_60</th>\n",
       "      <th>Room_Entire home/apt</th>\n",
       "      <th>Room_Hotel room</th>\n",
       "      <th>Room_Private room</th>\n",
       "      <th>Room_Shared room</th>\n",
       "    </tr>\n",
       "  </thead>\n",
       "  <tbody>\n",
       "    <tr>\n",
       "      <th>0</th>\n",
       "      <td>727</td>\n",
       "      <td>1</td>\n",
       "      <td>50</td>\n",
       "      <td>205</td>\n",
       "      <td>2.0</td>\n",
       "      <td>4</td>\n",
       "      <td>250</td>\n",
       "      <td>13</td>\n",
       "      <td>t</td>\n",
       "      <td>1.0</td>\n",
       "      <td>...</td>\n",
       "      <td>0</td>\n",
       "      <td>0</td>\n",
       "      <td>0</td>\n",
       "      <td>1</td>\n",
       "      <td>0</td>\n",
       "      <td>0</td>\n",
       "      <td>1</td>\n",
       "      <td>0</td>\n",
       "      <td>0</td>\n",
       "      <td>0</td>\n",
       "    </tr>\n",
       "    <tr>\n",
       "      <th>1</th>\n",
       "      <td>6274</td>\n",
       "      <td>1</td>\n",
       "      <td>2</td>\n",
       "      <td>19</td>\n",
       "      <td>0.5</td>\n",
       "      <td>1</td>\n",
       "      <td>0</td>\n",
       "      <td>14</td>\n",
       "      <td>t</td>\n",
       "      <td>1.0</td>\n",
       "      <td>...</td>\n",
       "      <td>1</td>\n",
       "      <td>0</td>\n",
       "      <td>1</td>\n",
       "      <td>0</td>\n",
       "      <td>0</td>\n",
       "      <td>0</td>\n",
       "      <td>0</td>\n",
       "      <td>0</td>\n",
       "      <td>1</td>\n",
       "      <td>0</td>\n",
       "    </tr>\n",
       "    <tr>\n",
       "      <th>2</th>\n",
       "      <td>6025</td>\n",
       "      <td>3</td>\n",
       "      <td>2</td>\n",
       "      <td>19</td>\n",
       "      <td>0.0</td>\n",
       "      <td>6</td>\n",
       "      <td>350</td>\n",
       "      <td>17</td>\n",
       "      <td>f</td>\n",
       "      <td>1.0</td>\n",
       "      <td>...</td>\n",
       "      <td>0</td>\n",
       "      <td>0</td>\n",
       "      <td>1</td>\n",
       "      <td>0</td>\n",
       "      <td>0</td>\n",
       "      <td>0</td>\n",
       "      <td>1</td>\n",
       "      <td>0</td>\n",
       "      <td>0</td>\n",
       "      <td>0</td>\n",
       "    </tr>\n",
       "    <tr>\n",
       "      <th>3</th>\n",
       "      <td>8931</td>\n",
       "      <td>2</td>\n",
       "      <td>0</td>\n",
       "      <td>19</td>\n",
       "      <td>0.0</td>\n",
       "      <td>1</td>\n",
       "      <td>250</td>\n",
       "      <td>19</td>\n",
       "      <td>f</td>\n",
       "      <td>1.0</td>\n",
       "      <td>...</td>\n",
       "      <td>0</td>\n",
       "      <td>1</td>\n",
       "      <td>0</td>\n",
       "      <td>0</td>\n",
       "      <td>0</td>\n",
       "      <td>0</td>\n",
       "      <td>1</td>\n",
       "      <td>0</td>\n",
       "      <td>0</td>\n",
       "      <td>0</td>\n",
       "    </tr>\n",
       "    <tr>\n",
       "      <th>4</th>\n",
       "      <td>7524</td>\n",
       "      <td>2</td>\n",
       "      <td>15</td>\n",
       "      <td>19</td>\n",
       "      <td>1.0</td>\n",
       "      <td>5</td>\n",
       "      <td>350</td>\n",
       "      <td>15</td>\n",
       "      <td>t</td>\n",
       "      <td>1.0</td>\n",
       "      <td>...</td>\n",
       "      <td>1</td>\n",
       "      <td>0</td>\n",
       "      <td>1</td>\n",
       "      <td>0</td>\n",
       "      <td>0</td>\n",
       "      <td>0</td>\n",
       "      <td>1</td>\n",
       "      <td>0</td>\n",
       "      <td>0</td>\n",
       "      <td>0</td>\n",
       "    </tr>\n",
       "  </tbody>\n",
       "</table>\n",
       "<p>5 rows × 34 columns</p>\n",
       "</div>"
      ],
      "text/plain": [
       "     id  minimum_nights  number_of_reviews  last_review  reviews_per_month  \\\n",
       "0   727               1                 50          205                2.0   \n",
       "1  6274               1                  2           19                0.5   \n",
       "2  6025               3                  2           19                0.0   \n",
       "3  8931               2                  0           19                0.0   \n",
       "4  7524               2                 15           19                1.0   \n",
       "\n",
       "   calculated_host_listings_count  availability_365  host_since  \\\n",
       "0                               4               250          13   \n",
       "1                               1                 0          14   \n",
       "2                               6               350          17   \n",
       "3                               1               250          19   \n",
       "4                               5               350          15   \n",
       "\n",
       "  host_is_superhost  bathrooms  ...  Da_hood_3  Cancel_flexible  \\\n",
       "0                 t        1.0  ...          0                0   \n",
       "1                 t        1.0  ...          1                0   \n",
       "2                 f        1.0  ...          0                0   \n",
       "3                 f        1.0  ...          0                1   \n",
       "4                 t        1.0  ...          1                0   \n",
       "\n",
       "   Cancel_moderate  Cancel_strict_14_with_grace_period  \\\n",
       "0                0                                   1   \n",
       "1                1                                   0   \n",
       "2                1                                   0   \n",
       "3                0                                   0   \n",
       "4                1                                   0   \n",
       "\n",
       "   Cancel_super_strict_30  Cancel_super_strict_60  Room_Entire home/apt  \\\n",
       "0                       0                       0                     1   \n",
       "1                       0                       0                     0   \n",
       "2                       0                       0                     1   \n",
       "3                       0                       0                     1   \n",
       "4                       0                       0                     1   \n",
       "\n",
       "  Room_Hotel room Room_Private room Room_Shared room  \n",
       "0               0                 0                0  \n",
       "1               0                 1                0  \n",
       "2               0                 0                0  \n",
       "3               0                 0                0  \n",
       "4               0                 0                0  \n",
       "\n",
       "[5 rows x 34 columns]"
      ]
     },
     "execution_count": 12,
     "metadata": {},
     "output_type": "execute_result"
    }
   ],
   "source": [
    "rooms = pd.get_dummies(train_data.room_type, prefix = 'Room')\n",
    "\n",
    "\n",
    "cancel = pd.get_dummies(train_data.cancellation_policy, prefix = 'Cancel')\n",
    "\n",
    "m = {\"Palermo\":1,\"Recoleta\":2}\n",
    "train_data['neighbourhood'] = train_data['neighbourhood'].map(lambda x: m.get(x) if m.get(x) != None else 3)\n",
    "hoods = pd.get_dummies(train_data.neighbourhood, prefix = 'Da_hood')\n",
    "train_data = train_data.drop(columns=['neighbourhood', 'cancellation_policy', 'room_type'])\n",
    "\n",
    "train_data = pd.concat([train_data, hoods, cancel, rooms], axis=1)\n",
    "train_data.head(5)\n",
    "\n"
   ]
  },
  {
   "cell_type": "code",
   "execution_count": 13,
   "metadata": {},
   "outputs": [],
   "source": [
    "train_data['host_is_superhost'] = train_data['host_is_superhost'].map(lambda x: True if x==\"f\" else False)\n",
    "train_data['instant_bookable'] = train_data['instant_bookable'].map(lambda x: True if x==\"f\" else False)\n"
   ]
  },
  {
   "cell_type": "code",
   "execution_count": 14,
   "metadata": {
    "scrolled": true
   },
   "outputs": [],
   "source": [
    "\n",
    "train_data = train_data.drop(columns=['is_business_travel_ready','require_guest_profile_picture','require_guest_phone_verification', 'Cancel_super_strict_30', 'Cancel_super_strict_60'])"
   ]
  },
  {
   "cell_type": "code",
   "execution_count": 15,
   "metadata": {},
   "outputs": [],
   "source": [
    "train_data.to_csv(r'./train_cleaned2.csv')"
   ]
  },
  {
   "cell_type": "code",
   "execution_count": 16,
   "metadata": {},
   "outputs": [],
   "source": [
    "test_data['last_review'] = test_data['last_review'].\\\n",
    "map(lambda x: (int(x.split('/')[2]+x.split('/')[0])) if (int(x.split('/')[2])==20)\\\n",
    "else int(x.split('/')[2]))\n",
    "\n",
    "\n",
    "test_data['last_review'] = test_data['last_review'].map(lambda x: 17 if x<=17 else x)"
   ]
  },
  {
   "cell_type": "code",
   "execution_count": 17,
   "metadata": {},
   "outputs": [],
   "source": [
    "test_data['host_since'] = test_data['host_since'].\\\n",
    "map(lambda x: (int(x.split('/')[2])))\n",
    "2\n",
    "test_data['host_since'] = test_data['host_since'].map(lambda x: 11 if x<=11 else x)"
   ]
  },
  {
   "cell_type": "code",
   "execution_count": 18,
   "metadata": {},
   "outputs": [],
   "source": [
    "scale = [0,25,100, 500, 1250]\n",
    "for i in range(len(scale)-1):\n",
    "    test_data['maximum_nights'] = test_data['maximum_nights'].map(lambda x: scale[i] if x>=scale[i] and x<scale[i+1] else x)\n",
    "    \n",
    "test_data['maximum_nights'] = test_data['maximum_nights'].map(lambda x: 1250 if x>=1250  else x)"
   ]
  },
  {
   "cell_type": "code",
   "execution_count": 19,
   "metadata": {},
   "outputs": [],
   "source": [
    "scale = [0, 1, 500, 1000]\n",
    "for i in range(len(scale)-1):\n",
    "    test_data['extra_people'] = test_data['extra_people'].map(lambda x: scale[i] if x>=scale[i] and x<scale[i+1] else x)\n",
    "\n",
    "test_data['extra_people'] = test_data['extra_people'].map(lambda x: 1000 if x>=1000 else x)"
   ]
  },
  {
   "cell_type": "code",
   "execution_count": 20,
   "metadata": {},
   "outputs": [],
   "source": [
    "scale = [0, 100,1000, 2400]\n",
    "for i in range(len(scale)-1):\n",
    "    test_data['cleaning_fee'] = test_data['cleaning_fee'].map(lambda x: scale[i] if x>=scale[i] and x<scale[i+1] else x)\n",
    "\n",
    "test_data['cleaning_fee'] = test_data['cleaning_fee'].map(lambda x: 2400 if x>=2400 else x)"
   ]
  },
  {
   "cell_type": "code",
   "execution_count": 21,
   "metadata": {},
   "outputs": [],
   "source": [
    "scale = [0, 50, 150, 250, 350]\n",
    "for i in range(len(scale)-1):\n",
    "    test_data['availability_365'] = test_data['availability_365'].map(lambda x: scale[i] if x>=scale[i] and x<scale[i+1] else x)\n",
    "\n",
    "test_data['availability_365'] = test_data['availability_365'].map(lambda x: 350 if x>=350 else x)"
   ]
  },
  {
   "cell_type": "code",
   "execution_count": 22,
   "metadata": {},
   "outputs": [],
   "source": [
    "scale = [0, 0.2, 0.5, 1, 2]\n",
    "for i in range(len(scale)-1):\n",
    "    test_data['reviews_per_month'] = test_data['reviews_per_month'].map(lambda x: scale[i] if x>=scale[i] and x<scale[i+1] else x)\n",
    "\n",
    "test_data['reviews_per_month'] = test_data['reviews_per_month'].map(lambda x: 2 if x>=2 else x)"
   ]
  },
  {
   "cell_type": "code",
   "execution_count": 23,
   "metadata": {},
   "outputs": [],
   "source": [
    "scale = [0, 2, 15, 50]\n",
    "for i in range(len(scale)-1):\n",
    "    test_data['number_of_reviews'] = test_data['number_of_reviews'].map(lambda x: scale[i] if x>=scale[i] and x<scale[i+1] else x)\n",
    "\n",
    "test_data['number_of_reviews'] = test_data['number_of_reviews'].map(lambda x: 50 if x>=50 else x)"
   ]
  },
  {
   "cell_type": "code",
   "execution_count": 24,
   "metadata": {},
   "outputs": [],
   "source": [
    "test_data['minimum_nights'] = test_data['minimum_nights'].map(lambda x: 6 if x>=6 else x)\n",
    "\n",
    "test_data['calculated_host_listings_count'] = test_data['calculated_host_listings_count'].map(lambda x: 6 if x>=6 else x)\n",
    "\n",
    "test_data['bathrooms'] = test_data['bathrooms'].map(lambda x: 3 if x>=3 else x)\n",
    "\n",
    "test_data['bedrooms'] = test_data['bedrooms'].map(lambda x: 4 if x>=4 and x<7 else x)\n",
    "\n",
    "test_data['bedrooms'] = test_data['bedrooms'].map(lambda x: 7 if x>=7 else x)\n",
    "\n",
    "\n",
    "test_data['beds'] = test_data['beds'].map(lambda x: 5 if x>=5 else x)\n",
    "\n",
    "test_data['bed_type'] = test_data['bed_type'].map(lambda x: True if x== \"Real Bed\" else False)\n",
    "\n",
    "test_data['guests_included'] = test_data['guests_included'].map(lambda x: 6 if x>=6 else x)\n",
    "\n",
    "test_data['require_guest_profile_picture'] = test_data['require_guest_profile_picture'].map(lambda x: False if x==True else x)\n",
    "\n",
    "test_data['require_guest_phone_verification'] = test_data['require_guest_phone_verification'].map(lambda x: False if x==True else x)\n",
    "\n",
    "\n",
    "\n"
   ]
  },
  {
   "cell_type": "code",
   "execution_count": 25,
   "metadata": {},
   "outputs": [],
   "source": [
    "rooms = pd.get_dummies(test_data.room_type, prefix = 'Room')\n",
    "\n",
    "\n",
    "cancel = pd.get_dummies(test_data.cancellation_policy, prefix = 'Cancel')\n",
    "\n",
    "m = {\"Palermo\":1,\"Recoleta\":2}\n",
    "test_data['neighbourhood'] = test_data['neighbourhood'].map(lambda x: m.get(x) if m.get(x) != None else 3)\n",
    "hoods = pd.get_dummies(test_data.neighbourhood, prefix = 'Da_hood')\n",
    "test_data = test_data.drop(columns=['neighbourhood', 'cancellation_policy', 'room_type'])\n",
    "\n",
    "test_data = pd.concat([test_data, hoods, cancel, rooms], axis=1)\n",
    "\n"
   ]
  },
  {
   "cell_type": "code",
   "execution_count": 26,
   "metadata": {},
   "outputs": [],
   "source": [
    "test_data['host_is_superhost'] = test_data['host_is_superhost'].map(lambda x: True if x==\"f\" else False)\n",
    "test_data['instant_bookable'] = test_data['instant_bookable'].map(lambda x: True if x==\"f\" else False)\n"
   ]
  },
  {
   "cell_type": "code",
   "execution_count": 27,
   "metadata": {},
   "outputs": [],
   "source": [
    "test_data = test_data.drop(columns=['is_business_travel_ready','require_guest_profile_picture','require_guest_phone_verification', 'Cancel_super_strict_30'])"
   ]
  },
  {
   "cell_type": "code",
   "execution_count": 28,
   "metadata": {},
   "outputs": [],
   "source": [
    "test_data.to_csv(r'./test_cleaned2.csv')"
   ]
  },
  {
   "cell_type": "code",
   "execution_count": 29,
   "metadata": {},
   "outputs": [
    {
     "name": "stdout",
     "output_type": "stream",
     "text": [
      "(4149, 28)\n",
      "(9681, 29)\n",
      "Index(['id', 'minimum_nights', 'number_of_reviews', 'last_review',\n",
      "       'reviews_per_month', 'calculated_host_listings_count',\n",
      "       'availability_365', 'host_since', 'host_is_superhost', 'bathrooms',\n",
      "       'bedrooms', 'beds', 'bed_type', 'cleaning_fee', 'guests_included',\n",
      "       'extra_people', 'maximum_nights', 'instant_bookable', 'price',\n",
      "       'Da_hood_1', 'Da_hood_2', 'Da_hood_3', 'Cancel_flexible',\n",
      "       'Cancel_moderate', 'Cancel_strict_14_with_grace_period',\n",
      "       'Room_Entire home/apt', 'Room_Hotel room', 'Room_Private room',\n",
      "       'Room_Shared room'],\n",
      "      dtype='object')\n",
      "Index(['id', 'minimum_nights', 'number_of_reviews', 'last_review',\n",
      "       'reviews_per_month', 'calculated_host_listings_count',\n",
      "       'availability_365', 'host_since', 'host_is_superhost', 'bathrooms',\n",
      "       'bedrooms', 'beds', 'bed_type', 'cleaning_fee', 'guests_included',\n",
      "       'extra_people', 'maximum_nights', 'instant_bookable', 'Da_hood_1',\n",
      "       'Da_hood_2', 'Da_hood_3', 'Cancel_flexible', 'Cancel_moderate',\n",
      "       'Cancel_strict_14_with_grace_period', 'Room_Entire home/apt',\n",
      "       'Room_Hotel room', 'Room_Private room', 'Room_Shared room'],\n",
      "      dtype='object')\n"
     ]
    }
   ],
   "source": [
    "print(test_data.shape)\n",
    "print(train_data.shape)\n",
    "\n",
    "print(train_data.columns)\n",
    "print(test_data.columns)"
   ]
  },
  {
   "cell_type": "code",
   "execution_count": null,
   "metadata": {},
   "outputs": [],
   "source": []
  }
 ],
 "metadata": {
  "kernelspec": {
   "display_name": "Python 3",
   "language": "python",
   "name": "python3"
  },
  "language_info": {
   "codemirror_mode": {
    "name": "ipython",
    "version": 3
   },
   "file_extension": ".py",
   "mimetype": "text/x-python",
   "name": "python",
   "nbconvert_exporter": "python",
   "pygments_lexer": "ipython3",
   "version": "3.7.4"
  }
 },
 "nbformat": 4,
 "nbformat_minor": 4
}
