{
 "cells": [
  {
   "cell_type": "code",
   "execution_count": 2,
   "metadata": {},
   "outputs": [],
   "source": [
    "#import packages (but i forgot some so they're imported later :))\n",
    "from sklearn.model_selection import KFold\n",
    "from sklearn.metrics import accuracy_score\n",
    "import pandas as pd\n",
    "import numpy as np\n",
    "import matplotlib.pyplot as plt"
   ]
  },
  {
   "cell_type": "code",
   "execution_count": 3,
   "metadata": {},
   "outputs": [],
   "source": [
    "#import data here \n",
    "\n",
    "train_data = pd.read_csv('./train_noclean_prices.csv')\n",
    "test_data = pd.read_csv('./test_noclean_prices.csv')\n",
    "\n",
    "y_train = train_data.loc[:,'price']\n",
    "train_data = train_data.drop(columns='price')\n",
    "num_features = len(train_data.columns)\n",
    "features = list(train_data.columns[2:num_features])\n",
    "X_train = train_data.loc[:,features]\n",
    "\n",
    "features = list(test_data.columns[2:num_features])\n",
    "\n",
    "X_test = test_data.loc[:,features]\n",
    "test_labels = test_data.loc[:,'id']\n",
    "\n",
    "test_labels = test_labels.to_frame()"
   ]
  },
  {
   "cell_type": "code",
   "execution_count": null,
   "metadata": {},
   "outputs": [
    {
     "name": "stdout",
     "output_type": "stream",
     "text": [
      "1\n",
      "2\n",
      "3\n",
      "4\n",
      "5\n",
      "6\n",
      "7\n",
      "8\n",
      "9\n",
      "10\n",
      "11\n",
      "36\n",
      "37\n",
      "38\n",
      "39\n",
      "40\n",
      "41\n",
      "42\n",
      "43\n",
      "44\n",
      "45\n",
      "46\n",
      "47\n",
      "48\n",
      "49\n",
      "50\n",
      "51\n",
      "52\n",
      "53\n",
      "54\n",
      "55\n",
      "56\n",
      "57\n",
      "58\n",
      "59\n",
      "60\n",
      "61\n",
      "62\n",
      "63\n",
      "64\n",
      "65\n",
      "66\n",
      "67\n",
      "68\n"
     ]
    }
   ],
   "source": [
    "#train random forest\n",
    "from sklearn.ensemble import RandomForestClassifier\n",
    "#kfold of 10\n",
    "kf = KFold(n_splits = 10, shuffle=True)\n",
    "\n",
    "n_estimators = [100, 200, 300, 500, 800, 1000, 1500, 2000]\n",
    "X = np.concatenate([X_train], axis= 0)\n",
    "y = np.concatenate([y_train], axis= 0)\n",
    "train2 = []\n",
    "test2 = []\n",
    "import time\n",
    "start = time.time()\n",
    "i=0\n",
    "for var in n_estimators:\n",
    "    train_accuracy_score = []\n",
    "    test_accuracy_score = []\n",
    "    for train, test in kf.split(X_train):\n",
    "        i= i+1\n",
    "        print(i)\n",
    "        X_train_kf, X_test_kf = X[train],X[test]\n",
    "        y_train_kf, y_test_kf = y[train],y[test]\n",
    "\n",
    "        params = {'n_estimators': var, 'min_samples_split': 5, 'min_samples_leaf': 1, 'max_features': 'auto', 'max_depth': 20, 'criterion': 'gini', 'bootstrap': False, 'n_jobs':-1}   \n",
    "        clf = RandomForestClassifier()\n",
    "        clf.set_params(**params)\n",
    "        clf.fit(X_train_kf,y_train_kf)\n",
    "        accuracy2 = clf.score(X_test_kf, y_test_kf)\n",
    "        accuracy = clf.score(X_train_kf, y_train_kf)\n",
    "        train_accuracy_score.append(accuracy)\n",
    "        test_accuracy_score.append(accuracy2)\n",
    "    #accuracy for each max_depth    \n",
    "    test2.append(np.mean(test_accuracy_score))\n",
    "    train2.append(np.mean(train_accuracy_score))\n",
    "end = time.time()\n",
    "print(end-start)\n",
    "lw=2\n",
    "#plot train and test CV error\n",
    "plt.figure()\n",
    "plt.plot(n_estimators, test2, color='darkorange',\n",
    "             lw=lw, label='Test Accuracy')\n",
    "plt.plot(n_estimators, train2, color='darkblue',\n",
    "             lw=lw, label='Train Accuracy')\n",
    "plt.xlabel('N Estimators')\n",
    "plt.ylabel('CV Accuracy')\n",
    "plt.title('Random Forest Hyperparameter Training')\n",
    "plt.show()\n"
   ]
  },
  {
   "cell_type": "code",
   "execution_count": 12,
   "metadata": {},
   "outputs": [
    {
     "data": {
      "image/png": "[encoded data removed]",
      "text/plain": [
       "<Figure size 432x288 with 1 Axes>"
      ]
     },
     "metadata": {
      "needs_background": "light"
     },
     "output_type": "display_data"
    }
   ],
   "source": [
    "#plot train and test error \n",
    "lw=2\n",
    "plt.figure()\n",
    "plt.plot(n_estimators, test2, color='darkorange',\n",
    "             lw=lw, label='Test Accuracy')\n",
    "plt.plot(n_estimators, train2, color='darkblue',\n",
    "             lw=lw, label='Train Accuracy')\n",
    "plt.xlabel('N Estimators')\n",
    "plt.ylabel('CV Accuracy')\n",
    "plt.title('Random Forest Hyperparameter Training')\n",
    "plt.legend()\n",
    "\n",
    "plt.show()\n",
    "\n"
   ]
  },
  {
   "cell_type": "code",
   "execution_count": 10,
   "metadata": {},
   "outputs": [
    {
     "name": "stdout",
     "output_type": "stream",
     "text": [
      "[0.5519052401299798, 0.5543852186372591, 0.5562440831051864, 0.5577933500498938, 0.5565527211319499, 0.5614118244078841, 0.5602726888928691, 0.5562455756552295]\n"
     ]
    }
   ],
   "source": [
    "print(test2)"
   ]
  },
  {
   "cell_type": "code",
   "execution_count": 13,
   "metadata": {},
   "outputs": [
    {
     "name": "stdout",
     "output_type": "stream",
     "text": [
      "1\n",
      "2\n",
      "25\n",
      "26\n",
      "27\n",
      "28\n",
      "29\n",
      "30\n",
      "31\n",
      "32\n",
      "33\n",
      "34\n",
      "35\n",
      "36\n",
      "37\n",
      "38\n",
      "39\n",
      "40\n",
      "41\n",
      "42\n",
      "43\n",
      "44\n",
      "45\n",
      "46\n",
      "47\n",
      "48\n",
      "49\n",
      "50\n",
      "51\n",
      "52\n",
      "53\n",
      "54\n",
      "55\n",
      "56\n",
      "57\n",
      "58\n",
      "59\n",
      "60\n",
      "61\n",
      "62\n",
      "63\n",
      "64\n",
      "65\n",
      "66\n",
      "67\n",
      "68\n",
      "69\n",
      "70\n",
      "71\n",
      "72\n",
      "73\n",
      "74\n",
      "75\n",
      "76\n",
      "77\n",
      "78\n",
      "79\n",
      "80\n",
      "473.5758900642395\n"
     ]
    },
    {
     "data": {
      "image/png": "[encoded data removed]",
      "text/plain": [
       "<Figure size 432x288 with 1 Axes>"
      ]
     },
     "metadata": {
      "needs_background": "light"
     },
     "output_type": "display_data"
    }
   ],
   "source": [
    "from sklearn.ensemble import RandomForestClassifier\n",
    "\n",
    "kf = KFold(n_splits = 10, shuffle=True)\n",
    "\n",
    "n_estimators = [1, 2, 4, 8, 10, 20, 25, 30]\n",
    "X = np.concatenate([X_train], axis= 0)\n",
    "y = np.concatenate([y_train], axis= 0)\n",
    "train2 = []\n",
    "test2 = []\n",
    "import time\n",
    "start = time.time()\n",
    "i=0\n",
    "for var in n_estimators:\n",
    "    train_accuracy_score = []\n",
    "    test_accuracy_score = []\n",
    "    for train, test in kf.split(X_train):\n",
    "        i= i+1\n",
    "        print(i)\n",
    "        X_train_kf, X_test_kf = X[train],X[test]\n",
    "        y_train_kf, y_test_kf = y[train],y[test]\n",
    "\n",
    "        params = {'n_estimators': 1500, 'min_samples_split': 5, 'min_samples_leaf': 1, 'max_features': 'auto', 'max_depth': var, 'criterion': 'gini', 'bootstrap': False, 'n_jobs':-1}   \n",
    "        clf = RandomForestClassifier()\n",
    "        clf.set_params(**params)\n",
    "        clf.fit(X_train_kf,y_train_kf)\n",
    "        accuracy2 = clf.score(X_test_kf, y_test_kf)\n",
    "        accuracy = clf.score(X_train_kf, y_train_kf)\n",
    "        train_accuracy_score.append(accuracy)\n",
    "        test_accuracy_score.append(accuracy2)\n",
    "        \n",
    "    test2.append(np.mean(test_accuracy_score))\n",
    "    train2.append(np.mean(train_accuracy_score))\n",
    "end = time.time()\n",
    "print(end-start)\n",
    "lw=2\n",
    "plt.figure()\n",
    "plt.plot(n_estimators, test2, color='darkorange',\n",
    "             lw=lw, label='Test Accuracy')\n",
    "plt.plot(n_estimators, train2, color='darkblue',\n",
    "             lw=lw, label='Train Accuracy')\n",
    "plt.xlabel('Max Depth')\n",
    "plt.ylabel('CV Accuracy')\n",
    "plt.title('Random Forest Hyperparameter Training')\n",
    "plt.show()\n"
   ]
  },
  {
   "cell_type": "code",
   "execution_count": 14,
   "metadata": {},
   "outputs": [
    {
     "data": {
      "image/png": "[encoded data removed]",
      "text/plain": [
       "<Figure size 432x288 with 1 Axes>"
      ]
     },
     "metadata": {
      "needs_background": "light"
     },
     "output_type": "display_data"
    }
   ],
   "source": [
    "#added legend\n",
    "plt.figure()\n",
    "plt.plot(n_estimators, test2, color='darkorange',\n",
    "             lw=lw, label='Test Accuracy')\n",
    "plt.plot(n_estimators, train2, color='darkblue',\n",
    "             lw=lw, label='Train Accuracy')\n",
    "plt.xlabel('Max Depth')\n",
    "plt.ylabel('CV Accuracy')\n",
    "plt.title('Random Forest Hyperparameter Training')\n",
    "plt.legend()\n",
    "plt.show()"
   ]
  },
  {
   "cell_type": "code",
   "execution_count": 19,
   "metadata": {},
   "outputs": [
    {
     "name": "stdout",
     "output_type": "stream",
     "text": [
      "1\n",
      "2\n",
      "3\n",
      "4\n",
      "5\n",
      "6\n",
      "7\n",
      "8\n",
      "9\n",
      "10\n",
      "11\n",
      "12\n",
      "13\n",
      "14\n",
      "15\n",
      "16\n",
      "17\n",
      "18\n",
      "19\n",
      "20\n",
      "21\n",
      "22\n",
      "23\n",
      "24\n",
      "25\n",
      "26\n",
      "27\n",
      "28\n",
      "29\n",
      "30\n",
      "31\n",
      "32\n",
      "33\n",
      "34\n",
      "35\n",
      "36\n",
      "37\n",
      "38\n",
      "39\n",
      "40\n",
      "41\n",
      "42\n",
      "43\n",
      "44\n",
      "45\n",
      "46\n",
      "47\n",
      "48\n",
      "49\n",
      "50\n",
      "51\n",
      "52\n",
      "53\n",
      "54\n",
      "55\n",
      "56\n",
      "57\n",
      "58\n",
      "59\n",
      "60\n",
      "61\n",
      "62\n",
      "63\n",
      "64\n",
      "65\n",
      "66\n",
      "67\n",
      "68\n",
      "69\n",
      "70\n",
      "71\n",
      "72\n",
      "73\n",
      "74\n",
      "75\n",
      "76\n",
      "77\n",
      "78\n",
      "79\n",
      "80\n",
      "603.5092632770538\n"
     ]
    },
    {
     "data": {
      "image/png": "[encoded data removed]",
      "text/plain": [
       "<Figure size 432x288 with 1 Axes>"
      ]
     },
     "metadata": {
      "needs_background": "light"
     },
     "output_type": "display_data"
    }
   ],
   "source": [
    "#calculate CV score for each max_depth \n",
    "import lightgbm as lgb\n",
    "kf = KFold(n_splits = 10, shuffle=True)\n",
    "\n",
    "n_estimators = [1, 2, 4, 8, 10, 20, 25, 30]\n",
    "X = np.concatenate([X_train], axis= 0)\n",
    "y = np.concatenate([y_train], axis= 0)\n",
    "train2 = []\n",
    "test2 = []\n",
    "import time\n",
    "start = time.time()\n",
    "i=0\n",
    "for var in n_estimators:\n",
    "    train_accuracy_score = []\n",
    "    test_accuracy_score = []\n",
    "    for train, test in kf.split(X_train):\n",
    "        i= i+1\n",
    "        print(i)\n",
    "        X_train_kf, X_test_kf = X[train],X[test]\n",
    "        y_train_kf, y_test_kf = y[train],y[test]\n",
    "\n",
    "        best_param = {'verbose':-1,'boosting_type':'gbdt',  'objective':'multiclass', 'num_class':5, 'metric':'multi_error','subsample_freq': 20, 'subsample': 0.8, 'reg_lambda': 0.8, 'reg_alpha': 0.5, 'num_leaves': 30, 'n_estimators': 1500, 'min_split_gain': 0.3, 'min_data_in_leaf': 15, 'max_depth': var, 'learning_rate': 0.01, 'colsample_bytree': 0.8}\n",
    "        d_train=lgb.Dataset(X_train_kf, y_train_kf)\n",
    "        clf=lgb.train(best_param,d_train)\n",
    "        y_pred1= clf.predict(X_train_kf)\n",
    "        y_pred1 = [np.argmax(line) for line in y_pred1]\n",
    "        y_pred2 = clf.predict(X_test_kf)\n",
    "        y_pred2 = [np.argmax(line) for line in y_pred2]\n",
    "        \n",
    "        accuracy2 = accuracy_score(y_train_kf, y_pred1)\n",
    "        accuracy = accuracy_score(y_test_kf, y_pred2)\n",
    "        train_accuracy_score.append(accuracy)\n",
    "        test_accuracy_score.append(accuracy2)\n",
    "        \n",
    "    test2.append(np.mean(test_accuracy_score))\n",
    "    train2.append(np.mean(train_accuracy_score))\n",
    "end = time.time()\n",
    "print(end-start)\n",
    "lw=2\n",
    "plt.figure()\n",
    "plt.plot(n_estimators, test2, color='darkorange',\n",
    "             lw=lw, label='Test Accuracy')\n",
    "plt.plot(n_estimators, train2, color='darkblue',\n",
    "             lw=lw, label='Train Accuracy')\n",
    "plt.xlabel('Max Depth')\n",
    "plt.ylabel('CV Accuracy')\n",
    "plt.title('Random Forest Hyperparameter Training')\n",
    "plt.show()\n"
   ]
  },
  {
   "cell_type": "code",
   "execution_count": 21,
   "metadata": {},
   "outputs": [
    {
     "data": {
      "image/png": "[encoded data removed]",
      "text/plain": [
       "<Figure size 432x288 with 1 Axes>"
      ]
     },
     "metadata": {
      "needs_background": "light"
     },
     "output_type": "display_data"
    }
   ],
   "source": [
    "lw=2\n",
    "plt.figure()\n",
    "plt.plot(n_estimators, test2, color='darkorange',\n",
    "             lw=lw, label='Train Accuracy')\n",
    "plt.plot(n_estimators, train2, color='darkblue',\n",
    "             lw=lw, label='Test Accuracy')\n",
    "plt.xlabel('Max Depth')\n",
    "plt.ylabel('CV Accuracy')\n",
    "plt.title('Light GBM Hyperparameter Training')\n",
    "plt.legend()\n",
    "plt.show()\n"
   ]
  },
  {
   "cell_type": "code",
   "execution_count": null,
   "metadata": {},
   "outputs": [],
   "source": []
  }
 ],
 "metadata": {
  "environment": {
   "name": "common-cpu.m59",
   "type": "gcloud",
   "uri": "gcr.io/deeplearning-platform-release/base-cpu:m59"
  },
  "kernelspec": {
   "display_name": "Python 3",
   "language": "python",
   "name": "python3"
  },
  "language_info": {
   "codemirror_mode": {
    "name": "ipython",
    "version": 3
   },
   "file_extension": ".py",
   "mimetype": "text/x-python",
   "name": "python",
   "nbconvert_exporter": "python",
   "pygments_lexer": "ipython3",
   "version": "3.7.8"
  }
 },
 "nbformat": 4,
 "nbformat_minor": 4
}
